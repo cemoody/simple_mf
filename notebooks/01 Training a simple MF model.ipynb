{
  "nbformat": 4,
  "nbformat_minor": 0,
  "metadata": {
    "celltoolbar": "Slideshow",
    "kernelspec": {
      "display_name": "Python 3",
      "language": "python",
      "name": "python3"
    },
    "language_info": {
      "codemirror_mode": {
        "name": "ipython",
        "version": 3
      },
      "file_extension": ".py",
      "mimetype": "text/x-python",
      "name": "python",
      "nbconvert_exporter": "python",
      "pygments_lexer": "ipython3",
      "version": "3.6.5"
    },
    "colab": {
      "name": "01 Training a simple MF model.ipynb",
      "provenance": [],
      "collapsed_sections": []
    }
  },
  "cells": [
    {
      "cell_type": "markdown",
      "metadata": {
        "id": "-iA_qC5BAv6w",
        "colab_type": "text"
      },
      "source": [
        "### Load preprocessed data"
      ]
    },
    {
      "cell_type": "code",
      "metadata": {
        "id": "-GsUVvJrBs2N",
        "colab_type": "code",
        "colab": {}
      },
      "source": [
        "import os.path\n",
        "import numpy as np\n",
        "import pandas as pd\n",
        "import requests\n",
        "from zipfile import ZipFile"
      ],
      "execution_count": 0,
      "outputs": []
    },
    {
      "cell_type": "code",
      "metadata": {
        "id": "0yb1L5FZBBYe",
        "colab_type": "code",
        "outputId": "61b4c887-fcd4-4b4a-863e-b48eabb12e7c",
        "colab": {
          "base_uri": "https://localhost:8080/",
          "height": 751
        }
      },
      "source": [
        "!rm -rdf loader* data/* data*\n",
        "!wget https://raw.githubusercontent.com/cemoody/simple_mf/master/notebooks/loader.py\n",
        "!mkdir data\n",
        "!wget https://www.dropbox.com/s/msqzmmaog5bstm4/dataset.npz?dl=0\n",
        "!mv dataset.npz?dl=0 data/dataset.npz\n",
        "!pip install pytorch-ignite tensorboardX"
      ],
      "execution_count": 3,
      "outputs": [
        {
          "output_type": "stream",
          "text": [
            "--2019-11-18 16:38:30--  https://raw.githubusercontent.com/cemoody/simple_mf/master/notebooks/loader.py\n",
            "Resolving raw.githubusercontent.com (raw.githubusercontent.com)... 151.101.0.133, 151.101.64.133, 151.101.128.133, ...\n",
            "Connecting to raw.githubusercontent.com (raw.githubusercontent.com)|151.101.0.133|:443... connected.\n",
            "HTTP request sent, awaiting response... 200 OK\n",
            "Length: 1014 [text/plain]\n",
            "Saving to: ‘loader.py’\n",
            "\n",
            "\rloader.py             0%[                    ]       0  --.-KB/s               \rloader.py           100%[===================>]    1014  --.-KB/s    in 0s      \n",
            "\n",
            "2019-11-18 16:38:30 (194 MB/s) - ‘loader.py’ saved [1014/1014]\n",
            "\n",
            "--2019-11-18 16:38:31--  https://www.dropbox.com/s/msqzmmaog5bstm4/dataset.npz?dl=0\n",
            "Resolving www.dropbox.com (www.dropbox.com)... 162.125.8.1, 2620:100:6018:1::a27d:301\n",
            "Connecting to www.dropbox.com (www.dropbox.com)|162.125.8.1|:443... connected.\n",
            "HTTP request sent, awaiting response... 301 Moved Permanently\n",
            "Location: /s/raw/msqzmmaog5bstm4/dataset.npz [following]\n",
            "--2019-11-18 16:38:31--  https://www.dropbox.com/s/raw/msqzmmaog5bstm4/dataset.npz\n",
            "Reusing existing connection to www.dropbox.com:443.\n",
            "HTTP request sent, awaiting response... 302 Found\n",
            "Location: https://ucf8ba1f84d02d8d35cee18760a7.dl.dropboxusercontent.com/cd/0/inline/Asl53ksh8jhEDQONcVjdVfLN2d63__UcpRYP5fWlQc0Xh4z7o7a49V3hTMQbjP5WGYa_4XL-dt43-QGfJj2E1J0NqxlEMrknwFD0VOPANnJ_Vg/file# [following]\n",
            "--2019-11-18 16:38:32--  https://ucf8ba1f84d02d8d35cee18760a7.dl.dropboxusercontent.com/cd/0/inline/Asl53ksh8jhEDQONcVjdVfLN2d63__UcpRYP5fWlQc0Xh4z7o7a49V3hTMQbjP5WGYa_4XL-dt43-QGfJj2E1J0NqxlEMrknwFD0VOPANnJ_Vg/file\n",
            "Resolving ucf8ba1f84d02d8d35cee18760a7.dl.dropboxusercontent.com (ucf8ba1f84d02d8d35cee18760a7.dl.dropboxusercontent.com)... 162.125.3.6, 2620:100:601b:6::a27d:806\n",
            "Connecting to ucf8ba1f84d02d8d35cee18760a7.dl.dropboxusercontent.com (ucf8ba1f84d02d8d35cee18760a7.dl.dropboxusercontent.com)|162.125.3.6|:443... connected.\n",
            "HTTP request sent, awaiting response... 302 FOUND\n",
            "Location: /cd/0/inline2/AskUs7Bqkb6hrsTLb5kdISnyqe_uvhWzlZt6-GA0yPMCjYQ5zY5r-AEYvYVQO_nObooZoEMl97zQOY9KVvMwyZTpN3HhoiCUiKGXvNj3upQuJOfwTF8U5l46ou82b5bKm_LzXsdJnVtBS2AHwxptwVji_4cSFVMSl8loQA9GHczHRuUwSm7X65mWB6GBBtAzoH1qBagEqh7RZfYN8N8dhWhZNJ1ojoiHWr2WYKXorRMYLqy3lWxFAkXWJiTP9xPG5qrb5C2vjm0HHksRRG9uQijhjq3FpcsWjfgBNHwGE6r7laWt0UAkeuJNCea7r2FvPic0VMVgxQyGvzoN6XXmcUkB/file [following]\n",
            "--2019-11-18 16:38:33--  https://ucf8ba1f84d02d8d35cee18760a7.dl.dropboxusercontent.com/cd/0/inline2/AskUs7Bqkb6hrsTLb5kdISnyqe_uvhWzlZt6-GA0yPMCjYQ5zY5r-AEYvYVQO_nObooZoEMl97zQOY9KVvMwyZTpN3HhoiCUiKGXvNj3upQuJOfwTF8U5l46ou82b5bKm_LzXsdJnVtBS2AHwxptwVji_4cSFVMSl8loQA9GHczHRuUwSm7X65mWB6GBBtAzoH1qBagEqh7RZfYN8N8dhWhZNJ1ojoiHWr2WYKXorRMYLqy3lWxFAkXWJiTP9xPG5qrb5C2vjm0HHksRRG9uQijhjq3FpcsWjfgBNHwGE6r7laWt0UAkeuJNCea7r2FvPic0VMVgxQyGvzoN6XXmcUkB/file\n",
            "Reusing existing connection to ucf8ba1f84d02d8d35cee18760a7.dl.dropboxusercontent.com:443.\n",
            "HTTP request sent, awaiting response... 200 OK\n",
            "Length: 60015046 (57M) [application/octet-stream]\n",
            "Saving to: ‘dataset.npz?dl=0’\n",
            "\n",
            "dataset.npz?dl=0    100%[===================>]  57.23M  13.4MB/s    in 5.0s    \n",
            "\n",
            "2019-11-18 16:38:38 (11.4 MB/s) - ‘dataset.npz?dl=0’ saved [60015046/60015046]\n",
            "\n",
            "Requirement already satisfied: pytorch-ignite in /usr/local/lib/python3.6/dist-packages (0.2.1)\n",
            "Requirement already satisfied: tensorboardX in /usr/local/lib/python3.6/dist-packages (1.9)\n",
            "Requirement already satisfied: torch in /usr/local/lib/python3.6/dist-packages (from pytorch-ignite) (1.3.1+cu100)\n",
            "Requirement already satisfied: numpy in /usr/local/lib/python3.6/dist-packages (from tensorboardX) (1.17.4)\n",
            "Requirement already satisfied: protobuf>=3.8.0 in /usr/local/lib/python3.6/dist-packages (from tensorboardX) (3.10.0)\n",
            "Requirement already satisfied: six in /usr/local/lib/python3.6/dist-packages (from tensorboardX) (1.12.0)\n",
            "Requirement already satisfied: setuptools in /usr/local/lib/python3.6/dist-packages (from protobuf>=3.8.0->tensorboardX) (41.4.0)\n"
          ],
          "name": "stdout"
        }
      ]
    },
    {
      "cell_type": "code",
      "metadata": {
        "id": "POjwTTneAv6y",
        "colab_type": "code",
        "outputId": "b3acebb0-47b2-405c-eb40-5474b7aab5c2",
        "colab": {
          "base_uri": "https://localhost:8080/",
          "height": 272
        }
      },
      "source": [
        "import numpy as np\n",
        "fh = np.load('data/dataset.npz')\n",
        "\n",
        "# We have a bunch of feature columns and last column is the y-target\n",
        "# Note pytorch is finicky about need int64 types\n",
        "train_x = fh['train_x'].astype(np.int64)\n",
        "train_y = fh['train_y']\n",
        "\n",
        "# We've already split into train & test\n",
        "test_x = fh['test_x'].astype(np.int64)\n",
        "test_y = fh['test_y']\n",
        "\n",
        "\n",
        "n_user = int(fh['n_user'])\n",
        "n_item = int(fh['n_item'])\n",
        "\n",
        "# columns are user_id, item_id and other features \n",
        "# we won't use the 3rd and 4th columns\n",
        "print(train_x)\n",
        "print(' ')\n",
        "print(train_y)"
      ],
      "execution_count": 4,
      "outputs": [
        {
          "output_type": "stream",
          "text": [
            "[[   1 1193   11   10]\n",
            " [   1  914   26   10]\n",
            " [   1 3408    7   10]\n",
            " ...\n",
            " [6040  562   37    6]\n",
            " [6040 1096  109    6]\n",
            " [6040 1097   99    6]]\n",
            " \n",
            "[[5.]\n",
            " [3.]\n",
            " [4.]\n",
            " ...\n",
            " [5.]\n",
            " [4.]\n",
            " [4.]]\n"
          ],
          "name": "stdout"
        }
      ]
    },
    {
      "cell_type": "markdown",
      "metadata": {
        "id": "8CtjkJesAv63",
        "colab_type": "text"
      },
      "source": [
        "### Define the MF Model"
      ]
    },
    {
      "cell_type": "code",
      "metadata": {
        "id": "ZouSgEBXAv63",
        "colab_type": "code",
        "colab": {}
      },
      "source": [
        "import torch\n",
        "from torch import nn\n",
        "import torch.nn.functional as F"
      ],
      "execution_count": 0,
      "outputs": []
    },
    {
      "cell_type": "code",
      "metadata": {
        "id": "iB3Dl7n-Av65",
        "colab_type": "code",
        "colab": {}
      },
      "source": [
        "class MF(nn.Module):\n",
        "    itr = 0\n",
        "    def __init__(self, n_user, n_item, k=18, c_vector=1.0, writer=None):\n",
        "        super(MF, self).__init__()\n",
        "        # This will hold the logging\n",
        "        self.writer = writer\n",
        "        \n",
        "        # These are simple hyperparameters\n",
        "        self.k = k\n",
        "        self.n_user = n_user\n",
        "        self.n_item = n_item\n",
        "        self.c_vector = c_vector\n",
        "        \n",
        "        # These are learned and fit by PyTorch\n",
        "        self.user = nn.Embedding(n_user, k)\n",
        "        self.item = nn.Embedding(n_item, k)\n",
        "    \n",
        "    def __call__(self, train_x):\n",
        "        # This is the most import function in this script\n",
        "        # These are the user indices, and correspond to \"u\" variable\n",
        "        user_id = train_x[:, 0]\n",
        "        # Item indices, correspond to the \"i\" variable\n",
        "        item_id = train_x[:, 1]\n",
        "        # vector user = p_u\n",
        "        vector_user = self.user(user_id)\n",
        "        # vector item = q_i\n",
        "        vector_item = self.item(item_id)\n",
        "        # this is a dot product & a user-item interaction: p_u * q_i\n",
        "        ui_interaction = torch.sum(vector_user * vector_item, dim=1)\n",
        "        return ui_interaction\n",
        "    \n",
        "    def loss(self, prediction, target):\n",
        "        # MSE error between target = R_ui and prediction = p_u * q_i\n",
        "        loss_mse = F.mse_loss(prediction, target.squeeze())\n",
        "        # Compute L2 reularization over user (P) and item (Q) matrices\n",
        "        prior_user =  l2_regularize(self.user.weight) * self.c_vector\n",
        "        prior_item = l2_regularize(self.item.weight) * self.c_vector\n",
        "        # Add up the MSE loss + user & item regularization\n",
        "        total = loss_mse + prior_user + prior_item\n",
        "        \n",
        "        # This logs all local variables to tensorboard\n",
        "        for name, var in locals().items():\n",
        "            if type(var) is torch.Tensor and var.nelement() == 1 and self.writer is not None:\n",
        "                self.writer.add_scalar(name, var, self.itr)\n",
        "        return total"
      ],
      "execution_count": 0,
      "outputs": []
    },
    {
      "cell_type": "code",
      "metadata": {
        "id": "scCFav4iAv68",
        "colab_type": "code",
        "colab": {}
      },
      "source": [
        "def l2_regularize(array):\n",
        "    loss = torch.sum(array ** 2.0)\n",
        "    return loss"
      ],
      "execution_count": 0,
      "outputs": []
    },
    {
      "cell_type": "markdown",
      "metadata": {
        "id": "JR7UIF0vAv69",
        "colab_type": "text"
      },
      "source": [
        "### Train model"
      ]
    },
    {
      "cell_type": "code",
      "metadata": {
        "id": "vab7_OC1Av6-",
        "colab_type": "code",
        "colab": {}
      },
      "source": [
        "from ignite.engine import Events, create_supervised_trainer, create_supervised_evaluator\n",
        "from ignite.metrics import Loss\n",
        "from ignite.metrics import MeanSquaredError\n",
        "\n",
        "from tensorboardX import SummaryWriter\n",
        "\n",
        "from loader import Loader\n",
        "from datetime import datetime"
      ],
      "execution_count": 0,
      "outputs": []
    },
    {
      "cell_type": "code",
      "metadata": {
        "id": "6-XfDd4nAv7A",
        "colab_type": "code",
        "outputId": "9bdca1df-bc91-40dc-ab37-481b33931049",
        "colab": {
          "base_uri": "https://localhost:8080/",
          "height": 34
        }
      },
      "source": [
        "# Hyperparameters\n",
        "lr = 1e-2\n",
        "# Number of dimensions per user, item\n",
        "k = 10\n",
        "# regularization constant\n",
        "c_vector = 1e-6\n",
        "\n",
        "# Setup logging\n",
        "log_dir = 'runs/simple_mf_01_' + str(datetime.now()).replace(' ', '_')\n",
        "print(log_dir)\n",
        "writer = SummaryWriter(log_dir=log_dir)"
      ],
      "execution_count": 10,
      "outputs": [
        {
          "output_type": "stream",
          "text": [
            "runs/simple_mf_01_2019-11-18_16:39:01.356376\n"
          ],
          "name": "stdout"
        }
      ]
    },
    {
      "cell_type": "code",
      "metadata": {
        "id": "q8viC3ylCz9Q",
        "colab_type": "code",
        "colab": {}
      },
      "source": [
        ""
      ],
      "execution_count": 0,
      "outputs": []
    },
    {
      "cell_type": "code",
      "metadata": {
        "id": "zebJlH2LAv7D",
        "colab_type": "code",
        "colab": {}
      },
      "source": [
        "model = MF(n_user, n_item, writer=writer, k=k, c_vector=c_vector)\n",
        "optimizer = torch.optim.Adam(model.parameters(), lr=lr)\n",
        "\n",
        "trainer = create_supervised_trainer(model, optimizer, model.loss)\n",
        "metrics = {'accuracy': MeanSquaredError()}\n",
        "evaluat = create_supervised_evaluator(model, metrics=metrics)\n",
        "\n",
        "train_loader = Loader(train_x, train_y, batchsize=1024)\n",
        "test_loader = Loader(test_x, test_y, batchsize=1024)"
      ],
      "execution_count": 0,
      "outputs": []
    },
    {
      "cell_type": "code",
      "metadata": {
        "id": "oLvb4afZAv7F",
        "colab_type": "code",
        "outputId": "c26239cd-63f2-4337-9a84-79aafbce46ee",
        "colab": {
          "base_uri": "https://localhost:8080/",
          "height": 85
        }
      },
      "source": [
        "def log_training_loss(engine, log_interval=400):\n",
        "    model.itr = engine.state.iteration\n",
        "    if model.itr % log_interval == 0:\n",
        "        fmt = \"Epoch[{}] Iteration[{}/{}] Loss: {:.2f}\"\n",
        "        msg = fmt.format(engine.state.epoch, engine.state.iteration, \n",
        "                         len(train_loader), engine.state.output)\n",
        "        print(msg)\n",
        "\n",
        "trainer.add_event_handler(event_name=Events.ITERATION_COMPLETED, handler=log_training_loss)\n",
        "\n",
        "def log_validation_results(engine):\n",
        "    # When triggered, run the validation set\n",
        "    evaluat.run(test_loader)\n",
        "    avg_accuracy = evaluat.state.metrics['accuracy']\n",
        "    print(\"Epoch[{}] Validation MSE: {:.2f} \".format(engine.state.epoch, avg_accuracy))\n",
        "    writer.add_scalar(\"validation/avg_accuracy\", avg_accuracy, engine.state.epoch)\n",
        "\n",
        "trainer.add_event_handler(event_name=Events.EPOCH_COMPLETED, handler=log_validation_results)\n",
        "\n",
        "\n",
        "model"
      ],
      "execution_count": 12,
      "outputs": [
        {
          "output_type": "execute_result",
          "data": {
            "text/plain": [
              "MF(\n",
              "  (user): Embedding(6041, 10)\n",
              "  (item): Embedding(3953, 10)\n",
              ")"
            ]
          },
          "metadata": {
            "tags": []
          },
          "execution_count": 12
        }
      ]
    },
    {
      "cell_type": "markdown",
      "metadata": {
        "id": "8AgnqWgCAv7H",
        "colab_type": "text"
      },
      "source": [
        "#### Run model"
      ]
    },
    {
      "cell_type": "code",
      "metadata": {
        "scrolled": false,
        "id": "Wu5HWk_FAv7I",
        "colab_type": "code",
        "outputId": "60cf1aba-6507-4e69-d268-bbcc44c69876",
        "colab": {
          "base_uri": "https://localhost:8080/",
          "height": 833
        }
      },
      "source": [
        "trainer.run(train_loader, max_epochs=15)"
      ],
      "execution_count": 14,
      "outputs": [
        {
          "output_type": "stream",
          "text": [
            "Epoch[1] Iteration[400/879] Loss: 0.88\n",
            "Epoch[1] Iteration[800/879] Loss: 0.94\n",
            "Epoch[1] Validation MSE: 0.91 \n",
            "Epoch[2] Iteration[1200/879] Loss: 0.89\n",
            "Epoch[2] Iteration[1600/879] Loss: 0.90\n",
            "Epoch[2] Validation MSE: 0.88 \n",
            "Epoch[3] Iteration[2000/879] Loss: 0.84\n",
            "Epoch[3] Iteration[2400/879] Loss: 0.87\n",
            "Epoch[3] Validation MSE: 0.86 \n",
            "Epoch[4] Iteration[2800/879] Loss: 0.85\n",
            "Epoch[4] Iteration[3200/879] Loss: 0.84\n",
            "Epoch[4] Validation MSE: 0.84 \n",
            "Epoch[5] Iteration[3600/879] Loss: 0.76\n",
            "Epoch[5] Iteration[4000/879] Loss: 0.77\n",
            "Epoch[5] Validation MSE: 0.82 \n",
            "Epoch[6] Iteration[4400/879] Loss: 0.73\n",
            "Epoch[6] Iteration[4800/879] Loss: 0.78\n",
            "Epoch[6] Iteration[5200/879] Loss: 0.83\n",
            "Epoch[6] Validation MSE: 0.82 \n",
            "Epoch[7] Iteration[5600/879] Loss: 0.74\n",
            "Epoch[7] Iteration[6000/879] Loss: 0.79\n",
            "Epoch[7] Validation MSE: 0.82 \n",
            "Epoch[8] Iteration[6400/879] Loss: 0.78\n",
            "Epoch[8] Iteration[6800/879] Loss: 0.80\n",
            "Epoch[8] Validation MSE: 0.81 \n",
            "Epoch[9] Iteration[7200/879] Loss: 0.78\n",
            "Epoch[9] Iteration[7600/879] Loss: 0.81\n",
            "Epoch[9] Validation MSE: 0.81 \n",
            "Epoch[10] Iteration[8000/879] Loss: 0.71\n",
            "Epoch[10] Iteration[8400/879] Loss: 0.77\n",
            "Epoch[10] Validation MSE: 0.81 \n",
            "Epoch[11] Iteration[8800/879] Loss: 0.70\n",
            "Epoch[11] Iteration[9200/879] Loss: 0.74\n",
            "Epoch[11] Iteration[9600/879] Loss: 0.80\n",
            "Epoch[11] Validation MSE: 0.81 \n",
            "Epoch[12] Iteration[10000/879] Loss: 0.77\n",
            "Epoch[12] Iteration[10400/879] Loss: 0.74\n",
            "Epoch[12] Validation MSE: 0.80 \n",
            "Epoch[13] Iteration[10800/879] Loss: 0.79\n",
            "Epoch[13] Iteration[11200/879] Loss: 0.77\n",
            "Epoch[13] Validation MSE: 0.81 \n",
            "Epoch[14] Iteration[11600/879] Loss: 0.79\n",
            "Epoch[14] Iteration[12000/879] Loss: 0.79\n",
            "Epoch[14] Validation MSE: 0.81 \n",
            "Epoch[15] Iteration[12400/879] Loss: 0.71\n",
            "Epoch[15] Iteration[12800/879] Loss: 0.77\n",
            "Epoch[15] Validation MSE: 0.80 \n"
          ],
          "name": "stdout"
        },
        {
          "output_type": "execute_result",
          "data": {
            "text/plain": [
              "<ignite.engine.engine.State at 0x7f56efb16860>"
            ]
          },
          "metadata": {
            "tags": []
          },
          "execution_count": 14
        }
      ]
    },
    {
      "cell_type": "code",
      "metadata": {
        "id": "mDuRpj5wAv7K",
        "colab_type": "code",
        "outputId": "6d76e694-37d7-4b93-d9f2-4b4c154ff92e",
        "colab": {
          "base_uri": "https://localhost:8080/",
          "height": 238
        }
      },
      "source": [
        "model.user.weight.data.numpy()"
      ],
      "execution_count": 15,
      "outputs": [
        {
          "output_type": "execute_result",
          "data": {
            "text/plain": [
              "array([[-2.64752784e-38, -1.53490092e-38,  1.03375581e-38, ...,\n",
              "        -2.70205236e-38, -1.11510848e-39,  1.06727529e-38],\n",
              "       [-2.07549483e-01,  3.31319749e-01,  1.42050898e+00, ...,\n",
              "        -7.58199513e-01,  1.04956484e+00,  4.61411357e-01],\n",
              "       [ 4.51680601e-01, -8.31330359e-01,  1.36043549e+00, ...,\n",
              "        -7.76251376e-01,  8.32142532e-02, -3.88718490e-03],\n",
              "       ...,\n",
              "       [ 5.92992961e-01, -8.98332357e-01,  1.31741285e+00, ...,\n",
              "        -6.48082793e-01, -8.40339601e-01, -3.27048391e-01],\n",
              "       [ 6.51513040e-01, -1.23964697e-01,  8.29760790e-01, ...,\n",
              "         4.34264019e-02, -1.20709784e-01, -2.47810379e-01],\n",
              "       [ 4.56198692e-01,  2.68148094e-01,  1.38877046e+00, ...,\n",
              "         5.33053219e-01, -6.23601794e-01, -9.39349651e-01]], dtype=float32)"
            ]
          },
          "metadata": {
            "tags": []
          },
          "execution_count": 15
        }
      ]
    },
    {
      "cell_type": "code",
      "metadata": {
        "id": "y69Pl4msAv7M",
        "colab_type": "code",
        "colab": {}
      },
      "source": [
        ""
      ],
      "execution_count": 0,
      "outputs": []
    }
  ]
}