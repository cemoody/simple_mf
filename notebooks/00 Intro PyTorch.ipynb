{
 "cells": [
  {
   "cell_type": "markdown",
   "metadata": {
    "colab_type": "text",
    "id": "eR-hBxHZWwnP"
   },
   "source": [
    "Let's train a very simple non-linear multivariate regression model using PyTorch."
   ]
  },
  {
   "cell_type": "code",
   "execution_count": 1,
   "metadata": {
    "colab": {},
    "colab_type": "code",
    "id": "0Y-yt_2qWwnR"
   },
   "outputs": [],
   "source": [
    "import numpy as np\n",
    "import torch\n",
    "from torch import nn\n",
    "from torch import optim\n",
    "import torch.nn.functional as F\n",
    "from torch.autograd import Variable"
   ]
  },
  {
   "cell_type": "markdown",
   "metadata": {
    "colab_type": "text",
    "id": "txDdtC6RWwnU"
   },
   "source": [
    "Create a simple PyTorch Module. This Module models the function:\n",
    "\n",
    "$y = M_2 (M_1 x + b_1) + b_2$\n",
    "\n",
    "And you want to minimize:\n",
    "\n",
    "$L = || y - y_{observed} ||^2 + \\lambda_1 ||M_1||_F + + \\lambda_2 ||M_2||_F$\n",
    "\n",
    "where $x$ and $y$ are vectors and we're taking the Frobenius norm of our parameters. \n",
    "\n",
    "Note that $M_1$ and $M_2$ aren't necessarily square. In fact, if we set the shapes of $M_1$ and $M_2$ to be small we can try to \"squeeze\" into a smaller space and effectively build-in dimensionality reduction.\n",
    "\n",
    "This whole model is slightly more complicated than vanilla linear regression, and is now something like quadratic (because of the two matrix multiplies) vector regression (because we're predicting a vector outcome, not a scalar one)."
   ]
  },
  {
   "cell_type": "markdown",
   "metadata": {
    "colab_type": "text",
    "id": "1tDy5mhHWwnV"
   },
   "source": [
    "We can split the above model into three steps, which (1) initialize parameters, (2) compute a prediction, and (3) compute the loss.\n",
    "\n",
    "- Declare that you'll be optimizing two linear functions. This saves space for $M_1$, $M_2$, $b_1$ and $b_2$, but not $x$ or $y$. Putting it in the `__init__` function of a `nn.Module` is special: PyTorch will remember that these parameters are optimize-able.\n",
    "- `forward` tells us how to combine our parameters to make a prediction $y$\n",
    "- `loss` tells us how to compare our prediction vector to our observed vector, plus how to minimize our regularizer."
   ]
  },
  {
   "cell_type": "code",
   "execution_count": 2,
   "metadata": {
    "colab": {},
    "colab_type": "code",
    "id": "kU4s2XPFWwnW"
   },
   "outputs": [],
   "source": [
    "class Bottleneck(nn.Module):\n",
    "    def __init__(self, n_in_cols, n_out_cols, n_hidden=3):\n",
    "        super(Bottleneck, self).__init__()\n",
    "        self.lin1 = nn.Linear(n_in_cols, n_hidden)\n",
    "        self.lin2 = nn.Linear(n_hidden, n_out_cols)\n",
    "    \n",
    "    def forward(self, x):\n",
    "        # x is a minibatch of rows of our features\n",
    "        hidden = self.lin1(x)\n",
    "        # y is a minibatch of our predictions\n",
    "        y = self.lin2(hidden)\n",
    "        return y\n",
    "\n",
    "    def loss(self, prediction, target, lam1=1e-3, lam2=1e-3):\n",
    "        # This is just the mean squared error\n",
    "        loss_likelihood = ((prediction - target)**2.0).sum()\n",
    "        # This computes our Frobenius norm over both matrices\n",
    "        # Note that we can access the Linear model's variables\n",
    "        # directly if we'd like. No tricks here!\n",
    "        loss_prior_m1 = (self.lin1.weight**2.0 * lam1).sum()\n",
    "        loss_prior_m2 = (self.lin2.weight**2.0 * lam2).sum()\n",
    "        loss = loss_likelihood + loss_prior_m1 + loss_prior_m2\n",
    "        return loss"
   ]
  },
  {
   "cell_type": "markdown",
   "metadata": {
    "colab_type": "text",
    "id": "gPjIWOaDWwnY"
   },
   "source": [
    "Let's make up some fake data to fit. Annoyingly, it has to be `float32` or `int64`."
   ]
  },
  {
   "cell_type": "code",
   "execution_count": 3,
   "metadata": {
    "colab": {},
    "colab_type": "code",
    "id": "90rcC9_uWwnY"
   },
   "outputs": [],
   "source": [
    "X = np.random.normal(size=(2000, 9)).astype(np.float32)\n",
    "Y = np.random.normal(size=(2000, 4)) + np.dot(X, np.random.normal(size=(9, 4)))\n",
    "Y = Y.astype(np.float32)"
   ]
  },
  {
   "cell_type": "code",
   "execution_count": 4,
   "metadata": {
    "colab": {
     "base_uri": "https://localhost:8080/",
     "height": 34
    },
    "colab_type": "code",
    "id": "tfukBFEXWwna",
    "outputId": "bbebbd11-96a4-4de1-e4e6-4f9ba4fe993e"
   },
   "outputs": [
    {
     "data": {
      "text/plain": [
       "((2000, 9), (2000, 4))"
      ]
     },
     "execution_count": 4,
     "metadata": {},
     "output_type": "execute_result"
    }
   ],
   "source": [
    "X.shape, Y.shape"
   ]
  },
  {
   "cell_type": "markdown",
   "metadata": {
    "colab_type": "text",
    "id": "tTvhaQ94Wwnd"
   },
   "source": [
    "Initialize the model. Note that we'll also initialize the \"optimizer\". Check out [this link](http://ruder.io/optimizing-gradient-descent/) to learn more about different optimizers. For now, `Adam` is a good choice."
   ]
  },
  {
   "cell_type": "code",
   "execution_count": 5,
   "metadata": {
    "colab": {},
    "colab_type": "code",
    "id": "QcoThuJeWwne"
   },
   "outputs": [],
   "source": [
    "model = Bottleneck(9, 4, 3)\n",
    "o = optim.Adam(model.parameters())"
   ]
  },
  {
   "cell_type": "code",
   "execution_count": 6,
   "metadata": {
    "colab": {
     "base_uri": "https://localhost:8080/",
     "height": 34
    },
    "colab_type": "code",
    "id": "s1um_eFhWwng",
    "outputId": "bbbf9349-50cd-4327-b3e3-0e1957d198fe"
   },
   "outputs": [
    {
     "data": {
      "text/plain": [
       "torch.Size([3, 9])"
      ]
     },
     "execution_count": 6,
     "metadata": {},
     "output_type": "execute_result"
    }
   ],
   "source": [
    "model.lin1.weight.data.shape"
   ]
  },
  {
   "cell_type": "code",
   "execution_count": 7,
   "metadata": {
    "colab": {
     "base_uri": "https://localhost:8080/",
     "height": 34
    },
    "colab_type": "code",
    "id": "zA_mN6VFWwni",
    "outputId": "d6ca681e-e296-40b7-b713-e94abd4e3d19"
   },
   "outputs": [
    {
     "data": {
      "text/plain": [
       "torch.Size([4, 3])"
      ]
     },
     "execution_count": 7,
     "metadata": {},
     "output_type": "execute_result"
    }
   ],
   "source": [
    "model.lin2.weight.data.shape"
   ]
  },
  {
   "cell_type": "code",
   "execution_count": 8,
   "metadata": {
    "colab": {
     "base_uri": "https://localhost:8080/",
     "height": 34
    },
    "colab_type": "code",
    "id": "f0xFhRocWwnk",
    "outputId": "330047c9-dda9-4ab2-d3d6-b8c61c71b853"
   },
   "outputs": [
    {
     "data": {
      "text/plain": [
       "torch.Size([3])"
      ]
     },
     "execution_count": 8,
     "metadata": {},
     "output_type": "execute_result"
    }
   ],
   "source": [
    "model.lin1.bias.data.shape"
   ]
  },
  {
   "cell_type": "code",
   "execution_count": 9,
   "metadata": {
    "colab": {},
    "colab_type": "code",
    "id": "HZTk2WW9Wwnm"
   },
   "outputs": [],
   "source": [
    "from random import shuffle\n",
    "\n",
    "def chunks(X, Y, size):\n",
    "    \"\"\"Yield successive n-sized chunks from l.\"\"\"\n",
    "    starts = list(range(0, len(X), size))\n",
    "    shuffle(starts)\n",
    "    for i in starts:\n",
    "        yield (X[i:i + size], Y[i:i + size])"
   ]
  },
  {
   "cell_type": "code",
   "execution_count": 16,
   "metadata": {
    "colab": {
     "base_uri": "https://localhost:8080/",
     "height": 1000
    },
    "colab_type": "code",
    "id": "yVJl0fucWwnp",
    "outputId": "ae12ab63-0da4-4925-93ef-05538025c738"
   },
   "outputs": [
    {
     "name": "stdout",
     "output_type": "stream",
     "text": [
      "0 tensor(389.3312)\n",
      "10 tensor(353.0794)\n",
      "20 tensor(349.8586)\n",
      "30 tensor(406.9885)\n",
      "40 tensor(399.0048)\n",
      "50 tensor(415.3995)\n",
      "60 tensor(351.9067)\n",
      "70 tensor(390.0703)\n",
      "80 tensor(350.2450)\n",
      "90 tensor(332.8827)\n",
      "100 tensor(352.1260)\n",
      "110 tensor(351.9948)\n",
      "120 tensor(415.3929)\n",
      "130 tensor(406.6318)\n",
      "140 tensor(378.3241)\n",
      "150 tensor(333.1018)\n",
      "160 tensor(314.1754)\n",
      "170 tensor(374.8451)\n",
      "180 tensor(353.8031)\n",
      "190 tensor(314.1478)\n",
      "200 tensor(351.8117)\n",
      "210 tensor(375.3241)\n",
      "220 tensor(381.6292)\n",
      "230 tensor(351.4853)\n",
      "240 tensor(389.8167)\n",
      "250 tensor(314.3240)\n",
      "260 tensor(352.4277)\n",
      "270 tensor(302.2336)\n",
      "280 tensor(372.0277)\n",
      "290 tensor(376.9128)\n",
      "300 tensor(377.1186)\n",
      "310 tensor(337.9866)\n",
      "320 tensor(331.7121)\n",
      "330 tensor(351.7342)\n",
      "340 tensor(381.2636)\n",
      "350 tensor(491.7418)\n",
      "360 tensor(351.3787)\n",
      "370 tensor(406.8087)\n",
      "380 tensor(371.4063)\n",
      "390 tensor(116.6104)\n"
     ]
    }
   ],
   "source": [
    "batch_size = 64\n",
    "losses = []\n",
    "for epoch in range(400):\n",
    "    for itr, (feature, target) in enumerate(chunks(X, Y, batch_size)):\n",
    "        # This zeros the gradients on every parameter. \n",
    "        # This is easy to miss and hard to troubleshoot.\n",
    "        o.zero_grad()\n",
    "        # Convert \n",
    "        feature = Variable(torch.from_numpy(feature))\n",
    "        target = Variable(torch.from_numpy(target))\n",
    "        # Compute a prediction for these features\n",
    "        prediction = model.forward(feature)\n",
    "        # Compute a loss given what the true target outcome was\n",
    "        loss = model.loss(prediction, target)\n",
    "        # break\n",
    "        # Backpropagate: compute the direction / gradient every model parameter\n",
    "        # defined in your __init__ should move in in order to minimize this loss\n",
    "        # However, we're not actually changing these parameters, we're just storing\n",
    "        # how they should change.\n",
    "\n",
    "        loss.backward()\n",
    "        # Now take a step & update the model parameters. The optimizer uses the gradient at \n",
    "        # defined on every parameter in our model and nudges it in that direction.\n",
    "        o.step()\n",
    "        # Record the loss per example\n",
    "        losses.append(loss.data.numpy() / len(feature))\n",
    "        if epoch % 10 == 0 and itr ==0:\n",
    "            print(epoch, loss.data)\n"
   ]
  },
  {
   "cell_type": "markdown",
   "metadata": {
    "colab_type": "text",
    "id": "wqUb4_VNWwnr"
   },
   "source": [
    "I can introspect my model and get the parameters out:"
   ]
  },
  {
   "cell_type": "code",
   "execution_count": 83,
   "metadata": {
    "colab": {
     "base_uri": "https://localhost:8080/",
     "height": 136
    },
    "colab_type": "code",
    "id": "6jI1H8GMWwnr",
    "outputId": "08162fb8-43a8-456e-ac79-1d0ce73513e5"
   },
   "outputs": [
    {
     "data": {
      "text/plain": [
       "array([[-0.3915055 ,  1.0909117 ,  0.7181141 , -0.70651376, -0.425953  ,\n",
       "        -0.47559333, -0.61746806,  0.70269215,  0.6047616 ],\n",
       "       [-0.25109383,  0.4693849 , -0.05878725,  0.7238346 , -0.41165322,\n",
       "         0.7268368 , -0.36824784,  0.824761  , -0.5482797 ],\n",
       "       [ 0.46500823,  1.0385923 ,  0.18565843,  0.8508095 ,  0.27644953,\n",
       "         0.14546989, -0.09419439, -0.30632475, -0.07996742]],\n",
       "      dtype=float32)"
      ]
     },
     "execution_count": 83,
     "metadata": {
      "tags": []
     },
     "output_type": "execute_result"
    }
   ],
   "source": [
    "model.lin1.weight.data.numpy()"
   ]
  },
  {
   "cell_type": "code",
   "execution_count": 84,
   "metadata": {
    "colab": {
     "base_uri": "https://localhost:8080/",
     "height": 34
    },
    "colab_type": "code",
    "id": "k4Fg3dqCWwnt",
    "outputId": "514340b6-fa1a-4d04-c7bc-2c52a24c47e9"
   },
   "outputs": [
    {
     "data": {
      "text/plain": [
       "array([0.04460083, 0.24982159, 0.02115883], dtype=float32)"
      ]
     },
     "execution_count": 84,
     "metadata": {
      "tags": []
     },
     "output_type": "execute_result"
    }
   ],
   "source": [
    "model.lin1.bias.data.numpy()"
   ]
  },
  {
   "cell_type": "markdown",
   "metadata": {
    "colab_type": "text",
    "id": "haw2nu4uWwnv"
   },
   "source": [
    "I can also see that the loss is simply a scalar:"
   ]
  },
  {
   "cell_type": "code",
   "execution_count": 85,
   "metadata": {
    "colab": {
     "base_uri": "https://localhost:8080/",
     "height": 34
    },
    "colab_type": "code",
    "id": "Bzjg43hWWwnw",
    "outputId": "31eb0c66-de2e-4a43-d88f-4e33cd927467"
   },
   "outputs": [
    {
     "data": {
      "text/plain": [
       "tensor(358.7330, grad_fn=<AddBackward0>)"
      ]
     },
     "execution_count": 85,
     "metadata": {
      "tags": []
     },
     "output_type": "execute_result"
    }
   ],
   "source": [
    "loss"
   ]
  },
  {
   "cell_type": "markdown",
   "metadata": {
    "colab_type": "text",
    "id": "7mEHxE2vWwnx"
   },
   "source": [
    "You can see that the gradient is zero before we call `loss.backward()`"
   ]
  },
  {
   "cell_type": "code",
   "execution_count": 86,
   "metadata": {
    "colab": {
     "base_uri": "https://localhost:8080/",
     "height": 34
    },
    "colab_type": "code",
    "id": "PdtCKnp7Wwny",
    "outputId": "41797244-e849-41e1-a02b-9d4806c5f542"
   },
   "outputs": [
    {
     "data": {
      "text/plain": [
       "tensor([ 36.5766,   8.1368, -11.6025])"
      ]
     },
     "execution_count": 86,
     "metadata": {
      "tags": []
     },
     "output_type": "execute_result"
    }
   ],
   "source": [
    "model.lin1.bias.grad"
   ]
  },
  {
   "cell_type": "markdown",
   "metadata": {
    "colab_type": "text",
    "id": "_u5Tt1HvWwn0"
   },
   "source": [
    "...And non-zero afterwards."
   ]
  },
  {
   "cell_type": "code",
   "execution_count": 87,
   "metadata": {
    "colab": {
     "base_uri": "https://localhost:8080/",
     "height": 34
    },
    "colab_type": "code",
    "id": "9QSSBa9IWwn0",
    "outputId": "a406d6c2-0583-4ec5-d6ee-480fce5592ba"
   },
   "outputs": [
    {
     "data": {
      "text/plain": [
       "tensor([ 36.5766,   8.1368, -11.6025])"
      ]
     },
     "execution_count": 87,
     "metadata": {
      "tags": []
     },
     "output_type": "execute_result"
    }
   ],
   "source": [
    "model.lin1.bias.grad"
   ]
  },
  {
   "cell_type": "code",
   "execution_count": 88,
   "metadata": {
    "colab": {
     "base_uri": "https://localhost:8080/",
     "height": 34
    },
    "colab_type": "code",
    "id": "mdVKmYbxWwn2",
    "outputId": "82df0f89-3cf2-4013-8436-a1080942447e"
   },
   "outputs": [
    {
     "data": {
      "text/plain": [
       "tensor([0.0446, 0.2498, 0.0212])"
      ]
     },
     "execution_count": 88,
     "metadata": {
      "tags": []
     },
     "output_type": "execute_result"
    }
   ],
   "source": [
    "model.lin1.bias.data"
   ]
  },
  {
   "cell_type": "markdown",
   "metadata": {
    "colab_type": "text",
    "id": "Q_miI8X3Wwn4"
   },
   "source": [
    "And after we run `o.step()` we'll notice that the bias parameter has been updated:"
   ]
  },
  {
   "cell_type": "code",
   "execution_count": 89,
   "metadata": {
    "colab": {
     "base_uri": "https://localhost:8080/",
     "height": 34
    },
    "colab_type": "code",
    "id": "h6yN2KT7Wwn4",
    "outputId": "da4ba555-f662-4553-eb0d-1714785152e4"
   },
   "outputs": [
    {
     "data": {
      "text/plain": [
       "array([0.04460083, 0.24982159, 0.02115883], dtype=float32)"
      ]
     },
     "execution_count": 89,
     "metadata": {
      "tags": []
     },
     "output_type": "execute_result"
    }
   ],
   "source": [
    "model.lin1.bias.data.numpy()"
   ]
  },
  {
   "cell_type": "markdown",
   "metadata": {
    "colab_type": "text",
    "id": "P-kM1uaxWwn7"
   },
   "source": [
    "Let's check on convergence:"
   ]
  },
  {
   "cell_type": "code",
   "execution_count": null,
   "metadata": {
    "colab": {},
    "colab_type": "code",
    "id": "qmt4Z8pMWwn8"
   },
   "outputs": [],
   "source": [
    "import numpy as np\n",
    "import matplotlib.pyplot as plt\n",
    "%matplotlib inline"
   ]
  },
  {
   "cell_type": "code",
   "execution_count": 91,
   "metadata": {
    "colab": {
     "base_uri": "https://localhost:8080/",
     "height": 717
    },
    "colab_type": "code",
    "id": "4rpmKezaWwn_",
    "outputId": "4c1432de-3c9a-449c-85d4-4199a697113a"
   },
   "outputs": [
    {
     "data": {
      "text/plain": [
       "[<matplotlib.lines.Line2D at 0x7f21ba758eb8>]"
      ]
     },
     "execution_count": 91,
     "metadata": {
      "tags": []
     },
     "output_type": "execute_result"
    },
    {
     "data": {
      "image/png": "[encoded data removed]",
      "text/plain": [
       "<Figure size 864x864 with 1 Axes>"
      ]
     },
     "metadata": {
      "tags": []
     },
     "output_type": "display_data"
    }
   ],
   "source": [
    "n = len(losses)\n",
    "smooth = np.convolve(losses, np.ones((n,))/n, mode='valid')\n",
    "plt.figure(figsize=(12, 12))\n",
    "plt.plot(losses[::10])\n",
    "plt.plot(smooth, c='r')"
   ]
  },
  {
   "cell_type": "markdown",
   "metadata": {
    "colab_type": "text",
    "id": "XLOCq-eWWwoB"
   },
   "source": [
    "Looks converged to me!"
   ]
  },
  {
   "cell_type": "markdown",
   "metadata": {
    "colab": {},
    "colab_type": "code",
    "id": "1xE2B7ylXyWq"
   },
   "source": [
    "## Using PyTorch Lightning"
   ]
  },
  {
   "cell_type": "markdown",
   "metadata": {},
   "source": [
    "After you've  written a dozen  pytorch models you'll discover that there's a lot of common structure and a huge amount of boilerplate. It's good to understand what's going on undere the hood, but when moving to production use cases you'll want to opt for more reliable, reproducible code. PyTorch Lightning & Ignite are great libraries that abstract away these core bits."
   ]
  },
  {
   "cell_type": "markdown",
   "metadata": {},
   "source": [
    "To install the libraries:"
   ]
  },
  {
   "cell_type": "markdown",
   "metadata": {},
   "source": [
    "    pip uninstall tensorboard\n",
    "    conda install tensorboard -y\n",
    "    conda install pytorch-lightning -y -c conda-forge"
   ]
  },
  {
   "cell_type": "code",
   "execution_count": 1,
   "metadata": {},
   "outputs": [
    {
     "data": {
      "text/plain": [
       "((1500, 9), (500, 9), (1500, 4), (500, 4))"
      ]
     },
     "execution_count": 1,
     "metadata": {},
     "output_type": "execute_result"
    }
   ],
   "source": [
    "from sklearn.model_selection import train_test_split\n",
    "import numpy as np\n",
    "\n",
    "# X is just a 9D normally distributed dataset\n",
    "X = np.random.normal(size=(2000, 9)).astype(np.float32)\n",
    "# The prediction is a linear transformation on X\n",
    "# from 9D to 4D plus additive noise\n",
    "Y = np.random.normal(size=(2000, 4)) * 1e-2 + np.dot(X, np.random.normal(size=(9, 4)))\n",
    "Y = Y.astype(np.float32)\n",
    "\n",
    "X_train, X_test, Y_train, Y_test = train_test_split(X, Y)\n",
    "X_train.shape, X_test.shape, Y_train.shape, Y_test.shape"
   ]
  },
  {
   "cell_type": "markdown",
   "metadata": {},
   "source": [
    "Let's write our initial model as Lightning  module:\n",
    "\n",
    "Don't be afraid of how much extra code this injects. Although it  initially looks like a ton of little class functions, it's all about being organized, deliberate, standardized and repeatable. It's not about science, it's about having good lab hygiene. \n",
    "\n",
    "- We'll move some of the iteration code into `training_step`  and `test_step`, and `test_epoch_end`.\n",
    "- Add in a `configure_optimizers` function.\n",
    "- Separate out train & test loaders"
   ]
  },
  {
   "cell_type": "code",
   "execution_count": 16,
   "metadata": {},
   "outputs": [],
   "source": [
    "import torch\n",
    "import numpy as np\n",
    "from random import shuffle\n",
    "import pytorch_lightning as pl\n",
    "\n",
    "\n",
    "def chunks(*arrays, size):\n",
    "    \"\"\"Yield successive n-sized chunks from l.\"\"\"\n",
    "    starts = list(range(0, len(arrays[0]), size))\n",
    "    # always visit your data in a random order!\n",
    "    shuffle(starts)\n",
    "    for i in starts:\n",
    "        arrs = [arr[i: i + size] for arr in arrays]\n",
    "        # convert numpy arrays to torch arrays\n",
    "        arrs_torch = []\n",
    "        for arr in arrs:\n",
    "            if arr.dtype != np.dtype('O'):\n",
    "                tarr = torch.from_numpy(arr)\n",
    "                arrs_torch.append(tarr)\n",
    "            else:\n",
    "                arrs_torch.append(arr)\n",
    "        yield arrs_torch[:-1], arrs_torch[-1]\n",
    "\n",
    "\n",
    "class AbstractModel(pl.LightningModule):\n",
    "    def save_data(self, train_x, train_y, test_x, test_y, train_d=None, test_d=None):\n",
    "        self.train_x = train_x\n",
    "        self.train_y = train_y\n",
    "        self.test_x = test_x\n",
    "        self.test_y = test_y\n",
    "        self.train_d = train_d\n",
    "        self.test_d = test_d\n",
    "\n",
    "    def training_step(self, batch, batch_nb):\n",
    "        input, target = batch\n",
    "        prediction = self.forward(input)\n",
    "        loss = self.likelihood(prediction, target) + self.prior()\n",
    "        tensorboard_logs = {'train_loss': loss}\n",
    "        return {'loss': loss, 'log': tensorboard_logs}\n",
    "\n",
    "    def test_step(self, batch, batch_nb):\n",
    "        input, target = batch\n",
    "        prediction = self.forward(input)\n",
    "        # Note that we do *not* include the regularization / prior loss\n",
    "        # at test time\n",
    "        loss = self.likelihood(prediction, target)\n",
    "        tensorboard_logs = {'test_loss': loss}\n",
    "        return {'test_loss': loss, 'log': tensorboard_logs}\n",
    "    \n",
    "    def test_epoch_end(self, outputs):\n",
    "        test_loss_mean = torch.stack([x['test_loss'] for x in outputs]).mean()\n",
    "        return {'test_loss': test_loss_mean}\n",
    "    \n",
    "    def train_dataloader(self):\n",
    "        if self.train_d is None:\n",
    "            return chunks(self.train_x, self.train_y, size=self.batch_size)\n",
    "        else:\n",
    "            return chunks(self.train_x, self.train_d, self.train_y, size=self.batch_size)\n",
    "        \n",
    "    def test_dataloader(self):\n",
    "        if self.test_d is None:\n",
    "            return chunks(self.test_x, self.test_y, size=self.batch_size)\n",
    "        else:\n",
    "            return chunks(self.test_x, self.test_d, self.test_y, size=self.batch_size)\n",
    "    \n",
    "    def configure_optimizers(self):\n",
    "        return torch.optim.Adam(self.parameters(), lr=1e-2)\n"
   ]
  },
  {
   "cell_type": "markdown",
   "metadata": {},
   "source": [
    "And then we'll keep out `Bottleneck` model, but now it will inherit from our `AbstractModel`. Over the next few notebooks we'll keep using the `AbstractModel` class and just stick to focusing  our changes within the subclasses."
   ]
  },
  {
   "cell_type": "code",
   "execution_count": 17,
   "metadata": {},
   "outputs": [
    {
     "name": "stderr",
     "output_type": "stream",
     "text": [
      "GPU available: False, used: False\n",
      "TPU available: False, using: 0 TPU cores\n"
     ]
    }
   ],
   "source": [
    "class Bottleneck(AbstractModel):\n",
    "    def __init__(self, n_in_cols, n_out_cols, n_hidden=3, batch_size=128):\n",
    "        super().__init__()\n",
    "        self.lin1 = nn.Linear(n_in_cols, n_hidden)\n",
    "        self.lin2 = nn.Linear(n_hidden, n_out_cols)\n",
    "        self.batch_size = batch_size\n",
    "    \n",
    "    def forward(self, x):\n",
    "        # x is a minibatch of rows of our features\n",
    "        hidden = self.lin1(x)\n",
    "        # y is a minibatch of our predictions\n",
    "        y = self.lin2(hidden)\n",
    "        return y\n",
    "\n",
    "    def loss(self, prediction, target, lam1=1e-3, lam2=1e-3):\n",
    "        # This is just the mean squared error\n",
    "        loss_likelihood = ((prediction - target)**2.0).sum()\n",
    "        # This computes our Frobenius norm over both matrices\n",
    "        # Note that we can access the Linear model's variables\n",
    "        # directly if we'd like. No tricks here!\n",
    "        loss_prior_m1 = (self.lin1.weight**2.0 * lam1).sum()\n",
    "        loss_prior_m2 = (self.lin2.weight**2.0 * lam2).sum()\n",
    "        loss = loss_likelihood + loss_prior_m1 + loss_prior_m2\n",
    "        return loss\n",
    "\n",
    "\n",
    "# train!\n",
    "model = Bottleneck(9, 4, 3)\n",
    "\n",
    "# add a logger\n",
    "logger = TensorBoardLogger(\"tb_logs\", name=\"bottleneck_model\")\n",
    "\n",
    "# We could have turned on multiple GPUs here, for example\n",
    "# trainer = pl.Trainer(gpus=8, precision=16)    \n",
    "trainer = pl.Trainer(max_epochs=100,\n",
    "                     reload_dataloaders_every_epoch=True,\n",
    "                     logger=logger)    "
   ]
  },
  {
   "cell_type": "markdown",
   "metadata": {},
   "source": [
    "Before we train the model, the parameters and weights will all be initialized randomly. So when we evaluate the test loss, it'll be pretty bad."
   ]
  },
  {
   "cell_type": "code",
   "execution_count": 18,
   "metadata": {},
   "outputs": [
    {
     "data": {
      "application/vnd.jupyter.widget-view+json": {
       "model_id": "3e59c81d46d645b5a99aa54a9e31e173",
       "version_major": 2,
       "version_minor": 0
      },
      "text/plain": [
       "HBox(children=(FloatProgress(value=1.0, bar_style='info', description='Testing', layout=Layout(flex='2'), max=…"
      ]
     },
     "metadata": {},
     "output_type": "display_data"
    },
    {
     "name": "stdout",
     "output_type": "stream",
     "text": [
      "--------------------------------------------------------------------------------\n",
      "TEST RESULTS\n",
      "{'test_loss': tensor(5398.0615)}\n",
      "--------------------------------------------------------------------------------\n",
      "\n"
     ]
    },
    {
     "data": {
      "text/plain": [
       "{'test_loss': 5398.0615234375}"
      ]
     },
     "execution_count": 18,
     "metadata": {},
     "output_type": "execute_result"
    }
   ],
   "source": [
    "trainer.test(model)"
   ]
  },
  {
   "cell_type": "markdown",
   "metadata": {},
   "source": [
    "Now let's fit our model and then check the test loss again. Voila! The test loss (~100) is much lower than it was before  ~4000."
   ]
  },
  {
   "cell_type": "code",
   "execution_count": 19,
   "metadata": {},
   "outputs": [
    {
     "name": "stderr",
     "output_type": "stream",
     "text": [
      "\n",
      "  | Name | Type   | Params\n",
      "--------------------------------\n",
      "0 | lin1 | Linear | 30    \n",
      "1 | lin2 | Linear | 16    \n"
     ]
    },
    {
     "data": {
      "application/vnd.jupyter.widget-view+json": {
       "model_id": "01015b488836462ca1ff08d4b7e5fee7",
       "version_major": 2,
       "version_minor": 0
      },
      "text/plain": [
       "HBox(children=(FloatProgress(value=1.0, bar_style='info', description='Training', layout=Layout(flex='2'), max…"
      ]
     },
     "metadata": {},
     "output_type": "display_data"
    },
    {
     "name": "stdout",
     "output_type": "stream",
     "text": [
      "\n"
     ]
    },
    {
     "data": {
      "application/vnd.jupyter.widget-view+json": {
       "model_id": "5cc9205ed2724d5faa321f7babf051cc",
       "version_major": 2,
       "version_minor": 0
      },
      "text/plain": [
       "HBox(children=(FloatProgress(value=1.0, bar_style='info', description='Testing', layout=Layout(flex='2'), max=…"
      ]
     },
     "metadata": {},
     "output_type": "display_data"
    },
    {
     "name": "stdout",
     "output_type": "stream",
     "text": [
      "--------------------------------------------------------------------------------\n",
      "TEST RESULTS\n",
      "{'test_loss': tensor(644.9531)}\n",
      "--------------------------------------------------------------------------------\n",
      "\n"
     ]
    },
    {
     "data": {
      "text/plain": [
       "{'test_loss': 644.953125}"
      ]
     },
     "execution_count": 19,
     "metadata": {},
     "output_type": "execute_result"
    }
   ],
   "source": [
    "trainer.fit(model) \n",
    "trainer.test(model)"
   ]
  },
  {
   "cell_type": "markdown",
   "metadata": {},
   "source": [
    "### Visualizing Training & Checking for Convergence"
   ]
  },
  {
   "cell_type": "code",
   "execution_count": 15,
   "metadata": {},
   "outputs": [],
   "source": [
    "%load_ext tensorboard"
   ]
  },
  {
   "cell_type": "code",
   "execution_count": 8,
   "metadata": {},
   "outputs": [
    {
     "data": {
      "text/plain": [
       "Reusing TensorBoard on port 6006 (pid 7386), started 0:03:51 ago. (Use '!kill 7386' to kill it.)"
      ]
     },
     "metadata": {},
     "output_type": "display_data"
    },
    {
     "data": {
      "text/html": [
       "\n",
       "        <iframe\n",
       "            width=\"100%\"\n",
       "            height=\"800\"\n",
       "            src=\"http://localhost:6006\"\n",
       "            frameborder=\"0\"\n",
       "            allowfullscreen\n",
       "        ></iframe>\n",
       "        "
      ],
      "text/plain": [
       "<IPython.lib.display.IFrame at 0x7f7ed40beac8>"
      ]
     },
     "metadata": {},
     "output_type": "display_data"
    }
   ],
   "source": [
    "%tensorboard --logdir tb_logs"
   ]
  },
  {
   "cell_type": "code",
   "execution_count": 12,
   "metadata": {},
   "outputs": [
    {
     "name": "stdout",
     "output_type": "stream",
     "text": [
      "Known TensorBoard instances:\n",
      "  - port 6006: logdir tb_logs (started 0:06:21 ago; pid 7386)\n"
     ]
    }
   ],
   "source": [
    "from tensorboard import notebook\n",
    "notebook.list()"
   ]
  },
  {
   "cell_type": "code",
   "execution_count": 13,
   "metadata": {},
   "outputs": [
    {
     "name": "stdout",
     "output_type": "stream",
     "text": [
      "Selecting TensorBoard with logdir tb_logs (started 0:06:28 ago; port 6006, pid 7386).\n"
     ]
    },
    {
     "data": {
      "text/html": [
       "\n",
       "        <iframe\n",
       "            width=\"100%\"\n",
       "            height=\"1000\"\n",
       "            src=\"http://localhost:6006\"\n",
       "            frameborder=\"0\"\n",
       "            allowfullscreen\n",
       "        ></iframe>\n",
       "        "
      ],
      "text/plain": [
       "<IPython.lib.display.IFrame at 0x7f7ed3094f98>"
      ]
     },
     "metadata": {},
     "output_type": "display_data"
    }
   ],
   "source": [
    "notebook.display(port=6006, height=1000) "
   ]
  },
  {
   "cell_type": "code",
   "execution_count": 15,
   "metadata": {},
   "outputs": [
    {
     "ename": "ModuleNotFoundError",
     "evalue": "No module named 'tensorflow'",
     "output_type": "error",
     "traceback": [
      "\u001b[0;31m---------------------------------------------------------------------------\u001b[0m",
      "\u001b[0;31mModuleNotFoundError\u001b[0m                       Traceback (most recent call last)",
      "\u001b[0;32m<ipython-input-15-d6579f534729>\u001b[0m in \u001b[0;36m<module>\u001b[0;34m\u001b[0m\n\u001b[0;32m----> 1\u001b[0;31m \u001b[0;32mimport\u001b[0m \u001b[0mtensorflow\u001b[0m\u001b[0;34m\u001b[0m\u001b[0;34m\u001b[0m\u001b[0m\n\u001b[0m",
      "\u001b[0;31mModuleNotFoundError\u001b[0m: No module named 'tensorflow'"
     ]
    }
   ],
   "source": [
    "import tensorflow\n"
   ]
  }
 ],
 "metadata": {
  "colab": {
   "name": "00 Intro PyTorch.ipynb",
   "provenance": []
  },
  "kernelspec": {
   "display_name": "Python 3",
   "language": "python",
   "name": "python3"
  },
  "language_info": {
   "codemirror_mode": {
    "name": "ipython",
    "version": 3
   },
   "file_extension": ".py",
   "mimetype": "text/x-python",
   "name": "python",
   "nbconvert_exporter": "python",
   "pygments_lexer": "ipython3",
   "version": "3.6.7"
  }
 },
 "nbformat": 4,
 "nbformat_minor": 4
}
