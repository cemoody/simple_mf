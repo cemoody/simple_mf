{
 "cells": [
  {
   "cell_type": "markdown",
   "metadata": {
    "colab_type": "text",
    "id": "eR-hBxHZWwnP"
   },
   "source": [
    "Let's train a very simple non-linear multivariate regression model using PyTorch."
   ]
  },
  {
   "cell_type": "code",
   "execution_count": 2,
   "metadata": {
    "colab": {},
    "colab_type": "code",
    "id": "0Y-yt_2qWwnR"
   },
   "outputs": [],
   "source": [
    "import numpy as np\n",
    "import torch\n",
    "from torch import nn\n",
    "from torch import optim\n",
    "import torch.nn.functional as F\n",
    "from torch.autograd import Variable"
   ]
  },
  {
   "cell_type": "markdown",
   "metadata": {
    "colab_type": "text",
    "id": "txDdtC6RWwnU"
   },
   "source": [
    "Create a simple PyTorch Module. This Module models the function:\n",
    "\n",
    "$y = M_2 (M_1 x + b_1) + b_2$\n",
    "\n",
    "\n",
    "And you want to minimize:\n",
    "\n",
    "$L = || y - y_{observed} ||^2 + \\lambda_1 ||M_1||_F +  \\lambda_2 ||M_2||_F +  \\lambda_3 ||b_1||_F$\n",
    "\n",
    "where $x$ and $y$ are vectors and we're taking the Frobenius norm of our parameters. \n",
    "\n",
    "Note that $M_1$ and $M_2$ aren't necessarily square. \n",
    "In fact, if we set the shapes of $M_1$ and $M_2$ to be small we can try to \"squeeze\" into a smaller space and effectively build-in dimensionality reduction.\n",
    "\n",
    "This whole model is slightly more complicated than vanilla linear regression, and is now something like quadratic (because of the two matrix multiplies) vector regression (because we're predicting a vector outcome, not a scalar one)."
   ]
  },
  {
   "cell_type": "markdown",
   "metadata": {
    "colab_type": "text",
    "id": "1tDy5mhHWwnV"
   },
   "source": [
    "We can split the above model into three steps, which (1) initialize parameters, (2) compute a prediction, and (3) compute the loss.\n",
    "\n",
    "- Declare that you'll be optimizing two linear functions. This saves space for $M_1$, $M_2$, $b_1$ and $b_2$, but not $x$ or $y$. Putting it in the `__init__` function of a `nn.Module` is special: PyTorch will remember that these parameters are optimize-able.\n",
    "- `forward` tells us how to combine our parameters to make a prediction $y$\n",
    "- `loss` tells us how to compare our prediction vector to our observed vector, plus how to minimize our regularizer."
   ]
  },
  {
   "cell_type": "code",
   "execution_count": 64,
   "metadata": {
    "colab": {},
    "colab_type": "code",
    "id": "kU4s2XPFWwnW"
   },
   "outputs": [],
   "source": [
    "class Bottleneck(nn.Module):\n",
    "    def __init__(self, n_in_cols, n_out_cols, n_hidden=1):\n",
    "        super(Bottleneck, self).__init__()\n",
    "        # 368 -> 2\n",
    "        self.lin1 = nn.Linear(n_in_cols, n_hidden)\n",
    "        # 2 -> 4\n",
    "        self.lin2 = nn.Linear(n_hidden, n_out_cols)\n",
    "    \n",
    "    def forward(self, x):\n",
    "        # x is a minibatch of rows of our features\n",
    "        # x is of shape (batch_size, 9)\n",
    "        hidden = self.lin1(x)\n",
    "        # y is a minibatch of our predictions\n",
    "        y = self.lin2(hidden)\n",
    "        return y\n",
    "\n",
    "    def loss(self, prediction, target, lam1=1e-3, lam2=1e-3):\n",
    "        # This is just the mean squared error\n",
    "        loss_mse = ((prediction - target)**2.0).sum()\n",
    "        # This computes our Frobenius norm over both matrices\n",
    "        # Note that we can access the Linear model's variables\n",
    "        # directly if we'd like. No tricks here!\n",
    "        loss_reg_m1 = (self.lin1.weight**2.0 * lam1).sum()\n",
    "        loss_reg_m2 = (self.lin2.weight**2.0 * lam2).sum()\n",
    "        loss = loss_mse + loss_reg_m1 + loss_reg_m2\n",
    "        return loss"
   ]
  },
  {
   "cell_type": "markdown",
   "metadata": {
    "colab_type": "text",
    "id": "gPjIWOaDWwnY"
   },
   "source": [
    "Let's make up some fake data to fit. Annoyingly, it has to be `float32` or `int64`."
   ]
  },
  {
   "cell_type": "markdown",
   "metadata": {},
   "source": [
    "$ y   X  @ M + noise$"
   ]
  },
  {
   "cell_type": "code",
   "execution_count": 65,
   "metadata": {
    "colab": {},
    "colab_type": "code",
    "id": "90rcC9_uWwnY"
   },
   "outputs": [],
   "source": [
    "X = np.random.normal(size=(2000, 9)).astype(np.float32)\n",
    "Y = np.random.normal(size=(2000, 4)) + np.dot(X, np.random.normal(size=(9, 4)))\n",
    "Y = Y.astype(np.float32)"
   ]
  },
  {
   "cell_type": "code",
   "execution_count": 66,
   "metadata": {},
   "outputs": [
    {
     "data": {
      "text/plain": [
       "((2000, 9), (2000, 4))"
      ]
     },
     "execution_count": 66,
     "metadata": {},
     "output_type": "execute_result"
    }
   ],
   "source": [
    "X.shape, Y.shape"
   ]
  },
  {
   "cell_type": "code",
   "execution_count": 67,
   "metadata": {},
   "outputs": [
    {
     "data": {
      "text/plain": [
       "<matplotlib.collections.PathCollection at 0x7f16fcd45f60>"
      ]
     },
     "execution_count": 67,
     "metadata": {},
     "output_type": "execute_result"
    },
    {
     "data": {
      "image/png": "[encoded data removed]",
      "text/plain": [
       "<Figure size 432x288 with 1 Axes>"
      ]
     },
     "metadata": {
      "needs_background": "light"
     },
     "output_type": "display_data"
    }
   ],
   "source": [
    "from  matplotlib  import pyplot as plt\n",
    "plt.scatter(X[:, 0], Y[:, 1], lw=0.0, s=1.0)"
   ]
  },
  {
   "cell_type": "code",
   "execution_count": 68,
   "metadata": {
    "colab": {
     "base_uri": "https://localhost:8080/",
     "height": 34
    },
    "colab_type": "code",
    "id": "tfukBFEXWwna",
    "outputId": "bbebbd11-96a4-4de1-e4e6-4f9ba4fe993e"
   },
   "outputs": [
    {
     "data": {
      "text/plain": [
       "((2000, 9), (2000, 4))"
      ]
     },
     "execution_count": 68,
     "metadata": {},
     "output_type": "execute_result"
    }
   ],
   "source": [
    "X.shape, Y.shape"
   ]
  },
  {
   "cell_type": "markdown",
   "metadata": {
    "colab_type": "text",
    "id": "tTvhaQ94Wwnd"
   },
   "source": [
    "Initialize the model. Note that we'll also initialize the \"optimizer\". Check out [this link](http://ruder.io/optimizing-gradient-descent/) to learn more about different optimizers. For now, `Adam` is a good choice."
   ]
  },
  {
   "cell_type": "code",
   "execution_count": 69,
   "metadata": {
    "colab": {},
    "colab_type": "code",
    "id": "QcoThuJeWwne"
   },
   "outputs": [],
   "source": [
    "model = Bottleneck(9, 4, 3)\n",
    "o = optim.Adam(model.parameters())"
   ]
  },
  {
   "cell_type": "code",
   "execution_count": 70,
   "metadata": {},
   "outputs": [
    {
     "data": {
      "text/plain": [
       "Adam (\n",
       "Parameter Group 0\n",
       "    amsgrad: False\n",
       "    betas: (0.9, 0.999)\n",
       "    eps: 1e-08\n",
       "    lr: 0.001\n",
       "    weight_decay: 0\n",
       ")"
      ]
     },
     "execution_count": 70,
     "metadata": {},
     "output_type": "execute_result"
    }
   ],
   "source": [
    "o"
   ]
  },
  {
   "cell_type": "code",
   "execution_count": 71,
   "metadata": {
    "colab": {
     "base_uri": "https://localhost:8080/",
     "height": 34
    },
    "colab_type": "code",
    "id": "s1um_eFhWwng",
    "outputId": "bbbf9349-50cd-4327-b3e3-0e1957d198fe"
   },
   "outputs": [
    {
     "data": {
      "text/plain": [
       "Parameter containing:\n",
       "tensor([ 0.0635,  0.1732, -0.1427], requires_grad=True)"
      ]
     },
     "execution_count": 71,
     "metadata": {},
     "output_type": "execute_result"
    }
   ],
   "source": [
    "model.lin1.bias"
   ]
  },
  {
   "cell_type": "code",
   "execution_count": 72,
   "metadata": {
    "colab": {
     "base_uri": "https://localhost:8080/",
     "height": 34
    },
    "colab_type": "code",
    "id": "zA_mN6VFWwni",
    "outputId": "d6ca681e-e296-40b7-b713-e94abd4e3d19"
   },
   "outputs": [
    {
     "data": {
      "text/plain": [
       "torch.Size([4, 3])"
      ]
     },
     "execution_count": 72,
     "metadata": {},
     "output_type": "execute_result"
    }
   ],
   "source": [
    "model.lin2.weight.data.shape"
   ]
  },
  {
   "cell_type": "code",
   "execution_count": 73,
   "metadata": {
    "colab": {
     "base_uri": "https://localhost:8080/",
     "height": 34
    },
    "colab_type": "code",
    "id": "f0xFhRocWwnk",
    "outputId": "330047c9-dda9-4ab2-d3d6-b8c61c71b853"
   },
   "outputs": [
    {
     "data": {
      "text/plain": [
       "torch.Size([3])"
      ]
     },
     "execution_count": 73,
     "metadata": {},
     "output_type": "execute_result"
    }
   ],
   "source": [
    "model.lin1.bias.data.shape"
   ]
  },
  {
   "cell_type": "code",
   "execution_count": 74,
   "metadata": {},
   "outputs": [],
   "source": [
    "model.lin1.bias.grad"
   ]
  },
  {
   "cell_type": "code",
   "execution_count": 75,
   "metadata": {
    "colab": {},
    "colab_type": "code",
    "id": "HZTk2WW9Wwnm"
   },
   "outputs": [],
   "source": [
    "from random import shuffle\n",
    "\n",
    "\n",
    "def chunks(X, Y, size):\n",
    "    \"\"\"Yield successive `size` chunks from X & Y.\"\"\"\n",
    "    starts = list(range(0, len(X), size))\n",
    "    shuffle(starts)\n",
    "    for i in starts:\n",
    "        yield (X[i:i + size], Y[i:i + size])"
   ]
  },
  {
   "cell_type": "code",
   "execution_count": 77,
   "metadata": {
    "colab": {
     "base_uri": "https://localhost:8080/",
     "height": 1000
    },
    "colab_type": "code",
    "id": "yVJl0fucWwnp",
    "outputId": "ae12ab63-0da4-4925-93ef-05538025c738"
   },
   "outputs": [
    {
     "name": "stdout",
     "output_type": "stream",
     "text": [
      "0 tensor(2629.7310)\n",
      "10 tensor(1742.4615)\n",
      "20 tensor(621.7415)\n",
      "30 tensor(435.9390)\n",
      "40 tensor(368.0956)\n",
      "50 tensor(361.3174)\n",
      "60 tensor(368.3289)\n",
      "70 tensor(382.3170)\n",
      "80 tensor(401.0488)\n",
      "90 tensor(343.1752)\n",
      "100 tensor(130.1310)\n",
      "110 tensor(384.9185)\n",
      "120 tensor(353.1926)\n",
      "130 tensor(421.3416)\n",
      "140 tensor(330.5657)\n",
      "150 tensor(401.8585)\n",
      "160 tensor(430.9445)\n",
      "170 tensor(418.4879)\n",
      "180 tensor(416.2864)\n",
      "190 tensor(445.3145)\n",
      "200 tensor(449.2863)\n",
      "210 tensor(407.4287)\n",
      "220 tensor(327.8868)\n",
      "230 tensor(423.1025)\n",
      "240 tensor(422.7901)\n",
      "250 tensor(401.7513)\n",
      "260 tensor(414.6964)\n",
      "270 tensor(374.4739)\n",
      "280 tensor(445.4687)\n",
      "290 tensor(343.0592)\n",
      "300 tensor(418.5825)\n",
      "310 tensor(382.6416)\n",
      "320 tensor(401.4570)\n",
      "330 tensor(439.9376)\n",
      "340 tensor(353.4030)\n",
      "350 tensor(376.3948)\n",
      "360 tensor(353.4160)\n",
      "370 tensor(355.2809)\n",
      "380 tensor(354.7621)\n",
      "390 tensor(401.2310)\n"
     ]
    }
   ],
   "source": [
    "batch_size = 64\n",
    "losses = []\n",
    "for epoch in range(400):\n",
    "    for itr, (feature, target) in enumerate(chunks(X, Y, batch_size)):\n",
    "        # This zeros the gradients on every parameter. \n",
    "        # This is easy to miss and hard to troubleshoot.\n",
    "        o.zero_grad()\n",
    "        # Convert \n",
    "        feature = Variable(torch.from_numpy(feature))\n",
    "        target = Variable(torch.from_numpy(target))\n",
    "        # Compute a prediction for these features\n",
    "        prediction = model.forward(feature)\n",
    "        # Compute a loss given what the true target outcome was\n",
    "        loss = model.loss(prediction, target)\n",
    "        # break\n",
    "        # Backpropagate: compute the direction / gradient every model parameter\n",
    "        # defined in your __init__ should move in in order to minimize this loss\n",
    "        # However, we're not actually changing these parameters, we're just storing\n",
    "        # how they should change.\n",
    "\n",
    "        loss.backward()\n",
    "        # Now take a step & update the model parameters. The optimizer uses the gradient at \n",
    "        # defined on every parameter in our model and nudges it in that direction.\n",
    "        o.step()\n",
    "        # Record the loss per example\n",
    "        losses.append(loss.data.numpy() / len(feature))\n",
    "        if epoch % 10 == 0 and itr ==0:\n",
    "            print(epoch, loss.data)\n"
   ]
  },
  {
   "cell_type": "code",
   "execution_count": 79,
   "metadata": {},
   "outputs": [
    {
     "data": {
      "text/plain": [
       "64"
      ]
     },
     "execution_count": 79,
     "metadata": {},
     "output_type": "execute_result"
    }
   ],
   "source": [
    "batch_size"
   ]
  },
  {
   "cell_type": "code",
   "execution_count": 80,
   "metadata": {},
   "outputs": [
    {
     "data": {
      "text/plain": [
       "tensor(375.6203, grad_fn=<AddBackward0>)"
      ]
     },
     "execution_count": 80,
     "metadata": {},
     "output_type": "execute_result"
    }
   ],
   "source": [
    "loss"
   ]
  },
  {
   "cell_type": "code",
   "execution_count": 81,
   "metadata": {},
   "outputs": [
    {
     "data": {
      "text/plain": [
       "Parameter containing:\n",
       "tensor([[ 0.5997, -1.1195, -0.2115,  0.1686, -0.4066, -0.4117,  0.1644, -0.4013,\n",
       "          0.7949],\n",
       "        [ 0.4714, -0.6563, -0.5198, -0.8664, -1.0424, -0.9516, -0.8520,  0.3147,\n",
       "         -0.4478],\n",
       "        [-0.4595,  0.4021,  0.1621, -0.3432, -0.8716,  0.0608, -0.4159, -0.2184,\n",
       "          0.8904]], requires_grad=True)"
      ]
     },
     "execution_count": 81,
     "metadata": {},
     "output_type": "execute_result"
    }
   ],
   "source": [
    "model.lin1.weight"
   ]
  },
  {
   "cell_type": "code",
   "execution_count": 34,
   "metadata": {},
   "outputs": [],
   "source": [
    "o.step()"
   ]
  },
  {
   "cell_type": "code",
   "execution_count": 35,
   "metadata": {},
   "outputs": [
    {
     "data": {
      "text/plain": [
       "Parameter containing:\n",
       "tensor([[ 0.1357,  0.1815, -0.1628, -0.1981,  0.0946, -0.2541,  0.1522, -0.0873,\n",
       "          0.3258],\n",
       "        [-0.0151,  0.2279,  0.2521,  0.2921, -0.0799,  0.1168,  0.2285, -0.1986,\n",
       "          0.2204],\n",
       "        [-0.3058, -0.1034,  0.3233,  0.3157, -0.1247, -0.1399, -0.1860,  0.0900,\n",
       "         -0.2572]], requires_grad=True)"
      ]
     },
     "execution_count": 35,
     "metadata": {},
     "output_type": "execute_result"
    }
   ],
   "source": [
    "model.lin1.weight"
   ]
  },
  {
   "cell_type": "code",
   "execution_count": 32,
   "metadata": {},
   "outputs": [
    {
     "data": {
      "text/plain": [
       "tensor([[ -18.4751,  -36.8454,  -17.8055, -159.9650,    9.1997,  -78.3643,\n",
       "           25.7076, -166.1833,  154.2951],\n",
       "        [  50.4419,   47.0757,  111.7195, -160.6745,  -36.0347, -116.5832,\n",
       "            2.9701, -171.9577,  -57.8411],\n",
       "        [ -26.0441,  103.8225,   43.5955,  122.7379,   48.7657,  -10.1613,\n",
       "          -42.5323,  117.4341,  -17.7960]])"
      ]
     },
     "execution_count": 32,
     "metadata": {},
     "output_type": "execute_result"
    }
   ],
   "source": [
    "model.lin1.weight.grad"
   ]
  },
  {
   "cell_type": "markdown",
   "metadata": {
    "colab_type": "text",
    "id": "wqUb4_VNWwnr"
   },
   "source": [
    "I can introspect my model and get the parameters out:"
   ]
  },
  {
   "cell_type": "code",
   "execution_count": 83,
   "metadata": {
    "colab": {
     "base_uri": "https://localhost:8080/",
     "height": 136
    },
    "colab_type": "code",
    "id": "6jI1H8GMWwnr",
    "outputId": "08162fb8-43a8-456e-ac79-1d0ce73513e5"
   },
   "outputs": [
    {
     "data": {
      "text/plain": [
       "array([[-0.3915055 ,  1.0909117 ,  0.7181141 , -0.70651376, -0.425953  ,\n",
       "        -0.47559333, -0.61746806,  0.70269215,  0.6047616 ],\n",
       "       [-0.25109383,  0.4693849 , -0.05878725,  0.7238346 , -0.41165322,\n",
       "         0.7268368 , -0.36824784,  0.824761  , -0.5482797 ],\n",
       "       [ 0.46500823,  1.0385923 ,  0.18565843,  0.8508095 ,  0.27644953,\n",
       "         0.14546989, -0.09419439, -0.30632475, -0.07996742]],\n",
       "      dtype=float32)"
      ]
     },
     "execution_count": 83,
     "metadata": {
      "tags": []
     },
     "output_type": "execute_result"
    }
   ],
   "source": [
    "model.lin1.weight.data.numpy()"
   ]
  },
  {
   "cell_type": "code",
   "execution_count": 84,
   "metadata": {
    "colab": {
     "base_uri": "https://localhost:8080/",
     "height": 34
    },
    "colab_type": "code",
    "id": "k4Fg3dqCWwnt",
    "outputId": "514340b6-fa1a-4d04-c7bc-2c52a24c47e9"
   },
   "outputs": [
    {
     "data": {
      "text/plain": [
       "array([0.04460083, 0.24982159, 0.02115883], dtype=float32)"
      ]
     },
     "execution_count": 84,
     "metadata": {
      "tags": []
     },
     "output_type": "execute_result"
    }
   ],
   "source": [
    "model.lin1.bias.data.numpy()"
   ]
  },
  {
   "cell_type": "markdown",
   "metadata": {
    "colab_type": "text",
    "id": "haw2nu4uWwnv"
   },
   "source": [
    "I can also see that the loss is simply a scalar:"
   ]
  },
  {
   "cell_type": "code",
   "execution_count": 85,
   "metadata": {
    "colab": {
     "base_uri": "https://localhost:8080/",
     "height": 34
    },
    "colab_type": "code",
    "id": "Bzjg43hWWwnw",
    "outputId": "31eb0c66-de2e-4a43-d88f-4e33cd927467"
   },
   "outputs": [
    {
     "data": {
      "text/plain": [
       "tensor(358.7330, grad_fn=<AddBackward0>)"
      ]
     },
     "execution_count": 85,
     "metadata": {
      "tags": []
     },
     "output_type": "execute_result"
    }
   ],
   "source": [
    "loss"
   ]
  },
  {
   "cell_type": "markdown",
   "metadata": {
    "colab_type": "text",
    "id": "7mEHxE2vWwnx"
   },
   "source": [
    "You can see that the gradient is zero before we call `loss.backward()`"
   ]
  },
  {
   "cell_type": "code",
   "execution_count": 86,
   "metadata": {
    "colab": {
     "base_uri": "https://localhost:8080/",
     "height": 34
    },
    "colab_type": "code",
    "id": "PdtCKnp7Wwny",
    "outputId": "41797244-e849-41e1-a02b-9d4806c5f542"
   },
   "outputs": [
    {
     "data": {
      "text/plain": [
       "tensor([ 36.5766,   8.1368, -11.6025])"
      ]
     },
     "execution_count": 86,
     "metadata": {
      "tags": []
     },
     "output_type": "execute_result"
    }
   ],
   "source": [
    "model.lin1.bias.grad"
   ]
  },
  {
   "cell_type": "markdown",
   "metadata": {
    "colab_type": "text",
    "id": "_u5Tt1HvWwn0"
   },
   "source": [
    "...And non-zero afterwards."
   ]
  },
  {
   "cell_type": "code",
   "execution_count": 87,
   "metadata": {
    "colab": {
     "base_uri": "https://localhost:8080/",
     "height": 34
    },
    "colab_type": "code",
    "id": "9QSSBa9IWwn0",
    "outputId": "a406d6c2-0583-4ec5-d6ee-480fce5592ba"
   },
   "outputs": [
    {
     "data": {
      "text/plain": [
       "tensor([ 36.5766,   8.1368, -11.6025])"
      ]
     },
     "execution_count": 87,
     "metadata": {
      "tags": []
     },
     "output_type": "execute_result"
    }
   ],
   "source": [
    "model.lin1.bias.grad"
   ]
  },
  {
   "cell_type": "code",
   "execution_count": 88,
   "metadata": {
    "colab": {
     "base_uri": "https://localhost:8080/",
     "height": 34
    },
    "colab_type": "code",
    "id": "mdVKmYbxWwn2",
    "outputId": "82df0f89-3cf2-4013-8436-a1080942447e"
   },
   "outputs": [
    {
     "data": {
      "text/plain": [
       "tensor([0.0446, 0.2498, 0.0212])"
      ]
     },
     "execution_count": 88,
     "metadata": {
      "tags": []
     },
     "output_type": "execute_result"
    }
   ],
   "source": [
    "model.lin1.bias.data"
   ]
  },
  {
   "cell_type": "markdown",
   "metadata": {
    "colab_type": "text",
    "id": "Q_miI8X3Wwn4"
   },
   "source": [
    "And after we run `o.step()` we'll notice that the bias parameter has been updated:"
   ]
  },
  {
   "cell_type": "code",
   "execution_count": 82,
   "metadata": {
    "colab": {
     "base_uri": "https://localhost:8080/",
     "height": 34
    },
    "colab_type": "code",
    "id": "h6yN2KT7Wwn4",
    "outputId": "da4ba555-f662-4553-eb0d-1714785152e4"
   },
   "outputs": [
    {
     "data": {
      "text/plain": [
       "array([-0.07246264, -0.10928585, -0.16296163], dtype=float32)"
      ]
     },
     "execution_count": 82,
     "metadata": {},
     "output_type": "execute_result"
    }
   ],
   "source": [
    "model.lin1.bias.data.numpy()"
   ]
  },
  {
   "cell_type": "markdown",
   "metadata": {
    "colab_type": "text",
    "id": "P-kM1uaxWwn7"
   },
   "source": [
    "Let's check on convergence:"
   ]
  },
  {
   "cell_type": "code",
   "execution_count": 83,
   "metadata": {
    "colab": {},
    "colab_type": "code",
    "id": "qmt4Z8pMWwn8"
   },
   "outputs": [],
   "source": [
    "import numpy as np\n",
    "import matplotlib.pyplot as plt\n",
    "%matplotlib inline"
   ]
  },
  {
   "cell_type": "code",
   "execution_count": 84,
   "metadata": {
    "colab": {
     "base_uri": "https://localhost:8080/",
     "height": 717
    },
    "colab_type": "code",
    "id": "4rpmKezaWwn_",
    "outputId": "4c1432de-3c9a-449c-85d4-4199a697113a"
   },
   "outputs": [
    {
     "data": {
      "text/plain": [
       "[<matplotlib.lines.Line2D at 0x7f16fcb8a320>]"
      ]
     },
     "execution_count": 84,
     "metadata": {},
     "output_type": "execute_result"
    },
    {
     "data": {
      "image/png": "[encoded data removed]",
      "text/plain": [
       "<Figure size 864x864 with 1 Axes>"
      ]
     },
     "metadata": {
      "needs_background": "light"
     },
     "output_type": "display_data"
    }
   ],
   "source": [
    "n = len(losses)\n",
    "smooth = np.convolve(losses, np.ones((n,))/n, mode='valid')\n",
    "plt.figure(figsize=(12, 12))\n",
    "plt.plot(losses[::10])\n",
    "plt.plot(smooth, c='r')"
   ]
  },
  {
   "cell_type": "markdown",
   "metadata": {
    "colab_type": "text",
    "id": "XLOCq-eWWwoB"
   },
   "source": [
    "Looks converged to me!"
   ]
  },
  {
   "cell_type": "markdown",
   "metadata": {},
   "source": [
    "### Exercise"
   ]
  },
  {
   "cell_type": "markdown",
   "metadata": {},
   "source": []
  },
  {
   "cell_type": "code",
   "execution_count": null,
   "metadata": {},
   "outputs": [],
   "source": []
  }
 ],
 "metadata": {
  "colab": {
   "name": "00 Intro PyTorch.ipynb",
   "provenance": []
  },
  "kernelspec": {
   "display_name": "Python 3",
   "language": "python",
   "name": "python3"
  },
  "language_info": {
   "codemirror_mode": {
    "name": "ipython",
    "version": 3
   },
   "file_extension": ".py",
   "mimetype": "text/x-python",
   "name": "python",
   "nbconvert_exporter": "python",
   "pygments_lexer": "ipython3",
   "version": "3.6.7"
  }
 },
 "nbformat": 4,
 "nbformat_minor": 4
}
