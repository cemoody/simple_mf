{
  "cells": [
    {
      "cell_type": "markdown",
      "source": [
        "## Intro to PyTorch Tensors\n",
        "\n",
        "\n",
        "(The next few lines are stolen from here: https://colab.research.google.com/github/phlippe/uvadlc_notebooks/blob/master/docs/tutorial_notebooks/tutorial2/Introduction_to_PyTorch.ipynb#scrollTo=s7cMyvT6lg2_)"
      ],
      "metadata": {
        "id": "cYohpzbimEB2"
      }
    },
    {
      "cell_type": "markdown",
      "source": [
        "Tensors are the PyTorch equivalent to Numpy arrays, with the addition to also have support for GPU acceleration (more on that later). The name \"tensor\" is a generalization of concepts you already know. For instance, a vector is a 1-D tensor, and a matrix a 2-D tensor. When working with neural networks, we will use tensors of various shapes and number of dimensions.\n",
        "\n",
        "Most common functions you know from numpy can be used on tensors as well. Actually, since numpy arrays are so similar to tensors, we can convert most tensors to numpy arrays (and back) but we don't need it too often.\n",
        "\n"
      ],
      "metadata": {
        "id": "Gb3lcsmhl_ms"
      }
    },
    {
      "cell_type": "code",
      "source": [
        "import torch\n",
        "import numpy as np\n",
        "x = torch.Tensor(2, 3, 4)\n",
        "print(x)"
      ],
      "metadata": {
        "id": "4fIKetFrlwL-",
        "outputId": "1b567066-5339-47e9-c207-6f7b4703ad89",
        "colab": {
          "base_uri": "https://localhost:8080/"
        }
      },
      "execution_count": 3,
      "outputs": [
        {
          "output_type": "stream",
          "name": "stdout",
          "text": [
            "tensor([[[4.3526e+03, 3.0667e-41, 0.0000e+00, 0.0000e+00],\n",
            "         [0.0000e+00, 0.0000e+00, 0.0000e+00, 0.0000e+00],\n",
            "         [0.0000e+00, 0.0000e+00, 0.0000e+00, 0.0000e+00]],\n",
            "\n",
            "        [[0.0000e+00, 0.0000e+00, 0.0000e+00, 0.0000e+00],\n",
            "         [0.0000e+00, 0.0000e+00, 0.0000e+00, 0.0000e+00],\n",
            "         [0.0000e+00, 0.0000e+00, 0.0000e+00, 0.0000e+00]]])\n"
          ]
        }
      ]
    },
    {
      "cell_type": "code",
      "source": [
        "# Create a tensor from a (nested) list\n",
        "x = torch.Tensor([[1, 2], [3, 4]])\n",
        "print(x)"
      ],
      "metadata": {
        "id": "V0Xehub1mTOh",
        "outputId": "b624950a-d3cd-4fbb-e6d3-8793277ceef4",
        "colab": {
          "base_uri": "https://localhost:8080/"
        }
      },
      "execution_count": 4,
      "outputs": [
        {
          "output_type": "stream",
          "name": "stdout",
          "text": [
            "tensor([[1., 2.],\n",
            "        [3., 4.]])\n"
          ]
        }
      ]
    },
    {
      "cell_type": "code",
      "source": [
        "# Create a tensor with random values between 0 and 1 with the shape [2, 3, 4]\n",
        "x = torch.rand(2, 3, 4)\n",
        "print(x)"
      ],
      "metadata": {
        "id": "r25Hn8TRmXfU",
        "outputId": "0de656b6-93bd-4eb9-f601-4716be7bcad4",
        "colab": {
          "base_uri": "https://localhost:8080/"
        }
      },
      "execution_count": 5,
      "outputs": [
        {
          "output_type": "stream",
          "name": "stdout",
          "text": [
            "tensor([[[0.7711, 0.2855, 0.6440, 0.2049],\n",
            "         [0.6453, 0.8711, 0.9064, 0.2619],\n",
            "         [0.0031, 0.4403, 0.3517, 0.0499]],\n",
            "\n",
            "        [[0.8255, 0.5054, 0.4248, 0.1429],\n",
            "         [0.3897, 0.4608, 0.8065, 0.5663],\n",
            "         [0.1808, 0.4620, 0.9881, 0.5954]]])\n"
          ]
        }
      ]
    },
    {
      "cell_type": "code",
      "source": [
        "shape = x.shape\n",
        "print(\"Shape:\", x.shape)\n",
        "\n",
        "size = x.size()\n",
        "print(\"Size:\", size)\n",
        "\n",
        "dim1, dim2, dim3 = x.size()\n",
        "print(\"Size:\", dim1, dim2, dim3)"
      ],
      "metadata": {
        "id": "vAshzy4GmY5H",
        "outputId": "33796fba-5050-4fe5-fad4-729f6a7d02aa",
        "colab": {
          "base_uri": "https://localhost:8080/"
        }
      },
      "execution_count": 6,
      "outputs": [
        {
          "output_type": "stream",
          "name": "stdout",
          "text": [
            "Shape: torch.Size([2, 3, 4])\n",
            "Size: torch.Size([2, 3, 4])\n",
            "Size: 2 3 4\n"
          ]
        }
      ]
    },
    {
      "cell_type": "code",
      "source": [
        "np_arr = np.array([[1, 2], [3, 4]])\n",
        "tensor = torch.from_numpy(np_arr)\n",
        "\n",
        "print(\"Numpy array:\", np_arr)\n",
        "print(\"PyTorch tensor:\", tensor)"
      ],
      "metadata": {
        "id": "xmBoXK-vmb0A",
        "outputId": "9b23207f-59f3-45c6-97e3-f8823cd9c033",
        "colab": {
          "base_uri": "https://localhost:8080/"
        }
      },
      "execution_count": 7,
      "outputs": [
        {
          "output_type": "stream",
          "name": "stdout",
          "text": [
            "Numpy array: [[1 2]\n",
            " [3 4]]\n",
            "PyTorch tensor: tensor([[1, 2],\n",
            "        [3, 4]])\n"
          ]
        }
      ]
    },
    {
      "cell_type": "code",
      "source": [
        "x1 = torch.rand(2, 3)\n",
        "x2 = torch.rand(2, 3)\n",
        "y = x1 + x2\n",
        "\n",
        "print(\"X1\", x1)\n",
        "print(\"X2\", x2)\n",
        "print(\"Y\", y)"
      ],
      "metadata": {
        "id": "SZOy0o87md4A",
        "outputId": "6565d50d-eeb0-4864-ab99-9879a63f6736",
        "colab": {
          "base_uri": "https://localhost:8080/"
        }
      },
      "execution_count": 8,
      "outputs": [
        {
          "output_type": "stream",
          "name": "stdout",
          "text": [
            "X1 tensor([[0.7722, 0.0716, 0.2671],\n",
            "        [0.7539, 0.8937, 0.7247]])\n",
            "X2 tensor([[0.2537, 0.0175, 0.7692],\n",
            "        [0.4459, 0.9184, 0.4322]])\n",
            "Y tensor([[1.0259, 0.0891, 1.0363],\n",
            "        [1.1997, 1.8121, 1.1569]])\n"
          ]
        }
      ]
    },
    {
      "cell_type": "code",
      "source": [
        "x1"
      ],
      "metadata": {
        "id": "-BQRBTslmrty",
        "outputId": "ee2298bd-67d2-4e61-8f1a-43fabefcb739",
        "colab": {
          "base_uri": "https://localhost:8080/"
        }
      },
      "execution_count": 9,
      "outputs": [
        {
          "output_type": "execute_result",
          "data": {
            "text/plain": [
              "tensor([[0.7722, 0.0716, 0.2671],\n",
              "        [0.7539, 0.8937, 0.7247]])"
            ]
          },
          "metadata": {},
          "execution_count": 9
        }
      ]
    },
    {
      "cell_type": "code",
      "source": [
        "x1[0]"
      ],
      "metadata": {
        "id": "3v5B_DWHmvlV",
        "outputId": "f5242fe4-461b-4c4a-b0bf-53ec6c2cb95b",
        "colab": {
          "base_uri": "https://localhost:8080/"
        }
      },
      "execution_count": 10,
      "outputs": [
        {
          "output_type": "execute_result",
          "data": {
            "text/plain": [
              "tensor([0.7722, 0.0716, 0.2671])"
            ]
          },
          "metadata": {},
          "execution_count": 10
        }
      ]
    },
    {
      "cell_type": "code",
      "source": [
        "x1[1]"
      ],
      "metadata": {
        "id": "XkI5vEUKmxIJ",
        "outputId": "a77df7fd-32d9-485f-d7d5-6089e93410f7",
        "colab": {
          "base_uri": "https://localhost:8080/"
        }
      },
      "execution_count": 11,
      "outputs": [
        {
          "output_type": "execute_result",
          "data": {
            "text/plain": [
              "tensor([0.7539, 0.8937, 0.7247])"
            ]
          },
          "metadata": {},
          "execution_count": 11
        }
      ]
    },
    {
      "cell_type": "code",
      "source": [
        "x1[:, 0]"
      ],
      "metadata": {
        "id": "Vt6uJNpXm03M",
        "outputId": "87f59e26-69af-4d72-878f-ce4d9fb26564",
        "colab": {
          "base_uri": "https://localhost:8080/"
        }
      },
      "execution_count": 12,
      "outputs": [
        {
          "output_type": "execute_result",
          "data": {
            "text/plain": [
              "tensor([0.7722, 0.7539])"
            ]
          },
          "metadata": {},
          "execution_count": 12
        }
      ]
    },
    {
      "cell_type": "code",
      "source": [
        "x1"
      ],
      "metadata": {
        "id": "yxQBDpNZm7Nw",
        "outputId": "df8e205f-ed6d-499b-8486-58e4f2b693e2",
        "colab": {
          "base_uri": "https://localhost:8080/"
        }
      },
      "execution_count": 13,
      "outputs": [
        {
          "output_type": "execute_result",
          "data": {
            "text/plain": [
              "tensor([[0.7722, 0.0716, 0.2671],\n",
              "        [0.7539, 0.8937, 0.7247]])"
            ]
          },
          "metadata": {},
          "execution_count": 13
        }
      ]
    },
    {
      "cell_type": "code",
      "source": [
        "x1[None, :,]"
      ],
      "metadata": {
        "id": "jhrUGHoJm2dH",
        "outputId": "68e6865f-42de-4134-9abb-a581412ea618",
        "colab": {
          "base_uri": "https://localhost:8080/"
        }
      },
      "execution_count": 14,
      "outputs": [
        {
          "output_type": "execute_result",
          "data": {
            "text/plain": [
              "tensor([[[0.7722, 0.0716, 0.2671],\n",
              "         [0.7539, 0.8937, 0.7247]]])"
            ]
          },
          "metadata": {},
          "execution_count": 14
        }
      ]
    },
    {
      "cell_type": "code",
      "source": [
        "print(x1.shape)\n",
        "print(x1[None, :, :].shape)\n",
        "print(x1[None, ...].shape)"
      ],
      "metadata": {
        "id": "bP6QMbqSnAAU",
        "outputId": "e81ac9a7-c0b8-4ca8-9776-af7f8cf22efe",
        "colab": {
          "base_uri": "https://localhost:8080/"
        }
      },
      "execution_count": 15,
      "outputs": [
        {
          "output_type": "stream",
          "name": "stdout",
          "text": [
            "torch.Size([2, 3])\n",
            "torch.Size([1, 2, 3])\n",
            "torch.Size([1, 2, 3])\n"
          ]
        }
      ]
    },
    {
      "cell_type": "code",
      "source": [
        "print(x1[..., 1].shape)"
      ],
      "metadata": {
        "id": "3gGhbBP2nF_A",
        "outputId": "319c4acc-0447-410f-d393-a800824f9883",
        "colab": {
          "base_uri": "https://localhost:8080/"
        }
      },
      "execution_count": 16,
      "outputs": [
        {
          "output_type": "stream",
          "name": "stdout",
          "text": [
            "torch.Size([2])\n"
          ]
        }
      ]
    },
    {
      "cell_type": "code",
      "source": [
        "print(x1[..., 1][None, ...].T)"
      ],
      "metadata": {
        "id": "Li-YXNrSnTjZ",
        "outputId": "dae45180-7e74-497d-83ea-911c6d0784af",
        "colab": {
          "base_uri": "https://localhost:8080/"
        }
      },
      "execution_count": 17,
      "outputs": [
        {
          "output_type": "stream",
          "name": "stdout",
          "text": [
            "tensor([[0.0716],\n",
            "        [0.8937]])\n"
          ]
        }
      ]
    },
    {
      "cell_type": "code",
      "source": [
        "indexes = torch.LongTensor([0])\n",
        "print(x1[indexes])\n",
        "indexes = torch.LongTensor([0, 1, 0, 0, 0])\n",
        "print(x1[indexes])"
      ],
      "metadata": {
        "id": "-y8rOoqOnozn",
        "outputId": "9df99245-2dc0-4143-d5a4-0225c338cb8c",
        "colab": {
          "base_uri": "https://localhost:8080/"
        }
      },
      "execution_count": 18,
      "outputs": [
        {
          "output_type": "stream",
          "name": "stdout",
          "text": [
            "tensor([[0.7722, 0.0716, 0.2671]])\n",
            "tensor([[0.7722, 0.0716, 0.2671],\n",
            "        [0.7539, 0.8937, 0.7247],\n",
            "        [0.7722, 0.0716, 0.2671],\n",
            "        [0.7722, 0.0716, 0.2671],\n",
            "        [0.7722, 0.0716, 0.2671]])\n"
          ]
        }
      ]
    },
    {
      "cell_type": "code",
      "source": [
        "indexes = torch.LongTensor([0])\n",
        "print(x1[:, indexes])\n",
        "indexes = torch.LongTensor([2, 0 , 1, 1, 1])\n",
        "print(x1[:, indexes])"
      ],
      "metadata": {
        "id": "QECGPggpoXwR",
        "outputId": "68424cff-8035-451a-d23a-66def1b4bd75",
        "colab": {
          "base_uri": "https://localhost:8080/"
        }
      },
      "execution_count": 19,
      "outputs": [
        {
          "output_type": "stream",
          "name": "stdout",
          "text": [
            "tensor([[0.7722],\n",
            "        [0.7539]])\n",
            "tensor([[0.2671, 0.7722, 0.0716, 0.0716, 0.0716],\n",
            "        [0.7247, 0.7539, 0.8937, 0.8937, 0.8937]])\n"
          ]
        }
      ]
    },
    {
      "cell_type": "markdown",
      "source": [
        "### Training a simple model -- that you can't do in Scikit"
      ],
      "metadata": {
        "id": "c7_GC-kmmOMF"
      }
    },
    {
      "cell_type": "markdown",
      "metadata": {
        "id": "eR-hBxHZWwnP"
      },
      "source": [
        "Let's train a very simple non-linear multivariate regression model using PyTorch."
      ]
    },
    {
      "cell_type": "code",
      "execution_count": 1,
      "metadata": {
        "id": "0Y-yt_2qWwnR"
      },
      "outputs": [],
      "source": [
        "import numpy as np\n",
        "import torch\n",
        "from torch import nn\n",
        "from torch import optim\n",
        "import torch.nn.functional as F\n",
        "from torch.autograd import Variable"
      ]
    },
    {
      "cell_type": "markdown",
      "metadata": {
        "id": "txDdtC6RWwnU"
      },
      "source": [
        "Create a simple PyTorch Module. This Module models the function:\n",
        "\n",
        "$y = M_2 (M_1 x + b_1) + b_2$\n",
        "\n",
        "\n",
        "And you want to minimize:\n",
        "\n",
        "$L = || y - y_{observed} ||^2 + \\lambda_1 ||M_1||_F +  \\lambda_2 ||M_2||_F +  \\lambda_3 ||b_1||_F$\n",
        "\n",
        "where $x$ and $y$ are vectors and we're taking the Frobenius norm of our parameters. \n",
        "\n",
        "Note that $M_1$ and $M_2$ aren't necessarily square. \n",
        "In fact, if we set the shapes of $M_1$ and $M_2$ to be small we can try to \"squeeze\" into a smaller space and effectively build-in dimensionality reduction.\n",
        "\n",
        "This whole model is slightly more complicated than vanilla linear regression, and is now something like quadratic (because of the two matrix multiplies) vector regression (because we're predicting a vector outcome, not a scalar one)."
      ]
    },
    {
      "cell_type": "markdown",
      "metadata": {
        "id": "1tDy5mhHWwnV"
      },
      "source": [
        "We can split the above model into three steps, which (1) initialize parameters, (2) compute a prediction, and (3) compute the loss.\n",
        "\n",
        "- Declare that you'll be optimizing two linear functions. This saves space for $M_1$, $M_2$, $b_1$ and $b_2$, but not $x$ or $y$. Putting it in the `__init__` function of a `nn.Module` is special: PyTorch will remember that these parameters are optimize-able.\n",
        "- `forward` tells us how to combine our parameters to make a prediction $y$\n",
        "- `loss` tells us how to compare our prediction vector to our observed vector, plus how to minimize our regularizer."
      ]
    },
    {
      "cell_type": "code",
      "execution_count": 2,
      "metadata": {
        "id": "kU4s2XPFWwnW"
      },
      "outputs": [],
      "source": [
        "class Bottleneck(nn.Module):\n",
        "    def __init__(self, n_in_cols, n_out_cols, n_hidden=1):\n",
        "        super(Bottleneck, self).__init__()\n",
        "        # 368 -> 2\n",
        "        self.lin1 = nn.Linear(n_in_cols, n_hidden)\n",
        "        # 2 -> 4\n",
        "        self.lin2 = nn.Linear(n_hidden, n_out_cols)\n",
        "    \n",
        "    def forward(self, x):\n",
        "        # x is a minibatch of rows of our features\n",
        "        # x is of shape (batch_size, 9)\n",
        "        hidden = self.lin1(x)\n",
        "        # y is a minibatch of our predictions\n",
        "        y = self.lin2(hidden)\n",
        "        return y\n",
        "\n",
        "    def loss(self, prediction, target, lam1=1e-3, lam2=1e-3):\n",
        "        # This is just the mean squared error\n",
        "        loss_mse = ((prediction - target)**2.0).sum()\n",
        "        # This computes our Frobenius norm over both matrices\n",
        "        # Note that we can access the Linear model's variables\n",
        "        # directly if we'd like. No tricks here!\n",
        "        loss_reg_m1 = (self.lin1.weight**2.0 * lam1).sum()\n",
        "        loss_reg_m2 = (self.lin2.weight**2.0 * lam2).sum()\n",
        "        loss = loss_mse + loss_reg_m1 + loss_reg_m2\n",
        "        return loss"
      ]
    },
    {
      "cell_type": "markdown",
      "metadata": {
        "id": "gPjIWOaDWwnY"
      },
      "source": [
        "Let's make up some fake data to fit. Annoyingly, it has to be `float32` or `int64`."
      ]
    },
    {
      "cell_type": "markdown",
      "metadata": {
        "id": "c8ESJqlzlTM7"
      },
      "source": [
        "$ y   X  @ M + noise$"
      ]
    },
    {
      "cell_type": "code",
      "execution_count": 3,
      "metadata": {
        "id": "90rcC9_uWwnY"
      },
      "outputs": [],
      "source": [
        "X = np.random.normal(size=(2000, 9)).astype(np.float32)\n",
        "Y = np.random.normal(size=(2000, 4)) + np.dot(X, np.random.normal(size=(9, 4)))\n",
        "Y = Y.astype(np.float32)"
      ]
    },
    {
      "cell_type": "code",
      "execution_count": 4,
      "metadata": {
        "id": "vxY1BRjLlTM8",
        "outputId": "193f79ef-b9f6-419b-9dae-0847f8aba2eb",
        "colab": {
          "base_uri": "https://localhost:8080/"
        }
      },
      "outputs": [
        {
          "output_type": "execute_result",
          "data": {
            "text/plain": [
              "((2000, 9), (2000, 4))"
            ]
          },
          "metadata": {},
          "execution_count": 4
        }
      ],
      "source": [
        "X.shape, Y.shape"
      ]
    },
    {
      "cell_type": "code",
      "execution_count": 5,
      "metadata": {
        "id": "RMcma9jUlTM9",
        "outputId": "806bb951-9643-42c7-eb6d-cce239f4398a",
        "colab": {
          "base_uri": "https://localhost:8080/",
          "height": 283
        }
      },
      "outputs": [
        {
          "output_type": "execute_result",
          "data": {
            "text/plain": [
              "<matplotlib.collections.PathCollection at 0x7f8e3aec3f90>"
            ]
          },
          "metadata": {},
          "execution_count": 5
        },
        {
          "output_type": "display_data",
          "data": {
            "image/png": "[encoded data removed]",
            "text/plain": [
              "<Figure size 432x288 with 1 Axes>"
            ]
          },
          "metadata": {
            "needs_background": "light"
          }
        }
      ],
      "source": [
        "from  matplotlib  import pyplot as plt\n",
        "plt.scatter(X[:, 0], Y[:, 1], lw=0.0, s=1.0)"
      ]
    },
    {
      "cell_type": "code",
      "execution_count": 6,
      "metadata": {
        "colab": {
          "base_uri": "https://localhost:8080/"
        },
        "id": "tfukBFEXWwna",
        "outputId": "5f2fa6ec-2eea-494c-cdb7-5ea65e615725"
      },
      "outputs": [
        {
          "output_type": "execute_result",
          "data": {
            "text/plain": [
              "((2000, 9), (2000, 4))"
            ]
          },
          "metadata": {},
          "execution_count": 6
        }
      ],
      "source": [
        "X.shape, Y.shape"
      ]
    },
    {
      "cell_type": "markdown",
      "metadata": {
        "id": "tTvhaQ94Wwnd"
      },
      "source": [
        "Initialize the model. Note that we'll also initialize the \"optimizer\". Check out [this link](http://ruder.io/optimizing-gradient-descent/) to learn more about different optimizers. For now, `Adam` is a good choice."
      ]
    },
    {
      "cell_type": "code",
      "execution_count": 7,
      "metadata": {
        "id": "QcoThuJeWwne"
      },
      "outputs": [],
      "source": [
        "model = Bottleneck(9, 4, 3)\n",
        "o = optim.Adam(model.parameters())"
      ]
    },
    {
      "cell_type": "code",
      "execution_count": 8,
      "metadata": {
        "id": "daDwQtDmlTM-",
        "outputId": "fdea3de6-ed5a-49d3-e18c-1ed7bb5572c2",
        "colab": {
          "base_uri": "https://localhost:8080/"
        }
      },
      "outputs": [
        {
          "output_type": "execute_result",
          "data": {
            "text/plain": [
              "Adam (\n",
              "Parameter Group 0\n",
              "    amsgrad: False\n",
              "    betas: (0.9, 0.999)\n",
              "    eps: 1e-08\n",
              "    lr: 0.001\n",
              "    weight_decay: 0\n",
              ")"
            ]
          },
          "metadata": {},
          "execution_count": 8
        }
      ],
      "source": [
        "o"
      ]
    },
    {
      "cell_type": "code",
      "execution_count": 9,
      "metadata": {
        "colab": {
          "base_uri": "https://localhost:8080/"
        },
        "id": "s1um_eFhWwng",
        "outputId": "dc15dd41-0b7f-4a05-f425-c828d42a9725"
      },
      "outputs": [
        {
          "output_type": "execute_result",
          "data": {
            "text/plain": [
              "Parameter containing:\n",
              "tensor([ 0.2466, -0.1579,  0.0878], requires_grad=True)"
            ]
          },
          "metadata": {},
          "execution_count": 9
        }
      ],
      "source": [
        "model.lin1.bias"
      ]
    },
    {
      "cell_type": "code",
      "execution_count": 10,
      "metadata": {
        "colab": {
          "base_uri": "https://localhost:8080/"
        },
        "id": "zA_mN6VFWwni",
        "outputId": "2599c06d-06ee-4d4e-a6bb-d55c86413db6"
      },
      "outputs": [
        {
          "output_type": "execute_result",
          "data": {
            "text/plain": [
              "torch.Size([4, 3])"
            ]
          },
          "metadata": {},
          "execution_count": 10
        }
      ],
      "source": [
        "model.lin2.weight.data.shape"
      ]
    },
    {
      "cell_type": "code",
      "execution_count": 11,
      "metadata": {
        "colab": {
          "base_uri": "https://localhost:8080/"
        },
        "id": "f0xFhRocWwnk",
        "outputId": "c5898342-492d-454c-d1a6-c733f6ac4f9a"
      },
      "outputs": [
        {
          "output_type": "execute_result",
          "data": {
            "text/plain": [
              "torch.Size([3])"
            ]
          },
          "metadata": {},
          "execution_count": 11
        }
      ],
      "source": [
        "model.lin1.bias.data.shape"
      ]
    },
    {
      "cell_type": "code",
      "execution_count": 12,
      "metadata": {
        "id": "q-WCoPONlTM_"
      },
      "outputs": [],
      "source": [
        "model.lin1.bias.grad"
      ]
    },
    {
      "cell_type": "code",
      "execution_count": 13,
      "metadata": {
        "id": "HZTk2WW9Wwnm"
      },
      "outputs": [],
      "source": [
        "from random import shuffle\n",
        "\n",
        "\n",
        "def chunks(X, Y, size):\n",
        "    \"\"\"Yield successive `size` chunks from X & Y.\"\"\"\n",
        "    starts = list(range(0, len(X), size))\n",
        "    shuffle(starts)\n",
        "    for i in starts:\n",
        "        yield (X[i:i + size], Y[i:i + size])"
      ]
    },
    {
      "cell_type": "code",
      "execution_count": 14,
      "metadata": {
        "colab": {
          "base_uri": "https://localhost:8080/"
        },
        "id": "yVJl0fucWwnp",
        "outputId": "485368ef-7770-4f65-dd11-1a0edeb4b5a5"
      },
      "outputs": [
        {
          "output_type": "stream",
          "name": "stdout",
          "text": [
            "0 tensor(3016.2830)\n",
            "10 tensor(2579.7898)\n",
            "20 tensor(1478.3911)\n",
            "30 tensor(859.4304)\n",
            "40 tensor(978.7653)\n",
            "50 tensor(639.4958)\n",
            "60 tensor(498.6419)\n",
            "70 tensor(736.4422)\n",
            "80 tensor(518.9033)\n",
            "90 tensor(620.0474)\n",
            "100 tensor(451.3007)\n",
            "110 tensor(467.2325)\n",
            "120 tensor(585.6874)\n",
            "130 tensor(587.3538)\n",
            "140 tensor(455.5283)\n",
            "150 tensor(466.4092)\n",
            "160 tensor(450.3227)\n",
            "170 tensor(576.0474)\n",
            "180 tensor(97.5949)\n",
            "190 tensor(438.9212)\n",
            "200 tensor(485.5689)\n",
            "210 tensor(450.0540)\n",
            "220 tensor(533.7489)\n",
            "230 tensor(609.9304)\n",
            "240 tensor(524.7550)\n",
            "250 tensor(466.8061)\n",
            "260 tensor(515.9125)\n",
            "270 tensor(467.4266)\n",
            "280 tensor(559.1437)\n",
            "290 tensor(559.2724)\n",
            "300 tensor(674.1703)\n",
            "310 tensor(527.8735)\n",
            "320 tensor(376.3795)\n",
            "330 tensor(466.6500)\n",
            "340 tensor(559.5760)\n",
            "350 tensor(437.3701)\n",
            "360 tensor(519.8002)\n",
            "370 tensor(450.5840)\n",
            "380 tensor(488.7842)\n",
            "390 tensor(362.1479)\n"
          ]
        }
      ],
      "source": [
        "batch_size = 64\n",
        "losses = []\n",
        "for epoch in range(400):\n",
        "    for itr, (feature, target) in enumerate(chunks(X, Y, batch_size)):\n",
        "        # This zeros the gradients on every parameter. \n",
        "        # This is easy to miss and hard to troubleshoot.\n",
        "        o.zero_grad()\n",
        "        # Convert \n",
        "        feature = Variable(torch.from_numpy(feature))\n",
        "        target = Variable(torch.from_numpy(target))\n",
        "        # Compute a prediction for these features\n",
        "        prediction = model.forward(feature)\n",
        "        # Compute a loss given what the true target outcome was\n",
        "        loss = model.loss(prediction, target)\n",
        "        # break\n",
        "        # Backpropagate: compute the direction / gradient every model parameter\n",
        "        # defined in your __init__ should move in in order to minimize this loss\n",
        "        # However, we're not actually changing these parameters, we're just storing\n",
        "        # how they should change.\n",
        "\n",
        "        loss.backward()\n",
        "        # Now take a step & update the model parameters. The optimizer uses the gradient at \n",
        "        # defined on every parameter in our model and nudges it in that direction.\n",
        "        o.step()\n",
        "        # Record the loss per example\n",
        "        losses.append(loss.data.numpy() / len(feature))\n",
        "        if epoch % 10 == 0 and itr ==0:\n",
        "            print(epoch, loss.data)\n"
      ]
    },
    {
      "cell_type": "code",
      "execution_count": 15,
      "metadata": {
        "id": "wto06rt4lTNA",
        "outputId": "259de3ea-bd86-4fd0-bc28-124cd79be929",
        "colab": {
          "base_uri": "https://localhost:8080/"
        }
      },
      "outputs": [
        {
          "output_type": "execute_result",
          "data": {
            "text/plain": [
              "64"
            ]
          },
          "metadata": {},
          "execution_count": 15
        }
      ],
      "source": [
        "batch_size"
      ]
    },
    {
      "cell_type": "code",
      "execution_count": 16,
      "metadata": {
        "id": "tQBv3URDlTNA",
        "outputId": "e12eaaad-faa0-48b9-e45a-baa0e2d132fe",
        "colab": {
          "base_uri": "https://localhost:8080/"
        }
      },
      "outputs": [
        {
          "output_type": "execute_result",
          "data": {
            "text/plain": [
              "tensor(430.0216, grad_fn=<AddBackward0>)"
            ]
          },
          "metadata": {},
          "execution_count": 16
        }
      ],
      "source": [
        "loss"
      ]
    },
    {
      "cell_type": "code",
      "execution_count": 17,
      "metadata": {
        "id": "KiGs2h84lTNA",
        "outputId": "a2938794-f297-4bab-ef5e-82bf3727638a",
        "colab": {
          "base_uri": "https://localhost:8080/"
        }
      },
      "outputs": [
        {
          "output_type": "execute_result",
          "data": {
            "text/plain": [
              "Parameter containing:\n",
              "tensor([[ 1.2162, -0.2459,  0.0810, -0.9829, -0.1567,  0.0116,  0.7987, -0.2269,\n",
              "         -0.7186],\n",
              "        [-0.1150,  0.0906,  0.2962,  0.5998, -0.9967,  0.1324, -0.8731, -0.5354,\n",
              "         -1.5160],\n",
              "        [ 0.6616,  0.5662,  1.4395, -0.3077,  0.0232, -0.3601, -0.1868,  0.0142,\n",
              "          0.0868]], requires_grad=True)"
            ]
          },
          "metadata": {},
          "execution_count": 17
        }
      ],
      "source": [
        "model.lin1.weight"
      ]
    },
    {
      "cell_type": "code",
      "execution_count": 18,
      "metadata": {
        "id": "A_UWDg-UlTNB"
      },
      "outputs": [],
      "source": [
        "o.step()"
      ]
    },
    {
      "cell_type": "code",
      "execution_count": 19,
      "metadata": {
        "id": "x2wFVvijlTNB",
        "outputId": "df25e8df-2f3d-4c23-e204-01abdf26649f",
        "colab": {
          "base_uri": "https://localhost:8080/"
        }
      },
      "outputs": [
        {
          "output_type": "execute_result",
          "data": {
            "text/plain": [
              "Parameter containing:\n",
              "tensor([[ 1.2162, -0.2457,  0.0809, -0.9831, -0.1563,  0.0119,  0.7986, -0.2267,\n",
              "         -0.7187],\n",
              "        [-0.1151,  0.0906,  0.2964,  0.5996, -0.9965,  0.1326, -0.8731, -0.5352,\n",
              "         -1.5160],\n",
              "        [ 0.6613,  0.5663,  1.4396, -0.3076,  0.0231, -0.3604, -0.1867,  0.0146,\n",
              "          0.0871]], requires_grad=True)"
            ]
          },
          "metadata": {},
          "execution_count": 19
        }
      ],
      "source": [
        "model.lin1.weight"
      ]
    },
    {
      "cell_type": "code",
      "execution_count": 20,
      "metadata": {
        "id": "YFqbD-XMlTNB",
        "outputId": "c2960fc0-4c11-462a-a11d-67ff02a111a4",
        "colab": {
          "base_uri": "https://localhost:8080/"
        }
      },
      "outputs": [
        {
          "output_type": "execute_result",
          "data": {
            "text/plain": [
              "tensor([[ 18.9516, -14.5587,  41.9709,  -8.1529, -27.1436, -26.0068,   4.5573,\n",
              "         -16.5971, -23.0617],\n",
              "        [ 15.6695, -32.3243,  -5.2294,   9.1798,  -5.7506,  -3.9608, -12.4963,\n",
              "         -20.7301,   1.6327],\n",
              "        [ 33.7974, -24.8127, -34.5951,   3.6815, -24.0357,  45.6322,  -2.6379,\n",
              "         -11.7901, -72.5427]])"
            ]
          },
          "metadata": {},
          "execution_count": 20
        }
      ],
      "source": [
        "model.lin1.weight.grad"
      ]
    },
    {
      "cell_type": "markdown",
      "metadata": {
        "id": "wqUb4_VNWwnr"
      },
      "source": [
        "I can introspect my model and get the parameters out:"
      ]
    },
    {
      "cell_type": "code",
      "execution_count": 21,
      "metadata": {
        "colab": {
          "base_uri": "https://localhost:8080/"
        },
        "id": "6jI1H8GMWwnr",
        "outputId": "3517fb1b-9db4-4087-c8d0-7cb6ebc633ae"
      },
      "outputs": [
        {
          "output_type": "execute_result",
          "data": {
            "text/plain": [
              "array([[ 1.216248  , -0.2457069 ,  0.08085664, -0.9830587 , -0.1563447 ,\n",
              "         0.01190823,  0.7986346 , -0.22673753, -0.7187076 ],\n",
              "       [-0.11509013,  0.09063391,  0.2963594 ,  0.5995957 , -0.9965461 ,\n",
              "         0.13260062, -0.8731001 , -0.53518844, -1.516025  ],\n",
              "       [ 0.6613134 ,  0.5663334 ,  1.4395748 , -0.30763304,  0.02307196,\n",
              "        -0.36041868, -0.1867382 ,  0.01455708,  0.08706409]],\n",
              "      dtype=float32)"
            ]
          },
          "metadata": {},
          "execution_count": 21
        }
      ],
      "source": [
        "model.lin1.weight.data.numpy()"
      ]
    },
    {
      "cell_type": "code",
      "execution_count": 22,
      "metadata": {
        "colab": {
          "base_uri": "https://localhost:8080/"
        },
        "id": "k4Fg3dqCWwnt",
        "outputId": "0521bbff-f33a-4cd1-fdd9-79887a7fe883"
      },
      "outputs": [
        {
          "output_type": "execute_result",
          "data": {
            "text/plain": [
              "array([ 0.05545653,  0.03912283, -0.0066179 ], dtype=float32)"
            ]
          },
          "metadata": {},
          "execution_count": 22
        }
      ],
      "source": [
        "model.lin1.bias.data.numpy()"
      ]
    },
    {
      "cell_type": "markdown",
      "metadata": {
        "id": "haw2nu4uWwnv"
      },
      "source": [
        "I can also see that the loss is simply a scalar:"
      ]
    },
    {
      "cell_type": "code",
      "execution_count": 23,
      "metadata": {
        "colab": {
          "base_uri": "https://localhost:8080/"
        },
        "id": "Bzjg43hWWwnw",
        "outputId": "31f42654-ee97-4126-9a5e-8db4459ff2a2"
      },
      "outputs": [
        {
          "output_type": "execute_result",
          "data": {
            "text/plain": [
              "tensor(430.0216, grad_fn=<AddBackward0>)"
            ]
          },
          "metadata": {},
          "execution_count": 23
        }
      ],
      "source": [
        "loss"
      ]
    },
    {
      "cell_type": "markdown",
      "metadata": {
        "id": "7mEHxE2vWwnx"
      },
      "source": [
        "You can see that the gradient is zero before we call `loss.backward()`"
      ]
    },
    {
      "cell_type": "code",
      "execution_count": 24,
      "metadata": {
        "colab": {
          "base_uri": "https://localhost:8080/"
        },
        "id": "PdtCKnp7Wwny",
        "outputId": "bbe91e9e-903a-40d5-fb56-b0d7a78f4a7f"
      },
      "outputs": [
        {
          "output_type": "execute_result",
          "data": {
            "text/plain": [
              "tensor([  1.2084,  -2.4452, -44.4982])"
            ]
          },
          "metadata": {},
          "execution_count": 24
        }
      ],
      "source": [
        "model.lin1.bias.grad"
      ]
    },
    {
      "cell_type": "markdown",
      "metadata": {
        "id": "_u5Tt1HvWwn0"
      },
      "source": [
        "...And non-zero afterwards."
      ]
    },
    {
      "cell_type": "code",
      "execution_count": 25,
      "metadata": {
        "colab": {
          "base_uri": "https://localhost:8080/"
        },
        "id": "9QSSBa9IWwn0",
        "outputId": "9dc2dafe-2a18-4379-8a0e-eb6dfa8fa53c"
      },
      "outputs": [
        {
          "output_type": "execute_result",
          "data": {
            "text/plain": [
              "tensor([  1.2084,  -2.4452, -44.4982])"
            ]
          },
          "metadata": {},
          "execution_count": 25
        }
      ],
      "source": [
        "model.lin1.bias.grad"
      ]
    },
    {
      "cell_type": "code",
      "execution_count": 26,
      "metadata": {
        "colab": {
          "base_uri": "https://localhost:8080/"
        },
        "id": "mdVKmYbxWwn2",
        "outputId": "db833922-f763-47dc-cf01-2c20a6b54cc5"
      },
      "outputs": [
        {
          "output_type": "execute_result",
          "data": {
            "text/plain": [
              "tensor([ 0.0555,  0.0391, -0.0066])"
            ]
          },
          "metadata": {},
          "execution_count": 26
        }
      ],
      "source": [
        "model.lin1.bias.data"
      ]
    },
    {
      "cell_type": "markdown",
      "metadata": {
        "id": "Q_miI8X3Wwn4"
      },
      "source": [
        "And after we run `o.step()` we'll notice that the bias parameter has been updated:"
      ]
    },
    {
      "cell_type": "code",
      "execution_count": 27,
      "metadata": {
        "colab": {
          "base_uri": "https://localhost:8080/"
        },
        "id": "h6yN2KT7Wwn4",
        "outputId": "076120f2-3c13-426f-9388-675945d204a2"
      },
      "outputs": [
        {
          "output_type": "execute_result",
          "data": {
            "text/plain": [
              "array([ 0.05545653,  0.03912283, -0.0066179 ], dtype=float32)"
            ]
          },
          "metadata": {},
          "execution_count": 27
        }
      ],
      "source": [
        "model.lin1.bias.data.numpy()"
      ]
    },
    {
      "cell_type": "markdown",
      "metadata": {
        "id": "P-kM1uaxWwn7"
      },
      "source": [
        "Let's check on convergence:"
      ]
    },
    {
      "cell_type": "code",
      "execution_count": 28,
      "metadata": {
        "id": "qmt4Z8pMWwn8"
      },
      "outputs": [],
      "source": [
        "import numpy as np\n",
        "import matplotlib.pyplot as plt\n",
        "%matplotlib inline"
      ]
    },
    {
      "cell_type": "code",
      "execution_count": 29,
      "metadata": {
        "colab": {
          "base_uri": "https://localhost:8080/",
          "height": 713
        },
        "id": "4rpmKezaWwn_",
        "outputId": "5ee55b37-3ddd-4fb2-f81b-108e8ad2c81c"
      },
      "outputs": [
        {
          "output_type": "execute_result",
          "data": {
            "text/plain": [
              "[<matplotlib.lines.Line2D at 0x7f8e36d04150>]"
            ]
          },
          "metadata": {},
          "execution_count": 29
        },
        {
          "output_type": "display_data",
          "data": {
            "image/png": "[encoded data removed]",
            "text/plain": [
              "<Figure size 864x864 with 1 Axes>"
            ]
          },
          "metadata": {
            "needs_background": "light"
          }
        }
      ],
      "source": [
        "n = len(losses)\n",
        "smooth = np.convolve(losses, np.ones((n,))/n, mode='valid')\n",
        "plt.figure(figsize=(12, 12))\n",
        "plt.plot(losses[::10])\n",
        "plt.plot(smooth, c='r')"
      ]
    },
    {
      "cell_type": "markdown",
      "metadata": {
        "id": "XLOCq-eWWwoB"
      },
      "source": [
        "Looks converged to me!"
      ]
    },
    {
      "cell_type": "markdown",
      "metadata": {
        "id": "Vs79Z95GlTNF"
      },
      "source": [
        "### Exercise"
      ]
    },
    {
      "cell_type": "markdown",
      "metadata": {
        "id": "jJZNJlNIlTNF"
      },
      "source": [
        ""
      ]
    },
    {
      "cell_type": "code",
      "execution_count": 29,
      "metadata": {
        "id": "7eCliRCdlTNF"
      },
      "outputs": [],
      "source": [
        ""
      ]
    }
  ],
  "metadata": {
    "colab": {
      "name": "00 Intro PyTorch.ipynb",
      "provenance": []
    },
    "kernelspec": {
      "display_name": "Python 3",
      "language": "python",
      "name": "python3"
    },
    "language_info": {
      "codemirror_mode": {
        "name": "ipython",
        "version": 3
      },
      "file_extension": ".py",
      "mimetype": "text/x-python",
      "name": "python",
      "nbconvert_exporter": "python",
      "pygments_lexer": "ipython3",
      "version": "3.6.7"
    }
  },
  "nbformat": 4,
  "nbformat_minor": 0
}