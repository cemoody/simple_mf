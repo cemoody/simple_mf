{
 "cells": [
  {
   "cell_type": "code",
   "execution_count": 1,
   "metadata": {},
   "outputs": [],
   "source": [
    "### Load preprocessed data"
   ]
  },
  {
   "cell_type": "code",
   "execution_count": null,
   "metadata": {},
   "outputs": [],
   "source": [
    "#!python ../src/download_ml20.py"
   ]
  },
  {
   "cell_type": "code",
   "execution_count": 5,
   "metadata": {},
   "outputs": [],
   "source": [
    "import numpy as np\n",
    "fh = np.load('data/dataset_ml20_wide.npz')\n",
    "# We have a bunch of feature columns and last column is the y-target\n",
    "train_items = fh['train_items'].astype(np.int64)\n",
    "train_ratng = fh['train_ratng'].astype(np.int64)\n",
    "test_items = fh['test_items'].astype(np.int64)\n",
    "test_ratng = fh['test_ratng'].astype(np.int64)\n",
    "\n",
    "n_user = train_items.shape[0]\n",
    "n_rank = train_items.shape[1]\n",
    "n_item = train_items.max() + 1"
   ]
  },
  {
   "cell_type": "code",
   "execution_count": 7,
   "metadata": {},
   "outputs": [
    {
     "name": "stdout",
     "output_type": "stream",
     "text": [
      "\u001b[33mWARNING: The directory '/home/jovyan/.cache/pip' or its parent directory is not owned or is not writable by the current user. The cache has been disabled. Check the permissions and owner of that directory. If executing pip with sudo, you may want sudo's -H flag.\u001b[0m\n"
     ]
    }
   ],
   "source": [
    "!pip install -q reformer_pytorch"
   ]
  },
  {
   "cell_type": "code",
   "execution_count": 9,
   "metadata": {},
   "outputs": [],
   "source": [
    "import random\n",
    "import torch\n",
    "import numpy as np\n",
    "import pandas as pd\n",
    "from torch import nn\n",
    "from torch import from_numpy\n",
    "import pytorch_lightning as pl\n",
    "from torch.nn import functional as F\n",
    "from reformer_pytorch import Reformer\n",
    "from pytorch_lightning.callbacks import ModelCheckpoint"
   ]
  },
  {
   "cell_type": "code",
   "execution_count": null,
   "metadata": {},
   "outputs": [],
   "source": [
    "class AR(pl.LightningModule):\n",
    "    def __init__(self, n_item, n_dim, n_resp, heads=6, depth=6):\n",
    "        self.n_dim = n_dim\n",
    "        self.n_item = n_item\n",
    "        self.n_resp = n_resp\n",
    "        self.item = nn.Embedding(n_items, n_dim)\n",
    "        self.resp = nn.Embedding(n_responses, n_dim)\n",
    "        self.reformer = Reformer(dim=n_dim, depth=depth, heads=heads, causal=True)\n",
    "        self.user_lin = nn.Linear(n_dim, n_dim * n_responses)\n",
    "        self.item_lin = nn.Linear(n_dim, n_dim * n_responses)\n",
    "    \n",
    "    def forward(self, items, ratng):\n",
    "        item_vec = self.item(items)\n",
    "        resp_vec = self.resp(ratng)\n",
    "        intx_vec = item_vec * resp_vec\n",
    "        user_vec = self.reformer(intx_vec)\n",
    "        return user_vec\n",
    "    \n",
    "    def likelihood(self, user_vec, items, ratng):\n",
    "        batchsize = user_vec.shape[0]\n",
    "        item_vec = self.item(items)\n",
    "        # Broadcast (batchsize, n_dim) to (batchsize, n_dim, n_resp)\n",
    "        user_vec_resp = self.user_lin(user_vec).reshape((batchsize, self.n_dim, self.n_resp))\n",
    "        item_vec_resp = self.item_lin(user_vec).reshape((batchsize, self.n_dim, self.n_resp))\n",
    "        # Sum interactions back down to  (batchsize, n_resp)\n",
    "        intx = (user_vec_resp * item_vec_resp).sum(dim=1)\n",
    "        loss = F.softmax(intx, ratng)"
   ]
  }
 ],
 "metadata": {
  "kernelspec": {
   "display_name": "Python 3",
   "language": "python",
   "name": "python3"
  },
  "language_info": {
   "codemirror_mode": {
    "name": "ipython",
    "version": 3
   },
   "file_extension": ".py",
   "mimetype": "text/x-python",
   "name": "python",
   "nbconvert_exporter": "python",
   "pygments_lexer": "ipython3",
   "version": "3.6.7"
  }
 },
 "nbformat": 4,
 "nbformat_minor": 4
}
