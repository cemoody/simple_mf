{
  "nbformat": 4,
  "nbformat_minor": 0,
  "metadata": {
    "kernelspec": {
      "display_name": "Python 3",
      "language": "python",
      "name": "python3"
    },
    "language_info": {
      "codemirror_mode": {
        "name": "ipython",
        "version": 3
      },
      "file_extension": ".py",
      "mimetype": "text/x-python",
      "name": "python",
      "nbconvert_exporter": "python",
      "pygments_lexer": "ipython3",
      "version": "3.6.5"
    },
    "colab": {
      "name": "07 FM model.ipynb",
      "provenance": []
    }
  },
  "cells": [
    {
      "cell_type": "code",
      "metadata": {
        "id": "Gr-J1lexhauP",
        "colab_type": "code",
        "colab": {
          "base_uri": "https://localhost:8080/",
          "height": 853
        },
        "outputId": "317ab8af-7c6a-452a-ff18-7ca30b676dd3"
      },
      "source": [
        "!rm -rdf loader* data/* data* ../data ../data*\n",
        "!wget https://raw.githubusercontent.com/cemoody/simple_mf/master/notebooks/loader.py\n",
        "!mkdir ../data\n",
        "!wget https://www.dropbox.com/s/msqzmmaog5bstm4/dataset.npz?dl=0\n",
        "!mv dataset.npz?dl=0 ../data/dataset.npz\n",
        "!pip install pytorch-ignite tensorboardX"
      ],
      "execution_count": 1,
      "outputs": [
        {
          "output_type": "stream",
          "text": [
            "--2019-11-18 17:18:26--  https://raw.githubusercontent.com/cemoody/simple_mf/master/notebooks/loader.py\n",
            "Resolving raw.githubusercontent.com (raw.githubusercontent.com)... 151.101.0.133, 151.101.64.133, 151.101.128.133, ...\n",
            "Connecting to raw.githubusercontent.com (raw.githubusercontent.com)|151.101.0.133|:443... connected.\n",
            "HTTP request sent, awaiting response... 200 OK\n",
            "Length: 1014 [text/plain]\n",
            "Saving to: ‘loader.py’\n",
            "\n",
            "\rloader.py             0%[                    ]       0  --.-KB/s               \rloader.py           100%[===================>]    1014  --.-KB/s    in 0s      \n",
            "\n",
            "2019-11-18 17:18:27 (176 MB/s) - ‘loader.py’ saved [1014/1014]\n",
            "\n",
            "--2019-11-18 17:18:29--  https://www.dropbox.com/s/msqzmmaog5bstm4/dataset.npz?dl=0\n",
            "Resolving www.dropbox.com (www.dropbox.com)... 162.125.82.1, 2620:100:6032:1::a27d:5201\n",
            "Connecting to www.dropbox.com (www.dropbox.com)|162.125.82.1|:443... connected.\n",
            "HTTP request sent, awaiting response... 301 Moved Permanently\n",
            "Location: /s/raw/msqzmmaog5bstm4/dataset.npz [following]\n",
            "--2019-11-18 17:18:29--  https://www.dropbox.com/s/raw/msqzmmaog5bstm4/dataset.npz\n",
            "Reusing existing connection to www.dropbox.com:443.\n",
            "HTTP request sent, awaiting response... 302 Found\n",
            "Location: https://ucacee8f0ba6b6c9624dd31d4263.dl.dropboxusercontent.com/cd/0/inline/AsnKfmI3W2SVcNZgp-_V8VJzSqWyq4dnDzTGnkzdRytL3sldxI8MzdQNpPF-dFFkAjGgJXo1h6OvrbZpdMRtCjCyYOq6StojwlEfq7ZH3JNwGA/file# [following]\n",
            "--2019-11-18 17:18:30--  https://ucacee8f0ba6b6c9624dd31d4263.dl.dropboxusercontent.com/cd/0/inline/AsnKfmI3W2SVcNZgp-_V8VJzSqWyq4dnDzTGnkzdRytL3sldxI8MzdQNpPF-dFFkAjGgJXo1h6OvrbZpdMRtCjCyYOq6StojwlEfq7ZH3JNwGA/file\n",
            "Resolving ucacee8f0ba6b6c9624dd31d4263.dl.dropboxusercontent.com (ucacee8f0ba6b6c9624dd31d4263.dl.dropboxusercontent.com)... 162.125.82.6, 2620:100:6032:6::a27d:5206\n",
            "Connecting to ucacee8f0ba6b6c9624dd31d4263.dl.dropboxusercontent.com (ucacee8f0ba6b6c9624dd31d4263.dl.dropboxusercontent.com)|162.125.82.6|:443... connected.\n",
            "HTTP request sent, awaiting response... 302 FOUND\n",
            "Location: /cd/0/inline2/AsnsCp1v2gOQZM-oJdahWWlfbwL9gLHoJiHBJAsvrzcBVCQwilOTOc05u_I_YhNaMN7Tj8IjRkfc2i3i5DQ0psWPwGCnuN3s6VgaFCeIl5ZnrEkFCeQ1V47jSe1HbuowJnXGNaNsWnrHFLRtkSAOapysiBzmruqnfcOcynUrxKNfkLARV1sgRcQBLgh9bWg3YkhJvZtBLkqbvIlLLkcOzJNldzGZSzvW4IXabpKGrtNdo_aa7Pov_lP3nc8683WneMqCDobZkHTcNgh-FuaNS2blpYKaKF47AYtDOkzgg3RSWW-GtaywZB43SVZ4m31o4q1Qx57u_852qHaETiVlusMy/file [following]\n",
            "--2019-11-18 17:18:30--  https://ucacee8f0ba6b6c9624dd31d4263.dl.dropboxusercontent.com/cd/0/inline2/AsnsCp1v2gOQZM-oJdahWWlfbwL9gLHoJiHBJAsvrzcBVCQwilOTOc05u_I_YhNaMN7Tj8IjRkfc2i3i5DQ0psWPwGCnuN3s6VgaFCeIl5ZnrEkFCeQ1V47jSe1HbuowJnXGNaNsWnrHFLRtkSAOapysiBzmruqnfcOcynUrxKNfkLARV1sgRcQBLgh9bWg3YkhJvZtBLkqbvIlLLkcOzJNldzGZSzvW4IXabpKGrtNdo_aa7Pov_lP3nc8683WneMqCDobZkHTcNgh-FuaNS2blpYKaKF47AYtDOkzgg3RSWW-GtaywZB43SVZ4m31o4q1Qx57u_852qHaETiVlusMy/file\n",
            "Reusing existing connection to ucacee8f0ba6b6c9624dd31d4263.dl.dropboxusercontent.com:443.\n",
            "HTTP request sent, awaiting response... 200 OK\n",
            "Length: 60015046 (57M) [application/octet-stream]\n",
            "Saving to: ‘dataset.npz?dl=0’\n",
            "\n",
            "dataset.npz?dl=0    100%[===================>]  57.23M   502KB/s    in 2m 1s   \n",
            "\n",
            "2019-11-18 17:20:31 (485 KB/s) - ‘dataset.npz?dl=0’ saved [60015046/60015046]\n",
            "\n",
            "Collecting pytorch-ignite\n",
            "\u001b[?25l  Downloading https://files.pythonhosted.org/packages/8f/31/efcc2b587419b1f54c5c6ef51996f91bb5d8f760537d17de674c89e06048/pytorch_ignite-0.2.1-py2.py3-none-any.whl (84kB)\n",
            "\u001b[K     |████████████████████████████████| 92kB 2.8MB/s \n",
            "\u001b[?25hCollecting tensorboardX\n",
            "\u001b[?25l  Downloading https://files.pythonhosted.org/packages/a6/5c/e918d9f190baab8d55bad52840d8091dd5114cc99f03eaa6d72d404503cc/tensorboardX-1.9-py2.py3-none-any.whl (190kB)\n",
            "\u001b[K     |████████████████████████████████| 194kB 8.2MB/s \n",
            "\u001b[?25hRequirement already satisfied: torch in /usr/local/lib/python3.6/dist-packages (from pytorch-ignite) (1.3.1)\n",
            "Requirement already satisfied: protobuf>=3.8.0 in /usr/local/lib/python3.6/dist-packages (from tensorboardX) (3.10.0)\n",
            "Requirement already satisfied: numpy in /usr/local/lib/python3.6/dist-packages (from tensorboardX) (1.17.4)\n",
            "Requirement already satisfied: six in /usr/local/lib/python3.6/dist-packages (from tensorboardX) (1.12.0)\n",
            "Requirement already satisfied: setuptools in /usr/local/lib/python3.6/dist-packages (from protobuf>=3.8.0->tensorboardX) (41.6.0)\n",
            "Installing collected packages: pytorch-ignite, tensorboardX\n",
            "Successfully installed pytorch-ignite-0.2.1 tensorboardX-1.9\n"
          ],
          "name": "stdout"
        }
      ]
    },
    {
      "cell_type": "markdown",
      "metadata": {
        "id": "E6riMAuQhXnY",
        "colab_type": "text"
      },
      "source": [
        "### Load preprocessed data"
      ]
    },
    {
      "cell_type": "code",
      "metadata": {
        "id": "LKTrv-4uhXnb",
        "colab_type": "code",
        "colab": {}
      },
      "source": [
        "import numpy as np\n",
        "fh = np.load('../data/dataset.npz')\n",
        "# We have a bunch of feature columns and last column is the y-target\n",
        "train_x = fh['train_x'].astype(np.int64)\n",
        "train_y = fh['train_y']\n",
        "\n",
        "test_x = fh['test_x'].astype(np.int64)\n",
        "test_y = fh['test_y']\n",
        "\n",
        "n_user = int(fh['n_user'])\n",
        "n_item = int(fh['n_item'])\n",
        "n_occu = int(fh['n_occu'])\n",
        "n_rank = int(fh['n_ranks'])\n",
        "\n",
        "train_x[:, 1] += n_user\n",
        "train_x[:, 2] += n_user + n_item\n",
        "train_x[:, 3] += n_user + n_item + n_occu\n",
        "test_x[:, 1] += n_user\n",
        "test_x[:, 2] += n_user + n_item\n",
        "test_x[:, 3] += n_user + n_item + n_occu\n",
        "\n",
        "n_feat = n_user + n_item + n_occu + n_rank"
      ],
      "execution_count": 0,
      "outputs": []
    },
    {
      "cell_type": "markdown",
      "metadata": {
        "id": "1oRzIYc5hXnd",
        "colab_type": "text"
      },
      "source": [
        "### Define the FM Model"
      ]
    },
    {
      "cell_type": "code",
      "metadata": {
        "id": "8nIITnv3hXnd",
        "colab_type": "code",
        "colab": {}
      },
      "source": [
        "import torch\n",
        "from torch import nn\n",
        "import torch.nn.functional as F\n",
        "from torch.autograd import Variable\n",
        "\n",
        "\n",
        "def l2_regularize(array):\n",
        "    loss = torch.sum(array ** 2.0)\n",
        "    return loss\n",
        "\n",
        "\n",
        "def index_into(arr, idx):\n",
        "    new_shape = (idx.size()[0], idx.size()[1], arr.size()[1])\n",
        "    return arr[idx.resize(torch.numel(idx.data))].view(new_shape)\n",
        "\n",
        "\n",
        "def factorization_machine(v, x=None):\n",
        "    # Takes an input 2D matrix v of n vectors, each d-dimensional\n",
        "    # produces output that is d-dimensional\n",
        "    # v is (batchsize, n_features, dim)\n",
        "    # x is (batchsize, n_features)\n",
        "    # x functions as a weight array, assumed to be 1 if missing\n",
        "    # Uses Rendle's trick for computing pairs of features in linear time\n",
        "    batchsize = v.size()[0]\n",
        "    n_features = v.size()[1]\n",
        "    n_dim = v.size()[2]\n",
        "    if x is None:\n",
        "        x = Variable(torch.ones(v.size()))\n",
        "    else:\n",
        "        x = x.expand(batchsize, n_features, n_dim)\n",
        "    t0 = (v * x).sum(dim=1)**2.0\n",
        "    t1 = (v**2.0 * x**2.0).sum(dim=1)\n",
        "    return 0.5 * (t0 - t1)\n",
        "\n",
        "\n",
        "class MF(nn.Module):\n",
        "    itr = 0\n",
        "    \n",
        "    def __init__(self, n_feat, k=18, c_feat=1.0, c_bias=1.0, writer=None):\n",
        "        super(MF, self).__init__()\n",
        "        self.writer = writer\n",
        "        self.k = k\n",
        "        self.n_feat = n_feat\n",
        "        self.feat = nn.Embedding(n_feat, k)\n",
        "        self.bias_feat = nn.Embedding(n_feat, 1)\n",
        "        self.c_feat = c_feat\n",
        "        self.c_bias = c_bias\n",
        "\n",
        "    \n",
        "    def __call__(self, train_x):\n",
        "        biases = index_into(self.bias_feat.weight, train_x).squeeze().sum(dim=1)\n",
        "        vectrs = index_into(self.feat.weight, train_x)\n",
        "        interx = factorization_machine(vectrs).squeeze().sum(dim=1)\n",
        "        logodds = biases + interx\n",
        "        return logodds        \n",
        "    \n",
        "    def loss(self, prediction, target):\n",
        "        loss_mse = F.mse_loss(prediction.squeeze(), target.squeeze())\n",
        "        prior_feat = l2_regularize(self.feat.weight) * self.c_feat\n",
        "        \n",
        "        total = (loss_mse + prior_feat)\n",
        "        for name, var in locals().items():\n",
        "            if type(var) is torch.Tensor and var.nelement() == 1 and self.writer is not None:\n",
        "                self.writer.add_scalar(name, var, self.itr)\n",
        "        return total"
      ],
      "execution_count": 0,
      "outputs": []
    },
    {
      "cell_type": "markdown",
      "metadata": {
        "id": "pXdcQlEBhXnf",
        "colab_type": "text"
      },
      "source": [
        "### Train model"
      ]
    },
    {
      "cell_type": "code",
      "metadata": {
        "id": "GNLL7ysrhXnf",
        "colab_type": "code",
        "colab": {}
      },
      "source": [
        "from ignite.engine import Events, create_supervised_trainer, create_supervised_evaluator\n",
        "from ignite.metrics import Loss\n",
        "from tensorboardX import SummaryWriter\n",
        "from ignite.metrics import MeanSquaredError\n",
        "\n",
        "from loader import Loader\n",
        "from datetime import datetime"
      ],
      "execution_count": 0,
      "outputs": []
    },
    {
      "cell_type": "markdown",
      "metadata": {
        "id": "mjzVJb4YhXnh",
        "colab_type": "text"
      },
      "source": [
        "#### Hyperparameters"
      ]
    },
    {
      "cell_type": "code",
      "metadata": {
        "id": "XTb69EQGhXnh",
        "colab_type": "code",
        "colab": {
          "base_uri": "https://localhost:8080/",
          "height": 34
        },
        "outputId": "dd95f92c-f967-45a9-bea2-814137bfb4cc"
      },
      "source": [
        "lr = 1e-2\n",
        "k = 10\n",
        "c_bias = 1e-6\n",
        "c_feat = 1e-6\n",
        "\n",
        "log_dir = 'runs/simple_mf_06_fm_' + str(datetime.now()).replace(' ', '_')\n",
        "print(log_dir)"
      ],
      "execution_count": 5,
      "outputs": [
        {
          "output_type": "stream",
          "text": [
            "runs/simple_mf_06_fm_2019-11-18_17:24:35.304168\n"
          ],
          "name": "stdout"
        }
      ]
    },
    {
      "cell_type": "code",
      "metadata": {
        "id": "Qx-9c-VEhXnl",
        "colab_type": "code",
        "colab": {
          "base_uri": "https://localhost:8080/",
          "height": 85
        },
        "outputId": "7b03a02e-0ee3-4d52-f7f1-25100fcaa7ab"
      },
      "source": [
        "writer = SummaryWriter(log_dir=log_dir)\n",
        "model = MF(n_feat, k=k, c_bias=c_bias, c_feat=c_feat, writer=writer)\n",
        "optimizer = torch.optim.Adam(model.parameters(), lr=lr)\n",
        "trainer = create_supervised_trainer(model, optimizer, model.loss)\n",
        "metrics = {'accuracy': MeanSquaredError()}\n",
        "evaluat = create_supervised_evaluator(model, metrics=metrics)\n",
        "train_loader = Loader(train_x, train_y, batchsize=1024)\n",
        "test_loader = Loader(test_x, test_y, batchsize=1024)\n",
        "\n",
        "\n",
        "def log_training_loss(engine, log_interval=400):\n",
        "    epoch = engine.state.epoch\n",
        "    itr = engine.state.iteration\n",
        "    fmt = \"Epoch[{}] Iteration[{}/{}] Loss: {:.2f}\"\n",
        "    msg = fmt.format(epoch, itr, len(train_loader), engine.state.output)\n",
        "    model.itr = itr\n",
        "    if itr % log_interval == 0:\n",
        "        print(msg)\n",
        "\n",
        "trainer.add_event_handler(event_name=Events.ITERATION_COMPLETED, handler=log_training_loss)\n",
        "\n",
        "def log_validation_results(engine):\n",
        "    evaluat.run(test_loader)\n",
        "    metrics = evaluat.state.metrics\n",
        "    avg_accuracy = metrics['accuracy']\n",
        "    print(\"Epoch[{}] Validation MSE: {:.2f} \"\n",
        "          .format(engine.state.epoch, avg_accuracy))\n",
        "    writer.add_scalar(\"validation/avg_accuracy\", avg_accuracy, engine.state.epoch)\n",
        "\n",
        "trainer.add_event_handler(event_name=Events.EPOCH_COMPLETED, handler=log_validation_results)\n",
        "\n",
        "\n",
        "model"
      ],
      "execution_count": 6,
      "outputs": [
        {
          "output_type": "execute_result",
          "data": {
            "text/plain": [
              "MF(\n",
              "  (feat): Embedding(12330, 10)\n",
              "  (bias_feat): Embedding(12330, 1)\n",
              ")"
            ]
          },
          "metadata": {
            "tags": []
          },
          "execution_count": 6
        }
      ]
    },
    {
      "cell_type": "markdown",
      "metadata": {
        "id": "jbzfXqEZhXnm",
        "colab_type": "text"
      },
      "source": [
        "#### Run model"
      ]
    },
    {
      "cell_type": "code",
      "metadata": {
        "id": "BRgPVzmEhXnn",
        "colab_type": "code",
        "colab": {
          "base_uri": "https://localhost:8080/",
          "height": 1000
        },
        "outputId": "c0713e6d-9645-4fbb-90d1-956bebb65688"
      },
      "source": [
        "trainer.run(train_loader, max_epochs=50)"
      ],
      "execution_count": 8,
      "outputs": [
        {
          "output_type": "stream",
          "text": [
            "/usr/local/lib/python3.6/dist-packages/torch/tensor.py:330: UserWarning: non-inplace resize is deprecated\n",
            "  warnings.warn(\"non-inplace resize is deprecated\")\n"
          ],
          "name": "stderr"
        },
        {
          "output_type": "stream",
          "text": [
            "Epoch[1] Iteration[400/879] Loss: 0.94\n",
            "Epoch[1] Iteration[800/879] Loss: 0.95\n",
            "Epoch[1] Validation MSE: 0.97 \n",
            "Epoch[2] Iteration[1200/879] Loss: 0.87\n",
            "Epoch[2] Iteration[1600/879] Loss: 0.86\n",
            "Epoch[2] Validation MSE: 0.92 \n",
            "Epoch[3] Iteration[2000/879] Loss: 0.86\n",
            "Epoch[3] Iteration[2400/879] Loss: 0.86\n",
            "Epoch[3] Validation MSE: 0.90 \n",
            "Epoch[4] Iteration[2800/879] Loss: 0.78\n",
            "Epoch[4] Iteration[3200/879] Loss: 0.76\n",
            "Epoch[4] Validation MSE: 0.87 \n",
            "Epoch[5] Iteration[3600/879] Loss: 0.71\n",
            "Epoch[5] Iteration[4000/879] Loss: 0.86\n",
            "Epoch[5] Validation MSE: 0.85 \n",
            "Epoch[6] Iteration[4400/879] Loss: 0.70\n",
            "Epoch[6] Iteration[4800/879] Loss: 0.76\n",
            "Epoch[6] Iteration[5200/879] Loss: 0.76\n",
            "Epoch[6] Validation MSE: 0.83 \n",
            "Epoch[7] Iteration[5600/879] Loss: 0.73\n",
            "Epoch[7] Iteration[6000/879] Loss: 0.78\n",
            "Epoch[7] Validation MSE: 0.82 \n",
            "Epoch[8] Iteration[6400/879] Loss: 0.76\n",
            "Epoch[8] Iteration[6800/879] Loss: 0.77\n",
            "Epoch[8] Validation MSE: 0.82 \n",
            "Epoch[9] Iteration[7200/879] Loss: 0.72\n",
            "Epoch[9] Iteration[7600/879] Loss: 0.72\n",
            "Epoch[9] Validation MSE: 0.81 \n",
            "Epoch[10] Iteration[8000/879] Loss: 0.69\n",
            "Epoch[10] Iteration[8400/879] Loss: 0.69\n",
            "Epoch[10] Validation MSE: 0.81 \n",
            "Epoch[11] Iteration[8800/879] Loss: 0.65\n",
            "Epoch[11] Iteration[9200/879] Loss: 0.74\n",
            "Epoch[11] Iteration[9600/879] Loss: 0.72\n",
            "Epoch[11] Validation MSE: 0.81 \n",
            "Epoch[12] Iteration[10000/879] Loss: 0.69\n",
            "Epoch[12] Iteration[10400/879] Loss: 0.73\n",
            "Epoch[12] Validation MSE: 0.81 \n",
            "Epoch[13] Iteration[10800/879] Loss: 0.72\n",
            "Epoch[13] Iteration[11200/879] Loss: 0.70\n",
            "Epoch[13] Validation MSE: 0.80 \n",
            "Epoch[14] Iteration[11600/879] Loss: 0.65\n",
            "Epoch[14] Iteration[12000/879] Loss: 0.72\n",
            "Epoch[14] Validation MSE: 0.80 \n",
            "Epoch[15] Iteration[12400/879] Loss: 0.67\n",
            "Epoch[15] Iteration[12800/879] Loss: 0.75\n",
            "Epoch[15] Validation MSE: 0.80 \n",
            "Epoch[16] Iteration[13200/879] Loss: 0.61\n",
            "Epoch[16] Iteration[13600/879] Loss: 0.68\n",
            "Epoch[16] Iteration[14000/879] Loss: 0.72\n",
            "Epoch[16] Validation MSE: 0.80 \n",
            "Epoch[17] Iteration[14400/879] Loss: 0.69\n",
            "Epoch[17] Iteration[14800/879] Loss: 0.79\n",
            "Epoch[17] Validation MSE: 0.80 \n",
            "Epoch[18] Iteration[15200/879] Loss: 0.71\n",
            "Epoch[18] Iteration[15600/879] Loss: 0.75\n",
            "Epoch[18] Validation MSE: 0.80 \n",
            "Epoch[19] Iteration[16000/879] Loss: 0.66\n",
            "Epoch[19] Iteration[16400/879] Loss: 0.75\n",
            "Epoch[19] Validation MSE: 0.80 \n",
            "Epoch[20] Iteration[16800/879] Loss: 0.64\n",
            "Epoch[20] Iteration[17200/879] Loss: 0.68\n",
            "Epoch[20] Validation MSE: 0.80 \n",
            "Epoch[21] Iteration[17600/879] Loss: 0.61\n",
            "Epoch[21] Iteration[18000/879] Loss: 0.71\n",
            "Epoch[21] Iteration[18400/879] Loss: 0.71\n",
            "Epoch[21] Validation MSE: 0.80 \n",
            "Epoch[22] Iteration[18800/879] Loss: 0.77\n",
            "Epoch[22] Iteration[19200/879] Loss: 0.70\n",
            "Epoch[22] Validation MSE: 0.80 \n",
            "Epoch[23] Iteration[19600/879] Loss: 0.72\n",
            "Epoch[23] Iteration[20000/879] Loss: 0.72\n",
            "Epoch[23] Validation MSE: 0.80 \n",
            "Epoch[24] Iteration[20400/879] Loss: 0.64\n",
            "Epoch[24] Iteration[20800/879] Loss: 0.70\n",
            "Epoch[24] Validation MSE: 0.80 \n",
            "Epoch[25] Iteration[21200/879] Loss: 0.62\n",
            "Epoch[25] Iteration[21600/879] Loss: 0.69\n",
            "Epoch[25] Validation MSE: 0.80 \n",
            "Epoch[26] Iteration[22000/879] Loss: 0.59\n",
            "Epoch[26] Iteration[22400/879] Loss: 0.71\n",
            "Epoch[26] Iteration[22800/879] Loss: 0.69\n",
            "Epoch[26] Validation MSE: 0.80 \n",
            "Epoch[27] Iteration[23200/879] Loss: 0.66\n",
            "Epoch[27] Iteration[23600/879] Loss: 0.78\n",
            "Epoch[27] Validation MSE: 0.80 \n",
            "Epoch[28] Iteration[24000/879] Loss: 0.71\n",
            "Epoch[28] Iteration[24400/879] Loss: 0.72\n",
            "Epoch[28] Validation MSE: 0.80 \n",
            "Epoch[29] Iteration[24800/879] Loss: 0.66\n",
            "Epoch[29] Iteration[25200/879] Loss: 0.65\n",
            "Epoch[29] Validation MSE: 0.80 \n",
            "Epoch[30] Iteration[25600/879] Loss: 0.64\n",
            "Epoch[30] Iteration[26000/879] Loss: 0.70\n",
            "Epoch[30] Validation MSE: 0.80 \n",
            "Epoch[31] Iteration[26400/879] Loss: 0.61\n",
            "Epoch[31] Iteration[26800/879] Loss: 0.70\n",
            "Epoch[31] Iteration[27200/879] Loss: 0.77\n",
            "Epoch[31] Validation MSE: 0.80 \n",
            "Epoch[32] Iteration[27600/879] Loss: 0.69\n",
            "Epoch[32] Iteration[28000/879] Loss: 0.75\n",
            "Epoch[32] Validation MSE: 0.80 \n",
            "Epoch[33] Iteration[28400/879] Loss: 0.70\n",
            "Epoch[33] Iteration[28800/879] Loss: 0.70\n",
            "Epoch[33] Validation MSE: 0.80 \n",
            "Epoch[34] Iteration[29200/879] Loss: 0.65\n",
            "Epoch[34] Iteration[29600/879] Loss: 0.70\n",
            "Epoch[34] Validation MSE: 0.79 \n",
            "Epoch[35] Iteration[30000/879] Loss: 0.67\n",
            "Epoch[35] Iteration[30400/879] Loss: 0.67\n",
            "Epoch[35] Validation MSE: 0.80 \n",
            "Epoch[36] Iteration[30800/879] Loss: 0.63\n",
            "Epoch[36] Iteration[31200/879] Loss: 0.64\n",
            "Epoch[36] Iteration[31600/879] Loss: 0.75\n",
            "Epoch[36] Validation MSE: 0.80 \n",
            "Epoch[37] Iteration[32000/879] Loss: 0.66\n",
            "Epoch[37] Iteration[32400/879] Loss: 0.73\n",
            "Epoch[37] Validation MSE: 0.80 \n",
            "Epoch[38] Iteration[32800/879] Loss: 0.67\n",
            "Epoch[38] Iteration[33200/879] Loss: 0.70\n",
            "Epoch[38] Validation MSE: 0.80 \n",
            "Epoch[39] Iteration[33600/879] Loss: 0.68\n",
            "Epoch[39] Iteration[34000/879] Loss: 0.69\n",
            "Epoch[39] Validation MSE: 0.80 \n",
            "Epoch[40] Iteration[34400/879] Loss: 0.67\n",
            "Epoch[40] Iteration[34800/879] Loss: 0.68\n",
            "Epoch[40] Validation MSE: 0.80 \n",
            "Epoch[41] Iteration[35200/879] Loss: 0.68\n",
            "Epoch[41] Iteration[35600/879] Loss: 0.74\n",
            "Epoch[41] Iteration[36000/879] Loss: 0.70\n",
            "Epoch[41] Validation MSE: 0.79 \n",
            "Epoch[42] Iteration[36400/879] Loss: 0.62\n",
            "Epoch[42] Iteration[36800/879] Loss: 0.74\n",
            "Epoch[42] Validation MSE: 0.79 \n",
            "Epoch[43] Iteration[37200/879] Loss: 0.68\n",
            "Epoch[43] Iteration[37600/879] Loss: 0.68\n",
            "Epoch[43] Validation MSE: 0.80 \n",
            "Epoch[44] Iteration[38000/879] Loss: 0.66\n",
            "Epoch[44] Iteration[38400/879] Loss: 0.69\n",
            "Epoch[44] Validation MSE: 0.79 \n",
            "Epoch[45] Iteration[38800/879] Loss: 0.69\n",
            "Epoch[45] Iteration[39200/879] Loss: 0.72\n",
            "Epoch[45] Validation MSE: 0.79 \n",
            "Epoch[46] Iteration[39600/879] Loss: 0.64\n",
            "Epoch[46] Iteration[40000/879] Loss: 0.67\n",
            "Epoch[46] Iteration[40400/879] Loss: 0.70\n",
            "Epoch[46] Validation MSE: 0.79 \n",
            "Epoch[47] Iteration[40800/879] Loss: 0.71\n",
            "Epoch[47] Iteration[41200/879] Loss: 0.74\n",
            "Epoch[47] Validation MSE: 0.79 \n",
            "Epoch[48] Iteration[41600/879] Loss: 0.67\n",
            "Epoch[48] Iteration[42000/879] Loss: 0.68\n",
            "Epoch[48] Validation MSE: 0.79 \n",
            "Epoch[49] Iteration[42400/879] Loss: 0.60\n",
            "Epoch[49] Iteration[42800/879] Loss: 0.72\n",
            "Epoch[49] Validation MSE: 0.79 \n",
            "Epoch[50] Iteration[43200/879] Loss: 0.65\n",
            "Epoch[50] Iteration[43600/879] Loss: 0.69\n",
            "Epoch[50] Validation MSE: 0.79 \n"
          ],
          "name": "stdout"
        },
        {
          "output_type": "execute_result",
          "data": {
            "text/plain": [
              "<ignite.engine.engine.State at 0x7fdeef44eb70>"
            ]
          },
          "metadata": {
            "tags": []
          },
          "execution_count": 8
        }
      ]
    },
    {
      "cell_type": "code",
      "metadata": {
        "id": "rHIOg78qi6oM",
        "colab_type": "code",
        "colab": {}
      },
      "source": [
        ""
      ],
      "execution_count": 0,
      "outputs": []
    }
  ]
}