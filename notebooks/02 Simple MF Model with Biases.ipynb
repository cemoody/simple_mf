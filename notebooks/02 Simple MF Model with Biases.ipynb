{
  "nbformat": 4,
  "nbformat_minor": 0,
  "metadata": {
    "celltoolbar": "Slideshow",
    "kernelspec": {
      "display_name": "Python 3",
      "language": "python",
      "name": "python3"
    },
    "language_info": {
      "codemirror_mode": {
        "name": "ipython",
        "version": 3
      },
      "file_extension": ".py",
      "mimetype": "text/x-python",
      "name": "python",
      "nbconvert_exporter": "python",
      "pygments_lexer": "ipython3",
      "version": "3.6.5"
    },
    "colab": {
      "name": "02 Simple MF Model with Biases.ipynb",
      "provenance": []
    }
  },
  "cells": [
    {
      "cell_type": "markdown",
      "metadata": {
        "id": "tl-Qlljjbnz7",
        "colab_type": "text"
      },
      "source": [
        "### Load preprocessed data"
      ]
    },
    {
      "cell_type": "code",
      "metadata": {
        "id": "x8J0bDQjb5gS",
        "colab_type": "code",
        "colab": {
          "base_uri": "https://localhost:8080/",
          "height": 751
        },
        "outputId": "5c45599a-1892-4670-8126-d33575aad458"
      },
      "source": [
        "!rm -rdf loader* data/* data* ../data ../data*\n",
        "!wget https://raw.githubusercontent.com/cemoody/simple_mf/master/notebooks/loader.py\n",
        "!mkdir ../data\n",
        "!wget https://www.dropbox.com/s/msqzmmaog5bstm4/dataset.npz?dl=0\n",
        "!mv dataset.npz?dl=0 ../data/dataset.npz\n",
        "!pip install pytorch-ignite tensorboardX"
      ],
      "execution_count": 1,
      "outputs": [
        {
          "output_type": "stream",
          "text": [
            "--2019-11-18 16:55:05--  https://raw.githubusercontent.com/cemoody/simple_mf/master/notebooks/loader.py\n",
            "Resolving raw.githubusercontent.com (raw.githubusercontent.com)... 151.101.0.133, 151.101.64.133, 151.101.128.133, ...\n",
            "Connecting to raw.githubusercontent.com (raw.githubusercontent.com)|151.101.0.133|:443... connected.\n",
            "HTTP request sent, awaiting response... 200 OK\n",
            "Length: 1014 [text/plain]\n",
            "Saving to: ‘loader.py’\n",
            "\n",
            "\rloader.py             0%[                    ]       0  --.-KB/s               \rloader.py           100%[===================>]    1014  --.-KB/s    in 0s      \n",
            "\n",
            "2019-11-18 16:55:05 (183 MB/s) - ‘loader.py’ saved [1014/1014]\n",
            "\n",
            "--2019-11-18 16:55:06--  https://www.dropbox.com/s/msqzmmaog5bstm4/dataset.npz?dl=0\n",
            "Resolving www.dropbox.com (www.dropbox.com)... 162.125.9.1, 2620:100:601f:1::a27d:901\n",
            "Connecting to www.dropbox.com (www.dropbox.com)|162.125.9.1|:443... connected.\n",
            "HTTP request sent, awaiting response... 301 Moved Permanently\n",
            "Location: /s/raw/msqzmmaog5bstm4/dataset.npz [following]\n",
            "--2019-11-18 16:55:06--  https://www.dropbox.com/s/raw/msqzmmaog5bstm4/dataset.npz\n",
            "Reusing existing connection to www.dropbox.com:443.\n",
            "HTTP request sent, awaiting response... 302 Found\n",
            "Location: https://ucf8ba1f84d02d8d35cee18760a7.dl.dropboxusercontent.com/cd/0/inline/Asl53ksh8jhEDQONcVjdVfLN2d63__UcpRYP5fWlQc0Xh4z7o7a49V3hTMQbjP5WGYa_4XL-dt43-QGfJj2E1J0NqxlEMrknwFD0VOPANnJ_Vg/file# [following]\n",
            "--2019-11-18 16:55:07--  https://ucf8ba1f84d02d8d35cee18760a7.dl.dropboxusercontent.com/cd/0/inline/Asl53ksh8jhEDQONcVjdVfLN2d63__UcpRYP5fWlQc0Xh4z7o7a49V3hTMQbjP5WGYa_4XL-dt43-QGfJj2E1J0NqxlEMrknwFD0VOPANnJ_Vg/file\n",
            "Resolving ucf8ba1f84d02d8d35cee18760a7.dl.dropboxusercontent.com (ucf8ba1f84d02d8d35cee18760a7.dl.dropboxusercontent.com)... 162.125.9.6, 2620:100:601f:6::a27d:906\n",
            "Connecting to ucf8ba1f84d02d8d35cee18760a7.dl.dropboxusercontent.com (ucf8ba1f84d02d8d35cee18760a7.dl.dropboxusercontent.com)|162.125.9.6|:443... connected.\n",
            "HTTP request sent, awaiting response... 302 FOUND\n",
            "Location: /cd/0/inline2/AsnJFnu0S3GX46Qg1JUDhNx1jZMlJgpl6pHeuIFSuurh2W_ZiGERm4q-UPW8TduIVPCFm91VIL3Oc-Yx1lrONM8-zkYocNGgoR8y4K7n-Hbzsxjl_sSzNPmkn3SGYDAkLnD5-atWxuihIR6Wjv5dGvD9i2dF4ztXpcheFAEMYSr322JCEzPpZYDbEMjKmB7f6rGXHg-QhvZjTYD5UhJC-IeUkkJmUXS31YsolQDXtk9EKRa-Nb1uFBCovqc9vQiTCbAGWn4tGUY8as_K_v3SGLLZs_rq9OoaBOgeNJgaGu6NUaHwRKc6xg1_otAW1ZaPlrVp11gvh1qXjkrvIC3zDS7E/file [following]\n",
            "--2019-11-18 16:55:07--  https://ucf8ba1f84d02d8d35cee18760a7.dl.dropboxusercontent.com/cd/0/inline2/AsnJFnu0S3GX46Qg1JUDhNx1jZMlJgpl6pHeuIFSuurh2W_ZiGERm4q-UPW8TduIVPCFm91VIL3Oc-Yx1lrONM8-zkYocNGgoR8y4K7n-Hbzsxjl_sSzNPmkn3SGYDAkLnD5-atWxuihIR6Wjv5dGvD9i2dF4ztXpcheFAEMYSr322JCEzPpZYDbEMjKmB7f6rGXHg-QhvZjTYD5UhJC-IeUkkJmUXS31YsolQDXtk9EKRa-Nb1uFBCovqc9vQiTCbAGWn4tGUY8as_K_v3SGLLZs_rq9OoaBOgeNJgaGu6NUaHwRKc6xg1_otAW1ZaPlrVp11gvh1qXjkrvIC3zDS7E/file\n",
            "Reusing existing connection to ucf8ba1f84d02d8d35cee18760a7.dl.dropboxusercontent.com:443.\n",
            "HTTP request sent, awaiting response... 200 OK\n",
            "Length: 60015046 (57M) [application/octet-stream]\n",
            "Saving to: ‘dataset.npz?dl=0’\n",
            "\n",
            "dataset.npz?dl=0    100%[===================>]  57.23M  8.97MB/s    in 7.2s    \n",
            "\n",
            "2019-11-18 16:55:15 (7.95 MB/s) - ‘dataset.npz?dl=0’ saved [60015046/60015046]\n",
            "\n",
            "Requirement already satisfied: pytorch-ignite in /usr/local/lib/python3.6/dist-packages (0.2.1)\n",
            "Requirement already satisfied: tensorboardX in /usr/local/lib/python3.6/dist-packages (1.9)\n",
            "Requirement already satisfied: torch in /usr/local/lib/python3.6/dist-packages (from pytorch-ignite) (1.3.1)\n",
            "Requirement already satisfied: numpy in /usr/local/lib/python3.6/dist-packages (from tensorboardX) (1.17.4)\n",
            "Requirement already satisfied: protobuf>=3.8.0 in /usr/local/lib/python3.6/dist-packages (from tensorboardX) (3.10.0)\n",
            "Requirement already satisfied: six in /usr/local/lib/python3.6/dist-packages (from tensorboardX) (1.12.0)\n",
            "Requirement already satisfied: setuptools in /usr/local/lib/python3.6/dist-packages (from protobuf>=3.8.0->tensorboardX) (41.6.0)\n"
          ],
          "name": "stdout"
        }
      ]
    },
    {
      "cell_type": "code",
      "metadata": {
        "id": "s9ABhDTMbnz-",
        "colab_type": "code",
        "colab": {}
      },
      "source": [
        "import numpy as np\n",
        "fh = np.load('../data/dataset.npz')\n",
        "# We have a bunch of feature columns and last column is the y-target\n",
        "train_x = fh['train_x'].astype(np.int64)\n",
        "train_y = fh['train_y']\n",
        "\n",
        "test_x = fh['test_x'].astype(np.int64)\n",
        "test_y = fh['test_y']\n",
        "\n",
        "n_user = int(fh['n_user'])\n",
        "n_item = int(fh['n_item'])"
      ],
      "execution_count": 0,
      "outputs": []
    },
    {
      "cell_type": "markdown",
      "metadata": {
        "id": "zWb4xv2Wbn0F",
        "colab_type": "text"
      },
      "source": [
        "### Define the MF Model"
      ]
    },
    {
      "cell_type": "code",
      "metadata": {
        "id": "vqmJsIbdbn0G",
        "colab_type": "code",
        "colab": {}
      },
      "source": [
        "import torch\n",
        "from torch import nn\n",
        "import torch.nn.functional as F\n",
        "\n",
        "def l2_regularize(array):\n",
        "    loss = torch.sum(array ** 2.0)\n",
        "    return loss"
      ],
      "execution_count": 0,
      "outputs": []
    },
    {
      "cell_type": "code",
      "metadata": {
        "id": "BlF6KGAXbn0I",
        "colab_type": "code",
        "colab": {}
      },
      "source": [
        "class MF(nn.Module):\n",
        "    itr = 0\n",
        "    \n",
        "    def __init__(self, n_user, n_item, k=18, c_vector=1.0, c_bias=1.0, writer=None):\n",
        "        super(MF, self).__init__()\n",
        "        self.writer = writer\n",
        "        self.k = k\n",
        "        self.n_user = n_user\n",
        "        self.n_item = n_item\n",
        "        self.c_bias = c_bias\n",
        "        self.c_vector = c_vector\n",
        "        \n",
        "        self.user = nn.Embedding(n_user, k)\n",
        "        self.item = nn.Embedding(n_item, k)\n",
        "        \n",
        "        # We've added new terms here:\n",
        "        self.bias_user = nn.Embedding(n_user, 1)\n",
        "        self.bias_item = nn.Embedding(n_item, 1)\n",
        "        self.bias = nn.Parameter(torch.ones(1))\n",
        "    \n",
        "    def __call__(self, train_x):\n",
        "        user_id = train_x[:, 0]\n",
        "        item_id = train_x[:, 1]\n",
        "        vector_user = self.user(user_id)\n",
        "        vector_item = self.item(item_id)\n",
        "        \n",
        "        # Pull out biases\n",
        "        bias_user = self.bias_user(user_id).squeeze()\n",
        "        bias_item = self.bias_item(item_id).squeeze()\n",
        "        biases = (self.bias + bias_user + bias_item)\n",
        "        \n",
        "        ui_interaction = torch.sum(vector_user * vector_item, dim=1)\n",
        "        \n",
        "        # Add bias prediction to the interaction prediction\n",
        "        prediction = ui_interaction + biases\n",
        "        return prediction\n",
        "    \n",
        "    def loss(self, prediction, target):\n",
        "        loss_mse = F.mse_loss(prediction, target.squeeze())\n",
        "        \n",
        "        # Add new regularization to the biases\n",
        "        prior_bias_user =  l2_regularize(self.bias_user.weight) * self.c_bias\n",
        "        prior_bias_item = l2_regularize(self.bias_item.weight) * self.c_bias\n",
        "        \n",
        "        prior_user =  l2_regularize(self.user.weight) * self.c_vector\n",
        "        prior_item = l2_regularize(self.item.weight) * self.c_vector\n",
        "        total = loss_mse + prior_user + prior_item + prior_bias_user + prior_bias_item\n",
        "        for name, var in locals().items():\n",
        "            if type(var) is torch.Tensor and var.nelement() == 1 and self.writer is not None:\n",
        "                self.writer.add_scalar(name, var, self.itr)\n",
        "        return total"
      ],
      "execution_count": 0,
      "outputs": []
    },
    {
      "cell_type": "markdown",
      "metadata": {
        "id": "THd6UUYWbn0K",
        "colab_type": "text"
      },
      "source": [
        "### Train model"
      ]
    },
    {
      "cell_type": "code",
      "metadata": {
        "id": "lCzRIeo2bn0K",
        "colab_type": "code",
        "colab": {}
      },
      "source": [
        "from ignite.engine import Events, create_supervised_trainer, create_supervised_evaluator\n",
        "from ignite.metrics import Loss\n",
        "from tensorboardX import SummaryWriter\n",
        "from ignite.metrics import MeanSquaredError\n",
        "\n",
        "from loader import Loader\n",
        "from datetime import datetime"
      ],
      "execution_count": 0,
      "outputs": []
    },
    {
      "cell_type": "code",
      "metadata": {
        "id": "G9T8PzyUbn0M",
        "colab_type": "code",
        "colab": {
          "base_uri": "https://localhost:8080/",
          "height": 34
        },
        "outputId": "aa75767b-a8a9-48e0-d56f-e06609fa991f"
      },
      "source": [
        "# Hyperparameters\n",
        "lr = 1e-2\n",
        "k = 10\n",
        "# New parameter for regularizing bias\n",
        "c_bias = 1e-6\n",
        "c_vector = 1e-6\n",
        "batchsize = 1024\n",
        "log_dir = 'runs/simple_mf_02_bias_' + str(datetime.now()).replace(' ', '_')\n",
        "print(log_dir)"
      ],
      "execution_count": 6,
      "outputs": [
        {
          "output_type": "stream",
          "text": [
            "runs/simple_mf_02_bias_2019-11-18_16:55:23.705487\n"
          ],
          "name": "stdout"
        }
      ]
    },
    {
      "cell_type": "code",
      "metadata": {
        "id": "hchuflXIbn0O",
        "colab_type": "code",
        "colab": {
          "base_uri": "https://localhost:8080/",
          "height": 119
        },
        "outputId": "ec48380c-0285-4599-841d-3bf6ab4d0449"
      },
      "source": [
        "writer = SummaryWriter(log_dir=log_dir)\n",
        "\n",
        "model = MF(n_user, n_item, writer=writer, k=k, c_bias=c_bias, c_vector=c_vector)\n",
        "optimizer = torch.optim.Adam(model.parameters())\n",
        "trainer = create_supervised_trainer(model, optimizer, model.loss)\n",
        "metrics = {'accuracy': MeanSquaredError()}\n",
        "evaluat = create_supervised_evaluator(model, metrics=metrics)\n",
        "train_loader = Loader(train_x, train_y, batchsize=batchsize)\n",
        "test_loader = Loader(test_x, test_y, batchsize=batchsize)\n",
        "\n",
        "\n",
        "def log_training_loss(engine, log_interval=400):\n",
        "    epoch = engine.state.epoch\n",
        "    itr = engine.state.iteration\n",
        "    fmt = \"Epoch[{}] Iteration[{}/{}] Loss: {:.2f}\"\n",
        "    msg = fmt.format(epoch, itr, len(train_loader), engine.state.output)\n",
        "    model.itr = itr\n",
        "    if itr % log_interval == 0:\n",
        "        print(msg)\n",
        "\n",
        "trainer.add_event_handler(event_name=Events.ITERATION_COMPLETED, handler=log_training_loss)\n",
        "\n",
        "def log_validation_results(engine):\n",
        "    evaluat.run(test_loader)\n",
        "    metrics = evaluat.state.metrics\n",
        "    avg_accuracy = metrics['accuracy']\n",
        "    print(\"Epoch[{}] Validation MSE: {:.2f} \"\n",
        "          .format(engine.state.epoch, avg_accuracy))\n",
        "    writer.add_scalar(\"validation/avg_accuracy\", avg_accuracy, engine.state.epoch)\n",
        "    \n",
        "\n",
        "trainer.add_event_handler(event_name=Events.EPOCH_COMPLETED, handler=log_validation_results)\n",
        "\n",
        "\n",
        "model"
      ],
      "execution_count": 7,
      "outputs": [
        {
          "output_type": "execute_result",
          "data": {
            "text/plain": [
              "MF(\n",
              "  (user): Embedding(6041, 10)\n",
              "  (item): Embedding(3953, 10)\n",
              "  (bias_user): Embedding(6041, 1)\n",
              "  (bias_item): Embedding(3953, 1)\n",
              ")"
            ]
          },
          "metadata": {
            "tags": []
          },
          "execution_count": 7
        }
      ]
    },
    {
      "cell_type": "markdown",
      "metadata": {
        "id": "ofg4ssN2bn0Q",
        "colab_type": "text"
      },
      "source": [
        "#### Run model"
      ]
    },
    {
      "cell_type": "code",
      "metadata": {
        "scrolled": false,
        "id": "HDbD_3FLbn0R",
        "colab_type": "code",
        "colab": {
          "base_uri": "https://localhost:8080/",
          "height": 1000
        },
        "outputId": "f287cd3e-d73b-4b0d-a2ba-e72f6c9648d3"
      },
      "source": [
        "trainer.run(train_loader, max_epochs=50)"
      ],
      "execution_count": 8,
      "outputs": [
        {
          "output_type": "stream",
          "text": [
            "Epoch[1] Iteration[400/879] Loss: 15.40\n",
            "Epoch[1] Iteration[800/879] Loss: 11.78\n",
            "Epoch[1] Validation MSE: 10.73 \n",
            "Epoch[2] Iteration[1200/879] Loss: 9.78\n",
            "Epoch[2] Iteration[1600/879] Loss: 7.88\n",
            "Epoch[2] Validation MSE: 6.64 \n",
            "Epoch[3] Iteration[2000/879] Loss: 5.63\n",
            "Epoch[3] Iteration[2400/879] Loss: 5.06\n",
            "Epoch[3] Validation MSE: 4.56 \n",
            "Epoch[4] Iteration[2800/879] Loss: 4.00\n",
            "Epoch[4] Iteration[3200/879] Loss: 3.76\n",
            "Epoch[4] Validation MSE: 3.32 \n",
            "Epoch[5] Iteration[3600/879] Loss: 2.96\n",
            "Epoch[5] Iteration[4000/879] Loss: 2.78\n",
            "Epoch[5] Validation MSE: 2.51 \n",
            "Epoch[6] Iteration[4400/879] Loss: 2.32\n",
            "Epoch[6] Iteration[4800/879] Loss: 2.07\n",
            "Epoch[6] Iteration[5200/879] Loss: 2.01\n",
            "Epoch[6] Validation MSE: 1.97 \n",
            "Epoch[7] Iteration[5600/879] Loss: 1.87\n",
            "Epoch[7] Iteration[6000/879] Loss: 1.55\n",
            "Epoch[7] Validation MSE: 1.62 \n",
            "Epoch[8] Iteration[6400/879] Loss: 1.53\n",
            "Epoch[8] Iteration[6800/879] Loss: 1.35\n",
            "Epoch[8] Validation MSE: 1.38 \n",
            "Epoch[9] Iteration[7200/879] Loss: 1.17\n",
            "Epoch[9] Iteration[7600/879] Loss: 1.22\n",
            "Epoch[9] Validation MSE: 1.23 \n",
            "Epoch[10] Iteration[8000/879] Loss: 1.10\n",
            "Epoch[10] Iteration[8400/879] Loss: 1.19\n",
            "Epoch[10] Validation MSE: 1.12 \n",
            "Epoch[11] Iteration[8800/879] Loss: 1.03\n",
            "Epoch[11] Iteration[9200/879] Loss: 0.95\n",
            "Epoch[11] Iteration[9600/879] Loss: 1.00\n",
            "Epoch[11] Validation MSE: 1.05 \n",
            "Epoch[12] Iteration[10000/879] Loss: 0.99\n",
            "Epoch[12] Iteration[10400/879] Loss: 0.97\n",
            "Epoch[12] Validation MSE: 1.00 \n",
            "Epoch[13] Iteration[10800/879] Loss: 0.92\n",
            "Epoch[13] Iteration[11200/879] Loss: 0.90\n",
            "Epoch[13] Validation MSE: 0.96 \n",
            "Epoch[14] Iteration[11600/879] Loss: 0.90\n",
            "Epoch[14] Iteration[12000/879] Loss: 0.87\n",
            "Epoch[14] Validation MSE: 0.94 \n",
            "Epoch[15] Iteration[12400/879] Loss: 0.85\n",
            "Epoch[15] Iteration[12800/879] Loss: 0.87\n",
            "Epoch[15] Validation MSE: 0.92 \n",
            "Epoch[16] Iteration[13200/879] Loss: 0.87\n",
            "Epoch[16] Iteration[13600/879] Loss: 0.79\n",
            "Epoch[16] Iteration[14000/879] Loss: 0.83\n",
            "Epoch[16] Validation MSE: 0.91 \n",
            "Epoch[17] Iteration[14400/879] Loss: 0.84\n",
            "Epoch[17] Iteration[14800/879] Loss: 0.80\n",
            "Epoch[17] Validation MSE: 0.90 \n",
            "Epoch[18] Iteration[15200/879] Loss: 0.81\n",
            "Epoch[18] Iteration[15600/879] Loss: 0.82\n",
            "Epoch[18] Validation MSE: 0.89 \n",
            "Epoch[19] Iteration[16000/879] Loss: 0.81\n",
            "Epoch[19] Iteration[16400/879] Loss: 0.73\n",
            "Epoch[19] Validation MSE: 0.88 \n",
            "Epoch[20] Iteration[16800/879] Loss: 0.79\n",
            "Epoch[20] Iteration[17200/879] Loss: 0.82\n",
            "Epoch[20] Validation MSE: 0.87 \n",
            "Epoch[21] Iteration[17600/879] Loss: 0.81\n",
            "Epoch[21] Iteration[18000/879] Loss: 0.74\n",
            "Epoch[21] Iteration[18400/879] Loss: 0.74\n",
            "Epoch[21] Validation MSE: 0.86 \n",
            "Epoch[22] Iteration[18800/879] Loss: 0.77\n",
            "Epoch[22] Iteration[19200/879] Loss: 0.77\n",
            "Epoch[22] Validation MSE: 0.86 \n",
            "Epoch[23] Iteration[19600/879] Loss: 0.76\n",
            "Epoch[23] Iteration[20000/879] Loss: 0.69\n",
            "Epoch[23] Validation MSE: 0.85 \n",
            "Epoch[24] Iteration[20400/879] Loss: 0.74\n",
            "Epoch[24] Iteration[20800/879] Loss: 0.75\n",
            "Epoch[24] Validation MSE: 0.84 \n",
            "Epoch[25] Iteration[21200/879] Loss: 0.71\n",
            "Epoch[25] Iteration[21600/879] Loss: 0.76\n",
            "Epoch[25] Validation MSE: 0.84 \n",
            "Epoch[26] Iteration[22000/879] Loss: 0.75\n",
            "Epoch[26] Iteration[22400/879] Loss: 0.71\n",
            "Epoch[26] Iteration[22800/879] Loss: 0.76\n",
            "Epoch[26] Validation MSE: 0.83 \n",
            "Epoch[27] Iteration[23200/879] Loss: 0.74\n",
            "Epoch[27] Iteration[23600/879] Loss: 0.72\n",
            "Epoch[27] Validation MSE: 0.83 \n",
            "Epoch[28] Iteration[24000/879] Loss: 0.73\n",
            "Epoch[28] Iteration[24400/879] Loss: 0.75\n",
            "Epoch[28] Validation MSE: 0.82 \n",
            "Epoch[29] Iteration[24800/879] Loss: 0.70\n",
            "Epoch[29] Iteration[25200/879] Loss: 0.64\n",
            "Epoch[29] Validation MSE: 0.82 \n",
            "Epoch[30] Iteration[25600/879] Loss: 0.67\n",
            "Epoch[30] Iteration[26000/879] Loss: 0.69\n",
            "Epoch[30] Validation MSE: 0.82 \n",
            "Epoch[31] Iteration[26400/879] Loss: 0.67\n",
            "Epoch[31] Iteration[26800/879] Loss: 0.71\n",
            "Epoch[31] Iteration[27200/879] Loss: 0.70\n",
            "Epoch[31] Validation MSE: 0.81 \n",
            "Epoch[32] Iteration[27600/879] Loss: 0.66\n",
            "Epoch[32] Iteration[28000/879] Loss: 0.70\n",
            "Epoch[32] Validation MSE: 0.81 \n",
            "Epoch[33] Iteration[28400/879] Loss: 0.67\n",
            "Epoch[33] Iteration[28800/879] Loss: 0.66\n",
            "Epoch[33] Validation MSE: 0.81 \n",
            "Epoch[34] Iteration[29200/879] Loss: 0.65\n",
            "Epoch[34] Iteration[29600/879] Loss: 0.64\n",
            "Epoch[34] Validation MSE: 0.81 \n",
            "Epoch[35] Iteration[30000/879] Loss: 0.68\n",
            "Epoch[35] Iteration[30400/879] Loss: 0.69\n",
            "Epoch[35] Validation MSE: 0.80 \n",
            "Epoch[36] Iteration[30800/879] Loss: 0.66\n",
            "Epoch[36] Iteration[31200/879] Loss: 0.65\n",
            "Epoch[36] Iteration[31600/879] Loss: 0.71\n",
            "Epoch[36] Validation MSE: 0.80 \n",
            "Epoch[37] Iteration[32000/879] Loss: 0.65\n",
            "Epoch[37] Iteration[32400/879] Loss: 0.67\n",
            "Epoch[37] Validation MSE: 0.80 \n",
            "Epoch[38] Iteration[32800/879] Loss: 0.63\n",
            "Epoch[38] Iteration[33200/879] Loss: 0.68\n",
            "Epoch[38] Validation MSE: 0.80 \n",
            "Epoch[39] Iteration[33600/879] Loss: 0.62\n",
            "Epoch[39] Iteration[34000/879] Loss: 0.68\n",
            "Epoch[39] Validation MSE: 0.80 \n",
            "Epoch[40] Iteration[34400/879] Loss: 0.59\n",
            "Epoch[40] Iteration[34800/879] Loss: 0.63\n",
            "Epoch[40] Validation MSE: 0.80 \n",
            "Epoch[41] Iteration[35200/879] Loss: 0.64\n",
            "Epoch[41] Iteration[35600/879] Loss: 0.63\n",
            "Epoch[41] Iteration[36000/879] Loss: 0.62\n",
            "Epoch[41] Validation MSE: 0.79 \n",
            "Epoch[42] Iteration[36400/879] Loss: 0.66\n",
            "Epoch[42] Iteration[36800/879] Loss: 0.67\n",
            "Epoch[42] Validation MSE: 0.79 \n",
            "Epoch[43] Iteration[37200/879] Loss: 0.59\n",
            "Epoch[43] Iteration[37600/879] Loss: 0.61\n",
            "Epoch[43] Validation MSE: 0.79 \n",
            "Epoch[44] Iteration[38000/879] Loss: 0.63\n",
            "Epoch[44] Iteration[38400/879] Loss: 0.64\n",
            "Epoch[44] Validation MSE: 0.79 \n",
            "Epoch[45] Iteration[38800/879] Loss: 0.61\n",
            "Epoch[45] Iteration[39200/879] Loss: 0.60\n",
            "Epoch[45] Validation MSE: 0.79 \n",
            "Epoch[46] Iteration[39600/879] Loss: 0.63\n",
            "Epoch[46] Iteration[40000/879] Loss: 0.63\n",
            "Epoch[46] Iteration[40400/879] Loss: 0.67\n",
            "Epoch[46] Validation MSE: 0.79 \n",
            "Epoch[47] Iteration[40800/879] Loss: 0.62\n",
            "Epoch[47] Iteration[41200/879] Loss: 0.66\n",
            "Epoch[47] Validation MSE: 0.79 \n",
            "Epoch[48] Iteration[41600/879] Loss: 0.58\n",
            "Epoch[48] Iteration[42000/879] Loss: 0.64\n",
            "Epoch[48] Validation MSE: 0.78 \n",
            "Epoch[49] Iteration[42400/879] Loss: 0.60\n",
            "Epoch[49] Iteration[42800/879] Loss: 0.64\n",
            "Epoch[49] Validation MSE: 0.78 \n",
            "Epoch[50] Iteration[43200/879] Loss: 0.63\n",
            "Epoch[50] Iteration[43600/879] Loss: 0.62\n",
            "Epoch[50] Validation MSE: 0.78 \n",
            "Epoch[51] Iteration[44000/879] Loss: 0.58\n",
            "Epoch[51] Iteration[44400/879] Loss: 0.59\n"
          ],
          "name": "stdout"
        },
        {
          "output_type": "error",
          "ename": "KeyboardInterrupt",
          "evalue": "ignored",
          "traceback": [
            "\u001b[0;31m---------------------------------------------------------------------------\u001b[0m",
            "\u001b[0;31mKeyboardInterrupt\u001b[0m                         Traceback (most recent call last)",
            "\u001b[0;32m<ipython-input-8-4181029f24bf>\u001b[0m in \u001b[0;36m<module>\u001b[0;34m()\u001b[0m\n\u001b[0;32m----> 1\u001b[0;31m \u001b[0mtrainer\u001b[0m\u001b[0;34m.\u001b[0m\u001b[0mrun\u001b[0m\u001b[0;34m(\u001b[0m\u001b[0mtrain_loader\u001b[0m\u001b[0;34m,\u001b[0m \u001b[0mmax_epochs\u001b[0m\u001b[0;34m=\u001b[0m\u001b[0;36m150\u001b[0m\u001b[0;34m)\u001b[0m\u001b[0;34m\u001b[0m\u001b[0;34m\u001b[0m\u001b[0m\n\u001b[0m",
            "\u001b[0;32m/usr/local/lib/python3.6/dist-packages/ignite/engine/engine.py\u001b[0m in \u001b[0;36mrun\u001b[0;34m(self, data, max_epochs)\u001b[0m\n\u001b[1;32m    444\u001b[0m         \u001b[0;32mexcept\u001b[0m \u001b[0mBaseException\u001b[0m \u001b[0;32mas\u001b[0m \u001b[0me\u001b[0m\u001b[0;34m:\u001b[0m\u001b[0;34m\u001b[0m\u001b[0;34m\u001b[0m\u001b[0m\n\u001b[1;32m    445\u001b[0m             \u001b[0mself\u001b[0m\u001b[0;34m.\u001b[0m\u001b[0m_logger\u001b[0m\u001b[0;34m.\u001b[0m\u001b[0merror\u001b[0m\u001b[0;34m(\u001b[0m\u001b[0;34m\"Engine run is terminating due to exception: %s.\"\u001b[0m\u001b[0;34m,\u001b[0m \u001b[0mstr\u001b[0m\u001b[0;34m(\u001b[0m\u001b[0me\u001b[0m\u001b[0;34m)\u001b[0m\u001b[0;34m)\u001b[0m\u001b[0;34m\u001b[0m\u001b[0;34m\u001b[0m\u001b[0m\n\u001b[0;32m--> 446\u001b[0;31m             \u001b[0mself\u001b[0m\u001b[0;34m.\u001b[0m\u001b[0m_handle_exception\u001b[0m\u001b[0;34m(\u001b[0m\u001b[0me\u001b[0m\u001b[0;34m)\u001b[0m\u001b[0;34m\u001b[0m\u001b[0;34m\u001b[0m\u001b[0m\n\u001b[0m\u001b[1;32m    447\u001b[0m \u001b[0;34m\u001b[0m\u001b[0m\n\u001b[1;32m    448\u001b[0m         \u001b[0;32mreturn\u001b[0m \u001b[0mself\u001b[0m\u001b[0;34m.\u001b[0m\u001b[0mstate\u001b[0m\u001b[0;34m\u001b[0m\u001b[0;34m\u001b[0m\u001b[0m\n",
            "\u001b[0;32m/usr/local/lib/python3.6/dist-packages/ignite/engine/engine.py\u001b[0m in \u001b[0;36m_handle_exception\u001b[0;34m(self, e)\u001b[0m\n\u001b[1;32m    408\u001b[0m             \u001b[0mself\u001b[0m\u001b[0;34m.\u001b[0m\u001b[0m_fire_event\u001b[0m\u001b[0;34m(\u001b[0m\u001b[0mEvents\u001b[0m\u001b[0;34m.\u001b[0m\u001b[0mEXCEPTION_RAISED\u001b[0m\u001b[0;34m,\u001b[0m \u001b[0me\u001b[0m\u001b[0;34m)\u001b[0m\u001b[0;34m\u001b[0m\u001b[0;34m\u001b[0m\u001b[0m\n\u001b[1;32m    409\u001b[0m         \u001b[0;32melse\u001b[0m\u001b[0;34m:\u001b[0m\u001b[0;34m\u001b[0m\u001b[0;34m\u001b[0m\u001b[0m\n\u001b[0;32m--> 410\u001b[0;31m             \u001b[0;32mraise\u001b[0m \u001b[0me\u001b[0m\u001b[0;34m\u001b[0m\u001b[0;34m\u001b[0m\u001b[0m\n\u001b[0m\u001b[1;32m    411\u001b[0m \u001b[0;34m\u001b[0m\u001b[0m\n\u001b[1;32m    412\u001b[0m     \u001b[0;32mdef\u001b[0m \u001b[0mrun\u001b[0m\u001b[0;34m(\u001b[0m\u001b[0mself\u001b[0m\u001b[0;34m,\u001b[0m \u001b[0mdata\u001b[0m\u001b[0;34m,\u001b[0m \u001b[0mmax_epochs\u001b[0m\u001b[0;34m=\u001b[0m\u001b[0;36m1\u001b[0m\u001b[0;34m)\u001b[0m\u001b[0;34m:\u001b[0m\u001b[0;34m\u001b[0m\u001b[0;34m\u001b[0m\u001b[0m\n",
            "\u001b[0;32m/usr/local/lib/python3.6/dist-packages/ignite/engine/engine.py\u001b[0m in \u001b[0;36mrun\u001b[0;34m(self, data, max_epochs)\u001b[0m\n\u001b[1;32m    431\u001b[0m                 \u001b[0mself\u001b[0m\u001b[0;34m.\u001b[0m\u001b[0mstate\u001b[0m\u001b[0;34m.\u001b[0m\u001b[0mepoch\u001b[0m \u001b[0;34m+=\u001b[0m \u001b[0;36m1\u001b[0m\u001b[0;34m\u001b[0m\u001b[0;34m\u001b[0m\u001b[0m\n\u001b[1;32m    432\u001b[0m                 \u001b[0mself\u001b[0m\u001b[0;34m.\u001b[0m\u001b[0m_fire_event\u001b[0m\u001b[0;34m(\u001b[0m\u001b[0mEvents\u001b[0m\u001b[0;34m.\u001b[0m\u001b[0mEPOCH_STARTED\u001b[0m\u001b[0;34m)\u001b[0m\u001b[0;34m\u001b[0m\u001b[0;34m\u001b[0m\u001b[0m\n\u001b[0;32m--> 433\u001b[0;31m                 \u001b[0mhours\u001b[0m\u001b[0;34m,\u001b[0m \u001b[0mmins\u001b[0m\u001b[0;34m,\u001b[0m \u001b[0msecs\u001b[0m \u001b[0;34m=\u001b[0m \u001b[0mself\u001b[0m\u001b[0;34m.\u001b[0m\u001b[0m_run_once_on_dataset\u001b[0m\u001b[0;34m(\u001b[0m\u001b[0;34m)\u001b[0m\u001b[0;34m\u001b[0m\u001b[0;34m\u001b[0m\u001b[0m\n\u001b[0m\u001b[1;32m    434\u001b[0m                 \u001b[0mself\u001b[0m\u001b[0;34m.\u001b[0m\u001b[0m_logger\u001b[0m\u001b[0;34m.\u001b[0m\u001b[0minfo\u001b[0m\u001b[0;34m(\u001b[0m\u001b[0;34m\"Epoch[%s] Complete. Time taken: %02d:%02d:%02d\"\u001b[0m\u001b[0;34m,\u001b[0m \u001b[0mself\u001b[0m\u001b[0;34m.\u001b[0m\u001b[0mstate\u001b[0m\u001b[0;34m.\u001b[0m\u001b[0mepoch\u001b[0m\u001b[0;34m,\u001b[0m \u001b[0mhours\u001b[0m\u001b[0;34m,\u001b[0m \u001b[0mmins\u001b[0m\u001b[0;34m,\u001b[0m \u001b[0msecs\u001b[0m\u001b[0;34m)\u001b[0m\u001b[0;34m\u001b[0m\u001b[0;34m\u001b[0m\u001b[0m\n\u001b[1;32m    435\u001b[0m                 \u001b[0;32mif\u001b[0m \u001b[0mself\u001b[0m\u001b[0;34m.\u001b[0m\u001b[0mshould_terminate\u001b[0m\u001b[0;34m:\u001b[0m\u001b[0;34m\u001b[0m\u001b[0;34m\u001b[0m\u001b[0m\n",
            "\u001b[0;32m/usr/local/lib/python3.6/dist-packages/ignite/engine/engine.py\u001b[0m in \u001b[0;36m_run_once_on_dataset\u001b[0;34m(self)\u001b[0m\n\u001b[1;32m    397\u001b[0m         \u001b[0;32mexcept\u001b[0m \u001b[0mBaseException\u001b[0m \u001b[0;32mas\u001b[0m \u001b[0me\u001b[0m\u001b[0;34m:\u001b[0m\u001b[0;34m\u001b[0m\u001b[0;34m\u001b[0m\u001b[0m\n\u001b[1;32m    398\u001b[0m             \u001b[0mself\u001b[0m\u001b[0;34m.\u001b[0m\u001b[0m_logger\u001b[0m\u001b[0;34m.\u001b[0m\u001b[0merror\u001b[0m\u001b[0;34m(\u001b[0m\u001b[0;34m\"Current run is terminating due to exception: %s.\"\u001b[0m\u001b[0;34m,\u001b[0m \u001b[0mstr\u001b[0m\u001b[0;34m(\u001b[0m\u001b[0me\u001b[0m\u001b[0;34m)\u001b[0m\u001b[0;34m)\u001b[0m\u001b[0;34m\u001b[0m\u001b[0;34m\u001b[0m\u001b[0m\n\u001b[0;32m--> 399\u001b[0;31m             \u001b[0mself\u001b[0m\u001b[0;34m.\u001b[0m\u001b[0m_handle_exception\u001b[0m\u001b[0;34m(\u001b[0m\u001b[0me\u001b[0m\u001b[0;34m)\u001b[0m\u001b[0;34m\u001b[0m\u001b[0;34m\u001b[0m\u001b[0m\n\u001b[0m\u001b[1;32m    400\u001b[0m \u001b[0;34m\u001b[0m\u001b[0m\n\u001b[1;32m    401\u001b[0m         \u001b[0mtime_taken\u001b[0m \u001b[0;34m=\u001b[0m \u001b[0mtime\u001b[0m\u001b[0;34m.\u001b[0m\u001b[0mtime\u001b[0m\u001b[0;34m(\u001b[0m\u001b[0;34m)\u001b[0m \u001b[0;34m-\u001b[0m \u001b[0mstart_time\u001b[0m\u001b[0;34m\u001b[0m\u001b[0;34m\u001b[0m\u001b[0m\n",
            "\u001b[0;32m/usr/local/lib/python3.6/dist-packages/ignite/engine/engine.py\u001b[0m in \u001b[0;36m_handle_exception\u001b[0;34m(self, e)\u001b[0m\n\u001b[1;32m    408\u001b[0m             \u001b[0mself\u001b[0m\u001b[0;34m.\u001b[0m\u001b[0m_fire_event\u001b[0m\u001b[0;34m(\u001b[0m\u001b[0mEvents\u001b[0m\u001b[0;34m.\u001b[0m\u001b[0mEXCEPTION_RAISED\u001b[0m\u001b[0;34m,\u001b[0m \u001b[0me\u001b[0m\u001b[0;34m)\u001b[0m\u001b[0;34m\u001b[0m\u001b[0;34m\u001b[0m\u001b[0m\n\u001b[1;32m    409\u001b[0m         \u001b[0;32melse\u001b[0m\u001b[0;34m:\u001b[0m\u001b[0;34m\u001b[0m\u001b[0;34m\u001b[0m\u001b[0m\n\u001b[0;32m--> 410\u001b[0;31m             \u001b[0;32mraise\u001b[0m \u001b[0me\u001b[0m\u001b[0;34m\u001b[0m\u001b[0;34m\u001b[0m\u001b[0m\n\u001b[0m\u001b[1;32m    411\u001b[0m \u001b[0;34m\u001b[0m\u001b[0m\n\u001b[1;32m    412\u001b[0m     \u001b[0;32mdef\u001b[0m \u001b[0mrun\u001b[0m\u001b[0;34m(\u001b[0m\u001b[0mself\u001b[0m\u001b[0;34m,\u001b[0m \u001b[0mdata\u001b[0m\u001b[0;34m,\u001b[0m \u001b[0mmax_epochs\u001b[0m\u001b[0;34m=\u001b[0m\u001b[0;36m1\u001b[0m\u001b[0;34m)\u001b[0m\u001b[0;34m:\u001b[0m\u001b[0;34m\u001b[0m\u001b[0;34m\u001b[0m\u001b[0m\n",
            "\u001b[0;32m/usr/local/lib/python3.6/dist-packages/ignite/engine/engine.py\u001b[0m in \u001b[0;36m_run_once_on_dataset\u001b[0;34m(self)\u001b[0m\n\u001b[1;32m    389\u001b[0m                 \u001b[0mself\u001b[0m\u001b[0;34m.\u001b[0m\u001b[0mstate\u001b[0m\u001b[0;34m.\u001b[0m\u001b[0miteration\u001b[0m \u001b[0;34m+=\u001b[0m \u001b[0;36m1\u001b[0m\u001b[0;34m\u001b[0m\u001b[0;34m\u001b[0m\u001b[0m\n\u001b[1;32m    390\u001b[0m                 \u001b[0mself\u001b[0m\u001b[0;34m.\u001b[0m\u001b[0m_fire_event\u001b[0m\u001b[0;34m(\u001b[0m\u001b[0mEvents\u001b[0m\u001b[0;34m.\u001b[0m\u001b[0mITERATION_STARTED\u001b[0m\u001b[0;34m)\u001b[0m\u001b[0;34m\u001b[0m\u001b[0;34m\u001b[0m\u001b[0m\n\u001b[0;32m--> 391\u001b[0;31m                 \u001b[0mself\u001b[0m\u001b[0;34m.\u001b[0m\u001b[0mstate\u001b[0m\u001b[0;34m.\u001b[0m\u001b[0moutput\u001b[0m \u001b[0;34m=\u001b[0m \u001b[0mself\u001b[0m\u001b[0;34m.\u001b[0m\u001b[0m_process_function\u001b[0m\u001b[0;34m(\u001b[0m\u001b[0mself\u001b[0m\u001b[0;34m,\u001b[0m \u001b[0mbatch\u001b[0m\u001b[0;34m)\u001b[0m\u001b[0;34m\u001b[0m\u001b[0;34m\u001b[0m\u001b[0m\n\u001b[0m\u001b[1;32m    392\u001b[0m                 \u001b[0mself\u001b[0m\u001b[0;34m.\u001b[0m\u001b[0m_fire_event\u001b[0m\u001b[0;34m(\u001b[0m\u001b[0mEvents\u001b[0m\u001b[0;34m.\u001b[0m\u001b[0mITERATION_COMPLETED\u001b[0m\u001b[0;34m)\u001b[0m\u001b[0;34m\u001b[0m\u001b[0;34m\u001b[0m\u001b[0m\n\u001b[1;32m    393\u001b[0m                 \u001b[0;32mif\u001b[0m \u001b[0mself\u001b[0m\u001b[0;34m.\u001b[0m\u001b[0mshould_terminate\u001b[0m \u001b[0;32mor\u001b[0m \u001b[0mself\u001b[0m\u001b[0;34m.\u001b[0m\u001b[0mshould_terminate_single_epoch\u001b[0m\u001b[0;34m:\u001b[0m\u001b[0;34m\u001b[0m\u001b[0;34m\u001b[0m\u001b[0m\n",
            "\u001b[0;32m/usr/local/lib/python3.6/dist-packages/ignite/engine/__init__.py\u001b[0m in \u001b[0;36m_update\u001b[0;34m(engine, batch)\u001b[0m\n\u001b[1;32m     49\u001b[0m         \u001b[0my_pred\u001b[0m \u001b[0;34m=\u001b[0m \u001b[0mmodel\u001b[0m\u001b[0;34m(\u001b[0m\u001b[0mx\u001b[0m\u001b[0;34m)\u001b[0m\u001b[0;34m\u001b[0m\u001b[0;34m\u001b[0m\u001b[0m\n\u001b[1;32m     50\u001b[0m         \u001b[0mloss\u001b[0m \u001b[0;34m=\u001b[0m \u001b[0mloss_fn\u001b[0m\u001b[0;34m(\u001b[0m\u001b[0my_pred\u001b[0m\u001b[0;34m,\u001b[0m \u001b[0my\u001b[0m\u001b[0;34m)\u001b[0m\u001b[0;34m\u001b[0m\u001b[0;34m\u001b[0m\u001b[0m\n\u001b[0;32m---> 51\u001b[0;31m         \u001b[0mloss\u001b[0m\u001b[0;34m.\u001b[0m\u001b[0mbackward\u001b[0m\u001b[0;34m(\u001b[0m\u001b[0;34m)\u001b[0m\u001b[0;34m\u001b[0m\u001b[0;34m\u001b[0m\u001b[0m\n\u001b[0m\u001b[1;32m     52\u001b[0m         \u001b[0moptimizer\u001b[0m\u001b[0;34m.\u001b[0m\u001b[0mstep\u001b[0m\u001b[0;34m(\u001b[0m\u001b[0;34m)\u001b[0m\u001b[0;34m\u001b[0m\u001b[0;34m\u001b[0m\u001b[0m\n\u001b[1;32m     53\u001b[0m         \u001b[0;32mreturn\u001b[0m \u001b[0moutput_transform\u001b[0m\u001b[0;34m(\u001b[0m\u001b[0mx\u001b[0m\u001b[0;34m,\u001b[0m \u001b[0my\u001b[0m\u001b[0;34m,\u001b[0m \u001b[0my_pred\u001b[0m\u001b[0;34m,\u001b[0m \u001b[0mloss\u001b[0m\u001b[0;34m)\u001b[0m\u001b[0;34m\u001b[0m\u001b[0;34m\u001b[0m\u001b[0m\n",
            "\u001b[0;32m/usr/local/lib/python3.6/dist-packages/torch/tensor.py\u001b[0m in \u001b[0;36mbackward\u001b[0;34m(self, gradient, retain_graph, create_graph)\u001b[0m\n\u001b[1;32m    164\u001b[0m                 \u001b[0mproducts\u001b[0m\u001b[0;34m.\u001b[0m \u001b[0mDefaults\u001b[0m \u001b[0mto\u001b[0m\u001b[0;31m \u001b[0m\u001b[0;31m`\u001b[0m\u001b[0;31m`\u001b[0m\u001b[0;32mFalse\u001b[0m\u001b[0;31m`\u001b[0m\u001b[0;31m`\u001b[0m\u001b[0;34m.\u001b[0m\u001b[0;34m\u001b[0m\u001b[0;34m\u001b[0m\u001b[0m\n\u001b[1;32m    165\u001b[0m         \"\"\"\n\u001b[0;32m--> 166\u001b[0;31m         \u001b[0mtorch\u001b[0m\u001b[0;34m.\u001b[0m\u001b[0mautograd\u001b[0m\u001b[0;34m.\u001b[0m\u001b[0mbackward\u001b[0m\u001b[0;34m(\u001b[0m\u001b[0mself\u001b[0m\u001b[0;34m,\u001b[0m \u001b[0mgradient\u001b[0m\u001b[0;34m,\u001b[0m \u001b[0mretain_graph\u001b[0m\u001b[0;34m,\u001b[0m \u001b[0mcreate_graph\u001b[0m\u001b[0;34m)\u001b[0m\u001b[0;34m\u001b[0m\u001b[0;34m\u001b[0m\u001b[0m\n\u001b[0m\u001b[1;32m    167\u001b[0m \u001b[0;34m\u001b[0m\u001b[0m\n\u001b[1;32m    168\u001b[0m     \u001b[0;32mdef\u001b[0m \u001b[0mregister_hook\u001b[0m\u001b[0;34m(\u001b[0m\u001b[0mself\u001b[0m\u001b[0;34m,\u001b[0m \u001b[0mhook\u001b[0m\u001b[0;34m)\u001b[0m\u001b[0;34m:\u001b[0m\u001b[0;34m\u001b[0m\u001b[0;34m\u001b[0m\u001b[0m\n",
            "\u001b[0;32m/usr/local/lib/python3.6/dist-packages/torch/autograd/__init__.py\u001b[0m in \u001b[0;36mbackward\u001b[0;34m(tensors, grad_tensors, retain_graph, create_graph, grad_variables)\u001b[0m\n\u001b[1;32m     97\u001b[0m     Variable._execution_engine.run_backward(\n\u001b[1;32m     98\u001b[0m         \u001b[0mtensors\u001b[0m\u001b[0;34m,\u001b[0m \u001b[0mgrad_tensors\u001b[0m\u001b[0;34m,\u001b[0m \u001b[0mretain_graph\u001b[0m\u001b[0;34m,\u001b[0m \u001b[0mcreate_graph\u001b[0m\u001b[0;34m,\u001b[0m\u001b[0;34m\u001b[0m\u001b[0;34m\u001b[0m\u001b[0m\n\u001b[0;32m---> 99\u001b[0;31m         allow_unreachable=True)  # allow_unreachable flag\n\u001b[0m\u001b[1;32m    100\u001b[0m \u001b[0;34m\u001b[0m\u001b[0m\n\u001b[1;32m    101\u001b[0m \u001b[0;34m\u001b[0m\u001b[0m\n",
            "\u001b[0;31mKeyboardInterrupt\u001b[0m: "
          ]
        }
      ]
    },
    {
      "cell_type": "code",
      "metadata": {
        "id": "QJ0tW8xZbn0T",
        "colab_type": "code",
        "colab": {}
      },
      "source": [
        "torch.save(model.state_dict(), \"../data/simple_mf_02_bias\")"
      ],
      "execution_count": 0,
      "outputs": []
    },
    {
      "cell_type": "code",
      "metadata": {
        "id": "GwHjyW4gbn0Z",
        "colab_type": "code",
        "colab": {}
      },
      "source": [
        ""
      ],
      "execution_count": 0,
      "outputs": []
    }
  ]
}